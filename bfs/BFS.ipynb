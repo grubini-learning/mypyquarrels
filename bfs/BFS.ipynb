{
 "metadata": {
  "language_info": {
   "codemirror_mode": {
    "name": "ipython",
    "version": 3
   },
   "file_extension": ".py",
   "mimetype": "text/x-python",
   "name": "python",
   "nbconvert_exporter": "python",
   "pygments_lexer": "ipython3",
   "version": 3
  },
  "orig_nbformat": 2,
  "kernelspec": {
   "name": "python_defaultSpec_1597022292066",
   "display_name": "Python 3.8.5 64-bit"
  }
 },
 "nbformat": 4,
 "nbformat_minor": 2,
 "cells": [
  {
   "cell_type": "code",
   "execution_count": null,
   "metadata": {},
   "outputs": [],
   "source": [
    "def transform_data(path):\n",
    "    with open(path, 'r') as my_file:\n",
    "        lines = my_file.readlines()\n",
    "        digits = []\n",
    "        my_dict = {}\n",
    "        for line in lines:\n",
    "            digits.append([int(num) for num in line.split()])\n",
    "    return digits[1:]\n",
    "        "
   ]
  },
  {
   "cell_type": "code",
   "execution_count": null,
   "metadata": {},
   "outputs": [],
   "source": [
    "def create_neighbors_dictionary(my_list):\n",
    "    my_dict = {}\n",
    "    for pair in my_list:\n",
    "        for index in range(0, 2):\n",
    "            if pair[index] not in my_dict:\n",
    "                my_dict[pair[index]] = []\n",
    "    return my_dict"
   ]
  },
  {
   "cell_type": "code",
   "execution_count": null,
   "metadata": {},
   "outputs": [],
   "source": [
    "def get_neighbors(my_list, my_dict):\n",
    "    for pair in my_list:\n",
    "        my_dict[pair[0]].append(pair[1])\n",
    "                \n",
    "    return my_dict"
   ]
  },
  {
   "cell_type": "code",
   "execution_count": null,
   "metadata": {},
   "outputs": [],
   "source": [
    "def generate_paths(my_dict, vertices):\n",
    "    step = 1\n",
    "    slider = 1\n",
    "    steps = [0] * vertices\n",
    "    while step <= vertices:\n",
    "        for number in my_dict[slider]:\n",
    "            steps[number - 1] = step\n",
    "        if len(my_dict[slider]) == 0:\n",
    "            break\n",
    "        slider = my_dict[slider][0]\n",
    "        step += 1\n",
    "    return steps"
   ]
  },
  {
   "cell_type": "code",
   "execution_count": null,
   "metadata": {},
   "outputs": [],
   "source": [
    "def generate_paths_v2(my_dict, vertices):\n",
    "    visited = [1]\n",
    "    step = 1\n",
    "    current = 1\n",
    "    paths = [0] * vertices\n",
    "\n",
    "    while len(visited) > 0:\n",
    "        paired = True\n",
    "        while len(my_dict[current]) > 0:\n",
    "            if len(my_dict[current]) > 0:\n",
    "                if paths[my_dict[current][0] - 1] == 0 and my_dict[current][0] != 1:\n",
    "                    paths[my_dict[current][0] - 1] = step\n",
    "                    visited.append(my_dict[current][0])\n",
    "                my_dict[current].remove(my_dict[current][0])\n",
    "            else:\n",
    "                paired = False\n",
    "        if paired:\n",
    "            step += 1\n",
    "        else:\n",
    "            step -= 1\n",
    "        current = visited.pop()\n",
    "    return paths\n"
   ]
  },
  {
   "cell_type": "code",
   "execution_count": null,
   "metadata": {},
   "outputs": [],
   "source": [
    "0 0 2 1 3 2 . step = 1 . current = 1 .  {3:[5], 5:[], 6:[5], 4:[3, 6], 2: [1], 1:[4]}"
   ]
  },
  {
   "cell_type": "code",
   "execution_count": null,
   "metadata": {},
   "outputs": [],
   "source": [
    "filled_neighbors_dictionary"
   ]
  },
  {
   "cell_type": "code",
   "execution_count": null,
   "metadata": {},
   "outputs": [],
   "source": [
    "def curate_result(my_list):\n",
    "    for index in range(1, len(my_list)):\n",
    "        if my_list[index] == 0:\n",
    "            my_list[index] = -1\n",
    "    return my_list"
   ]
  },
  {
   "cell_type": "code",
   "execution_count": null,
   "metadata": {},
   "outputs": [],
   "source": [
    "my_list = transform_data('rosalind_bfs (1).txt')"
   ]
  },
  {
   "cell_type": "code",
   "execution_count": null,
   "metadata": {},
   "outputs": [],
   "source": [
    "vertices = max(max(my_list))"
   ]
  },
  {
   "cell_type": "code",
   "execution_count": null,
   "metadata": {},
   "outputs": [],
   "source": [
    "empty_neighbors_dictionary = create_neighbors_dictionary(my_list)"
   ]
  },
  {
   "cell_type": "code",
   "execution_count": null,
   "metadata": {},
   "outputs": [],
   "source": [
    "filled_neighbors_dictionary = get_neighbors(my_list, empty_neighbors_dictionary)"
   ]
  },
  {
   "cell_type": "code",
   "execution_count": null,
   "metadata": {},
   "outputs": [],
   "source": [
    "vertices = max(filled_neighbors_dictionary)"
   ]
  },
  {
   "cell_type": "code",
   "execution_count": null,
   "metadata": {
    "tags": []
   },
   "outputs": [],
   "source": [
    "pre_result = generate_paths_v2(filled_neighbors_dictionary, vertices)"
   ]
  },
  {
   "cell_type": "code",
   "execution_count": null,
   "metadata": {
    "tags": []
   },
   "outputs": [],
   "source": [
    "final_result = curate_result(pre_result)"
   ]
  },
  {
   "cell_type": "code",
   "execution_count": null,
   "metadata": {},
   "outputs": [],
   "source": [
    "with open(\"result.txt\", \"w\") as my_file:\n",
    "    my_file.write(str(final_result).strip('[]').replace(\",\", \"\"))"
   ]
  },
  {
   "cell_type": "code",
   "execution_count": null,
   "metadata": {},
   "outputs": [],
   "source": [
    "from collections import deque\n",
    "\n",
    "def compute_paths(adjacent_lists):\n",
    "    paths = [None] * len(adjacent_lists)\n",
    "    paths[0] = 0\n",
    "    q = deque([0])\n",
    "    while len(q):\n",
    "        head = q.popleft()\n",
    "        for adj in adjacent_lists[head]:\n",
    "            if paths[adj] == None:\n",
    "                paths[adj] = paths[head] + 1\n",
    "                q.append(adj)\n",
    "    return paths\n"
   ]
  },
  {
   "cell_type": "code",
   "execution_count": 330,
   "metadata": {
    "tags": []
   },
   "outputs": [],
   "source": [
    "with open('rosalind_bfs (3).txt', 'r') as f: \n",
    "    head = f.readline().strip().split()\n",
    "    size = int(head[0])\n",
    "\n",
    "    #creating an adjacency matrix of x X y\n",
    "    graph = [[0 for x in range(size)] for y in range(size)]\n",
    "\n",
    "    #you get a one for every directed connection between x and y\n",
    "    for line in f:\n",
    "        edge = line.strip().split()\n",
    "        edge[0] = int(edge[0])-1\n",
    "        edge[1] = int(edge[1])-1\n",
    "        #directed only from x to y\n",
    "        graph[edge[0]][edge[1]] = 1\n",
    "\n",
    "    Q = [0]\n",
    "    distances = [-1 for y in range(size)]\n",
    "    #shortest distance\n",
    "    distances[0] = 0\n",
    "    while len(Q) != 0:\n",
    "        #pop the items yopu have seen so far and start with 0 because 1 will be at that position\n",
    "        visited = Q.pop(0)\n",
    "        for vertice in range(size):\n",
    "            if distances[vertice] == -1 and graph[visited][vertice] == 1:\n",
    "                #the next vertice will be 1 more away from than the last\n",
    "                distances[vertice] = distances[visited] + 1\n",
    "                Q.append(vertice)\n",
    "    s = ''\n",
    "    for d in distances:\n",
    "        s += str(d) + ' '"
   ]
  },
  {
   "cell_type": "code",
   "execution_count": 331,
   "metadata": {},
   "outputs": [],
   "source": [
    "with open(\"result.txt\", \"w\") as my_file:\n",
    "    my_file.write(s)"
   ]
  },
  {
   "cell_type": "code",
   "execution_count": null,
   "metadata": {},
   "outputs": [],
   "source": []
  }
 ]
}