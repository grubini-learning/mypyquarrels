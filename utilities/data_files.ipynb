{
 "metadata": {
  "language_info": {
   "codemirror_mode": {
    "name": "ipython",
    "version": 3
   },
   "file_extension": ".py",
   "mimetype": "text/x-python",
   "name": "python",
   "nbconvert_exporter": "python",
   "pygments_lexer": "ipython3",
   "version": 3
  },
  "orig_nbformat": 2,
  "kernelspec": {
   "name": "python_defaultSpec_1596579580142",
   "display_name": "Python 3.8.5 64-bit"
  }
 },
 "nbformat": 4,
 "nbformat_minor": 2,
 "cells": [
  {
   "cell_type": "code",
   "execution_count": 1,
   "metadata": {},
   "outputs": [],
   "source": [
    "def each_chunk(stream, separator):\n",
    "    buffer = ''\n",
    "    while True:\n",
    "        chunk = stream.read(4096)\n",
    "        if not chunk:\n",
    "            yield buffer\n",
    "            break\n",
    "        buffer += chunk\n",
    "        try:\n",
    "            part, buffer = buffer.split(separator, 1)\n",
    "        except ValueError:\n",
    "            break\n",
    "        else:\n",
    "            yield part"
   ]
  },
  {
   "cell_type": "code",
   "execution_count": 8,
   "metadata": {},
   "outputs": [],
   "source": [
    "def get_array_from_text(path):\n",
    "    try:\n",
    "        f = open(path, \"r\")\n",
    "        data = [part for part in f.read().split(\"|\")]\n",
    "    except:\n",
    "        print(\"Reading exception ocurred\")\n",
    "    finally:\n",
    "        f.close()\n",
    "    return data"
   ]
  },
  {
   "cell_type": "code",
   "execution_count": 9,
   "metadata": {},
   "outputs": [],
   "source": [
    "def write_txt_result(name):\n",
    "    try:\n",
    "        f = open(\"result.txt\", \"w\")\n",
    "        f.write(str(positions).strip('[]').replace(',', ''))\n",
    "    except:\n",
    "        print(\"Writing eeception occured\")\n",
    "    finally:\n",
    "        f.close"
   ]
  },
  {
   "cell_type": "code",
   "execution_count": 10,
   "metadata": {},
   "outputs": [],
   "source": [
    "count = 0\n",
    "def create_tuple(position):\n",
    "    count += 1\n",
    "    return (position, count)"
   ]
  },
  {
   "cell_type": "code",
   "execution_count": null,
   "metadata": {},
   "outputs": [],
   "source": []
  }
 ]
}