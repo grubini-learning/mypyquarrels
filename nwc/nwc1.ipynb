{
 "metadata": {
  "language_info": {
   "codemirror_mode": {
    "name": "ipython",
    "version": 3
   },
   "file_extension": ".py",
   "mimetype": "text/x-python",
   "name": "python",
   "nbconvert_exporter": "python",
   "pygments_lexer": "ipython3",
   "version": "3.8.5-final"
  },
  "orig_nbformat": 2,
  "kernelspec": {
   "name": "python_defaultSpec_1597904181967",
   "display_name": "Python 3.8.5 64-bit"
  }
 },
 "nbformat": 4,
 "nbformat_minor": 2,
 "cells": [
  {
   "cell_type": "code",
   "execution_count": 1,
   "metadata": {},
   "outputs": [],
   "source": [
    "import sys\n",
    "\n",
    "def read_dataset(file):\n",
    "    lines = [line.strip() for line in f.readlines()]\n",
    "    n = int(lines[0])\n",
    "    edge_list_array = []\n",
    "    is_begin = True\n",
    "    num_edge = None\n",
    "    edge_list = None\n",
    "    for line in lines[1:]:\n",
    "        if not line:\n",
    "            continue\n",
    "        edge = list(map(int, line.split()))\n",
    "        if is_begin:\n",
    "            is_begin = False\n",
    "            edge_list = [edge]\n",
    "            num_edge = edge[1]\n",
    "            continue    \n",
    "        edge_list.append(edge)\n",
    "        if len(edge_list) - 1 == num_edge:\n",
    "            is_begin = True\n",
    "            edge_list_array.append(edge_list)\n",
    "    assert(n == len(edge_list_array))\n",
    "    return edge_list_array\n",
    "    \n",
    "class Graph():\n",
    "    def __init__(self, edge_list):\n",
    "        self.edge_list = edge_list\n",
    "        self.infinity = 10**20\n",
    "        \n",
    "    def has_negative_weight_cycle(self):\n",
    "        n = self.edge_list[0][0]\n",
    "        d = [self.infinity for i in range(n + 1)]\n",
    "        d[1] = 0\n",
    "        for i in range(1, n - 1):\n",
    "            for u, v, w in self.edge_list[1:]:\n",
    "                if d[v] > d[u] + w:\n",
    "                    d[v] = d[u] + w\n",
    "        for u, v, w in self.edge_list[1:]:\n",
    "            if d[v] > d[u] + w:\n",
    "                return True\n",
    "        return False"
   ]
  },
  {
   "cell_type": "code",
   "execution_count": 2,
   "metadata": {},
   "outputs": [],
   "source": [
    "f = open(\"rosalind_nwc (3).txt\")\n",
    "edge_list_array = read_dataset(f)\n",
    "rv = []\n",
    "for edge_list in edge_list_array:\n",
    "    graph = Graph(edge_list)\n",
    "    if graph.has_negative_weight_cycle():\n",
    "        rv.append(1)\n",
    "    else:\n",
    "        rv.append(-1)\n",
    "with open(\"result1.txt\", \"w\") as f:\n",
    "    f.write(' '.join(map(str, rv)))"
   ]
  },
  {
   "cell_type": "code",
   "execution_count": null,
   "metadata": {},
   "outputs": [],
   "source": []
  }
 ]
}