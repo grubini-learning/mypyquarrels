{
 "metadata": {
  "language_info": {
   "codemirror_mode": {
    "name": "ipython",
    "version": 3
   },
   "file_extension": ".py",
   "mimetype": "text/x-python",
   "name": "python",
   "nbconvert_exporter": "python",
   "pygments_lexer": "ipython3",
   "version": "3.8.5-final"
  },
  "orig_nbformat": 2,
  "kernelspec": {
   "name": "python_defaultSpec_1597904075176",
   "display_name": "Python 3.8.5 64-bit"
  }
 },
 "nbformat": 4,
 "nbformat_minor": 2,
 "cells": [
  {
   "cell_type": "code",
   "execution_count": 1,
   "metadata": {},
   "outputs": [],
   "source": [
    "class Graph:\n",
    "    def __init__(self, vertices, graph):\n",
    "        self.INFINITY = 10 ** 2\n",
    "        self.vertices = vertices\n",
    "        self.distances = [self.INFINITY if _ > 1 else 0 for _ in range(vertices + 1)]\n",
    "        self.graph = graph\n",
    "\n",
    "    def bellman_ford(self):\n",
    "        for _ in range(self.vertices - 1):\n",
    "            for nodea, nodeb, weight in self.graph:\n",
    "                if self.distances[nodeb] > self.distances[nodea] + weight:\n",
    "                    self.distances[nodeb] = self.distances[nodea] + weight\n",
    "\n",
    "    def has_negative(self):\n",
    "        self.bellman_ford()\n",
    "        for nodea, nodeb, weight in self.graph:\n",
    "            if self.distances[nodeb] > self.distances[nodea] + weight:\n",
    "                return \"1\"\n",
    "        return \"-1\"\n",
    "        "
   ]
  },
  {
   "cell_type": "code",
   "execution_count": 5,
   "metadata": {
    "tags": []
   },
   "outputs": [],
   "source": [
    "with open(\"rosalind_nwc (4).txt\", \"r\") as f:\n",
    "    graphs = int(f.readline())\n",
    "    data = f.readlines()\n",
    "    s = \"\"\n",
    "    count = 0\n",
    "    index = 0\n",
    "    graphy = True\n",
    "        \n",
    "    while index < len(data):\n",
    "        vertices, edges = map(int, data[index].split())\n",
    "        index += 1\n",
    "        edge_list = data[index : index + edges + 1]\n",
    "        graph = []\n",
    "        for direction in edge_list:\n",
    "            u, v, w = map(int, direction.split())\n",
    "            graph.append([u, v, w])\n",
    "            count += 1\n",
    "            if count == edges:\n",
    "                new_graph = Graph(vertices, graph)\n",
    "                edge_list.clear()\n",
    "                s += f'{new_graph.has_negative()} '\n",
    "                index += count\n",
    "                count = 0\n",
    "                break\n",
    "with open(\"final_result.txt\", \"w\") as f:\n",
    "    f.write(s.rstrip())"
   ]
  },
  {
   "cell_type": "code",
   "execution_count": null,
   "metadata": {},
   "outputs": [],
   "source": []
  }
 ]
}