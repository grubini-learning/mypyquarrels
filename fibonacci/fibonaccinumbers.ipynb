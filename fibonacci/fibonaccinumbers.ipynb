{
 "metadata": {
  "language_info": {
   "codemirror_mode": {
    "name": "ipython",
    "version": 3
   },
   "file_extension": ".py",
   "mimetype": "text/x-python",
   "name": "python",
   "nbconvert_exporter": "python",
   "pygments_lexer": "ipython3",
   "version": 3
  },
  "orig_nbformat": 2,
  "kernelspec": {
   "name": "python_defaultSpec_1596605036248",
   "display_name": "Python 3.8.5 64-bit"
  }
 },
 "nbformat": 4,
 "nbformat_minor": 2,
 "cells": [
  {
   "cell_type": "code",
   "execution_count": 16,
   "metadata": {},
   "outputs": [],
   "source": [
    "def fibonacci(position):\n",
    "    if position < 1:\n",
    "        return\n",
    "    fibs = [0, 1]\n",
    "    previous = fibs[0]\n",
    "    current = fibs[1]\n",
    "    while(len(fibs) < position + 1):\n",
    "        result = previous + current\n",
    "        fibs.append(result)\n",
    "        previous = current\n",
    "        current = result\n",
    "    return fibs"
   ]
  },
  {
   "cell_type": "code",
   "execution_count": 17,
   "metadata": {},
   "outputs": [
    {
     "output_type": "execute_result",
     "data": {
      "text/plain": "[0, 1, 1, 2, 3, 5]"
     },
     "metadata": {},
     "execution_count": 17
    }
   ],
   "source": [
    "fibonacci(5)"
   ]
  },
  {
   "cell_type": "code",
   "execution_count": 2,
   "metadata": {},
   "outputs": [],
   "source": [
    "def get_fibonacci(position):\n",
    "    if position < 1:\n",
    "        return\n",
    "    fibs = [0, 1]\n",
    "    previous = fibs[0]\n",
    "    current = fibs[1]\n",
    "    while(len(fibs) < position + 1):\n",
    "        result = previous + current\n",
    "        fibs.append(result)\n",
    "        previous = current\n",
    "        current = result\n",
    "    return fibs[-1]"
   ]
  },
  {
   "cell_type": "code",
   "execution_count": 4,
   "metadata": {},
   "outputs": [
    {
     "output_type": "execute_result",
     "data": {
      "text/plain": "6765"
     },
     "metadata": {},
     "execution_count": 4
    }
   ],
   "source": [
    "get_fibonacci(20)"
   ]
  },
  {
   "cell_type": "code",
   "execution_count": null,
   "metadata": {},
   "outputs": [],
   "source": []
  }
 ]
}