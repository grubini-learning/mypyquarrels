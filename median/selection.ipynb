{
 "metadata": {
  "language_info": {
   "codemirror_mode": {
    "name": "ipython",
    "version": 3
   },
   "file_extension": ".py",
   "mimetype": "text/x-python",
   "name": "python",
   "nbconvert_exporter": "python",
   "pygments_lexer": "ipython3",
   "version": 3
  },
  "orig_nbformat": 2,
  "kernelspec": {
   "name": "python_defaultSpec_1597172309303",
   "display_name": "Python 3.8.5 64-bit"
  }
 },
 "nbformat": 4,
 "nbformat_minor": 2,
 "cells": [
  {
   "cell_type": "code",
   "execution_count": 83,
   "metadata": {},
   "outputs": [],
   "source": [
    "arr = [2, 36, 5, 21, 8, 13, 11, 20, 5, 4, 1]"
   ]
  },
  {
   "cell_type": "code",
   "execution_count": 84,
   "metadata": {
    "tags": []
   },
   "outputs": [],
   "source": [
    "def selection_sort(my_list):\n",
    "    end = len(my_list)\n",
    "    for position in range(0, end):\n",
    "        origin = position\n",
    "        smallest = position\n",
    "        for selected in range(position + 1, end):\n",
    "            if my_list[smallest] > my_list[selected]:\n",
    "                smallest = selected\n",
    "        if origin != smallest:\n",
    "            temp = my_list[position]\n",
    "            my_list[position] = my_list[smallest]\n",
    "            my_list[smallest] = temp "
   ]
  },
  {
   "cell_type": "code",
   "execution_count": 104,
   "metadata": {
    "tags": []
   },
   "outputs": [
    {
     "output_type": "stream",
     "name": "stdout",
     "text": "-50243\n"
    }
   ],
   "source": [
    "with open(\"rosalind_med.txt\", \"r\") as my_file:\n",
    "    content = my_file.readlines()\n",
    "    my_list = [int(text) for text in content[1].split()]\n",
    "    final_selection = int(content[2])\n",
    "    merge(my_list)\n",
    "    print(my_list[final_selection - 1])"
   ]
  },
  {
   "cell_type": "code",
   "execution_count": 103,
   "metadata": {},
   "outputs": [],
   "source": [
    "def merge(array):\n",
    "    if len(array) > 1:\n",
    "        middle = len(array) // 2\n",
    "        left_array = array[:middle]\n",
    "        right_array = array[middle:]\n",
    "\n",
    "        merge(left_array)\n",
    "        merge(right_array)\n",
    "\n",
    "        first_index = second_index = new_index = 0\n",
    "        \n",
    "        while first_index < len(left_array) and second_index < len(right_array):\n",
    "            if left_array[first_index] < right_array[second_index]:\n",
    "                array[new_index] = left_array[first_index]\n",
    "                first_index += 1\n",
    "            else:\n",
    "                array[new_index] = right_array[second_index]\n",
    "                second_index += 1\n",
    "            new_index += 1\n",
    "        \n",
    "        while first_index < len(left_array):\n",
    "                array[new_index] = left_array[first_index]\n",
    "                first_index += 1\n",
    "                new_index += 1\n",
    "\n",
    "        while second_index < len(right_array):\n",
    "                array[new_index] = right_array[second_index]\n",
    "                second_index += 1\n",
    "                new_index += 1"
   ]
  },
  {
   "cell_type": "code",
   "execution_count": null,
   "metadata": {},
   "outputs": [],
   "source": []
  }
 ]
}