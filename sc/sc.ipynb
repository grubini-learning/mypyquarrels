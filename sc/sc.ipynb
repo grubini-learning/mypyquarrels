{
 "metadata": {
  "language_info": {
   "codemirror_mode": {
    "name": "ipython",
    "version": 3
   },
   "file_extension": ".py",
   "mimetype": "text/x-python",
   "name": "python",
   "nbconvert_exporter": "python",
   "pygments_lexer": "ipython3",
   "version": "3.8.5-final"
  },
  "orig_nbformat": 2,
  "kernelspec": {
   "name": "python_defaultSpec_1598044427968",
   "display_name": "Python 3.8.5 64-bit"
  }
 },
 "nbformat": 4,
 "nbformat_minor": 2,
 "cells": [
  {
   "cell_type": "code",
   "execution_count": null,
   "metadata": {},
   "outputs": [],
   "source": [
    "Problem\n",
    "A directed graph is semi-connected if for all pairs of vertices i,j there is either a path from i to j or a path from j to i.\n",
    "\n",
    "Given: A positive integer k≤20 and k simple directed graphs with at most 103 vertices each in the edge list format.\n",
    "\n",
    "Return: For each graph, output \"1\" if the graph is semi-connected and \"-1\" otherwise."
   ]
  },
  {
   "cell_type": "code",
   "execution_count": 21,
   "metadata": {},
   "outputs": [],
   "source": [
    "def dfs(graph, start, visited=None):\n",
    "    if visited is None:\n",
    "        visited = set()\n",
    "    visited.add(start)\n",
    "\n",
    "    for next_city in graph[start] - visited:\n",
    "        dfs(graph, next_city, visited)\n",
    "    return visited"
   ]
  },
  {
   "cell_type": "code",
   "execution_count": 31,
   "metadata": {
    "tags": []
   },
   "outputs": [
    {
     "output_type": "stream",
     "name": "stdout",
     "text": "{1, 2, 3}\n{2, 3}\n"
    }
   ],
   "source": [
    "with open(\"test.txt\", \"r\") as f:\n",
    "    graphs = int(f.readline().strip())\n",
    "    f.readline()\n",
    "    result = []\n",
    "\n",
    "    for graph in range(graphs):\n",
    "        vertices, edges = map(int, f.readline().split(\" \"))\n",
    "        dag = {i : set([]) for i in range(vertices + 1)}\n",
    "        sink = False\n",
    "        while True:\n",
    "            line = f.readline()\n",
    "            if line == '\\n' or not line:\n",
    "                break\n",
    "            nodea, nodeb = map(int, line.split())\n",
    "            dag[nodea].add(nodeb)\n",
    "        \n",
    "        for vertex in dag:\n",
    "            visited = dfs(dag, vertex)\n",
    "            if len(visited) == vertices:\n",
    "                sink = True\n",
    "                break\n",
    "        print(visited)\n",
    "        if sink:\n",
    "            result.append(1)\n",
    "        else:\n",
    "            result.append(-1)\n",
    "\n",
    "with open(\"result.txt\", \"w\") as f:\n",
    "    for item in result:\n",
    "        f.write(str(item))\n",
    "        f.write(\" \")"
   ]
  },
  {
   "cell_type": "code",
   "execution_count": null,
   "metadata": {},
   "outputs": [],
   "source": []
  }
 ]
}