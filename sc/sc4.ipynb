{
 "metadata": {
  "language_info": {
   "codemirror_mode": {
    "name": "ipython",
    "version": 3
   },
   "file_extension": ".py",
   "mimetype": "text/x-python",
   "name": "python",
   "nbconvert_exporter": "python",
   "pygments_lexer": "ipython3",
   "version": "3.8.5-final"
  },
  "orig_nbformat": 2,
  "kernelspec": {
   "name": "python_defaultSpec_1598116869064",
   "display_name": "Python 3.8.5 64-bit"
  }
 },
 "nbformat": 4,
 "nbformat_minor": 2,
 "cells": [
  {
   "cell_type": "code",
   "execution_count": 1,
   "metadata": {},
   "outputs": [],
   "source": [
    "class Graph:\n",
    "    def __init__(self, vertices):\n",
    "        self.vertices = vertices\n",
    "        self.edge_list = {vertex: [] for vertex in range(self.vertices + 1)}\n",
    "        self.exploring = []\n",
    "        self.completed = []\n",
    "\n",
    "    def add_edge(self, nodea, nodeb):\n",
    "        self.edge_list[nodea].append(nodeb)\n",
    "\n",
    "    def get_graph(self):\n",
    "        return self.edge_list\n",
    "\n",
    "    def begin(self):\n",
    "        for vertex in range(1, self.vertices + 1):\n",
    "            if not self.dfs(vertex):\n",
    "                    return -1\n",
    "        if self.calculate_indegree():\n",
    "            return 1\n",
    "        return -1\n",
    "    \n",
    "    def dfs(self, start):\n",
    "        current = start\n",
    "        while len(self.completed) < self.vertices:\n",
    "            self.exploring.append(current)\n",
    "\n",
    "            if len(self.edge_list[current]) > 0:\n",
    "                next_city = self.edge_list[current].pop()\n",
    "                self.edge_list[current].insert(0, next_city)\n",
    "                if next_city in self.exploring:\n",
    "                    return False\n",
    "                current = next_city\n",
    "            else:\n",
    "                node_completed = self.exploring.pop()\n",
    "                self.completed.append(node_completed)\n",
    "        return True\n",
    "    \n",
    "    def validation(self, node):\n",
    "        if node in self.exploring:\n",
    "            return False\n",
    "        return True\n",
    "\n",
    "    def calculate_indegree(self):\n",
    "        vertices = [0] * (self.vertices + 1)\n",
    "        vertices[0] = 1\n",
    "\n",
    "        for vertex in range(1, (self.vertices + 1)):\n",
    "            for city in self.edge_list:\n",
    "                if vertex != city:\n",
    "                    if vertex in self.edge_list[city]:\n",
    "                        vertices[vertex] += 1\n",
    "                        break\n",
    "        if vertices.count(0) == 1:\n",
    "            return True\n",
    "        return False\n",
    "        \n"
   ]
  },
  {
   "cell_type": "code",
   "execution_count": 2,
   "metadata": {
    "tags": []
   },
   "outputs": [],
   "source": [
    "with open(\"rosalind_sc.txt\", \"r\") as f:\n",
    "    graphs = int(f.readline().strip())\n",
    "    f.readline()\n",
    "    result = []\n",
    "\n",
    "    for graph in range(graphs):\n",
    "        vertices, edges = map(int, f.readline().split(\" \"))\n",
    "        g = Graph(vertices)\n",
    "        #dag = {i : set([]) for i in range(vertices + 1)}\n",
    "        #sink = False\n",
    "        while True:\n",
    "            line = f.readline()\n",
    "            if line == '\\n' or not line:\n",
    "                break\n",
    "            nodea, nodeb = map(int, line.split())\n",
    "            g.add_edge(nodea, nodeb)\n",
    "        result.append(g.begin())\n",
    "\n",
    "with open(\"result.txt\", \"w\") as f:\n",
    "    for item in result:\n",
    "        f.write(str(item))\n",
    "        f.write(\" \")"
   ]
  },
  {
   "cell_type": "code",
   "execution_count": 61,
   "metadata": {},
   "outputs": [
    {
     "output_type": "execute_result",
     "data": {
      "text/plain": "{0: [], 1: [2], 2: [], 3: [2]}"
     },
     "metadata": {},
     "execution_count": 61
    }
   ],
   "source": [
    "g.get_graph()"
   ]
  },
  {
   "cell_type": "code",
   "execution_count": null,
   "metadata": {},
   "outputs": [],
   "source": []
  }
 ]
}