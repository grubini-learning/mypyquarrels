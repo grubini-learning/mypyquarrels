{
 "metadata": {
  "language_info": {
   "codemirror_mode": {
    "name": "ipython",
    "version": 3
   },
   "file_extension": ".py",
   "mimetype": "text/x-python",
   "name": "python",
   "nbconvert_exporter": "python",
   "pygments_lexer": "ipython3",
   "version": "3.8.5-final"
  },
  "orig_nbformat": 2,
  "kernelspec": {
   "name": "python_defaultSpec_1598116869149",
   "display_name": "Python 3.8.5 64-bit"
  }
 },
 "nbformat": 4,
 "nbformat_minor": 2,
 "cells": [
  {
   "cell_type": "code",
   "execution_count": 83,
   "metadata": {},
   "outputs": [],
   "source": [
    "import copy\n",
    "\n",
    "class Graph:\n",
    "    def __init__(self, vertices):\n",
    "        self.vertices = vertices\n",
    "        self.graph = {vertex: set([]) for vertex in range(self.vertices + 1)}\n",
    "        self.reversed_graph = {vertex: set([]) for vertex in range(self.vertices + 1)}\n",
    "        self.connected_groups = []\n",
    "        self.group_directions = []\n",
    "        self.topological_sort = []\n",
    "        self.edge_list = set()\n",
    "        self.visited = []\n",
    "        self.stack = []\n",
    "\n",
    "    def add_edge(self, origin, destination):\n",
    "        self.graph[origin].add(destination)\n",
    "        self.reversed_graph[destination].add(origin)\n",
    "        self.edge_list.add((origin, destination))\n",
    "\n",
    "    def get_graph(self):\n",
    "        return self.graph\n",
    "    \n",
    "    def get_vertices(self):\n",
    "        return self.vertices\n",
    "    \n",
    "    def get_connected_groups(self):\n",
    "        return self.connected_groups\n",
    "    \n",
    "    def get_topological_sort(self):\n",
    "        return self.topological_sort\n",
    "\n",
    "    def get_edge_list(self):\n",
    "        return self.edge_list\n",
    "\n",
    "    def first_run(self):\n",
    "        for vertex in range(1, self.vertices + 1):\n",
    "            if vertex not in self.visited:\n",
    "                self.dfs(vertex, self.graph)\n",
    "        self.visited.clear()\n",
    "\n",
    "    def get_connected(self):\n",
    "        count = 0\n",
    "        while len(self.stack) > 0:\n",
    "            element = self.stack.pop()\n",
    "            members = set([element])\n",
    "            if element not in self.visited:\n",
    "                self.dfs(element, self.reversed_graph, members)\n",
    "                count += 1\n",
    "                self.connected_groups.append(members)\n",
    "        #self.obtain_group_directions()\n",
    "        return count\n",
    "\n",
    "    #def obtain_group_directions(self):\n",
    "\n",
    "\n",
    "    def dfs(self, start, graph, members = False):\n",
    "        self.visited.append(start)\n",
    "        if members:\n",
    "            members.add(start)\n",
    "\n",
    "        for element in graph[start]:\n",
    "            if element not in self.visited:\n",
    "                self.dfs(element, graph, members)\n",
    "\n",
    "        self.stack.append(start)\n",
    "\n",
    "    #topological sorting\n",
    "    def create_curated_graph(self, edges):\n",
    "        graphhhh = {vertex: set() for vertex in range(self.vertices + 1)}\n",
    "        for edge in edges:\n",
    "            graphhhh[edge[0]].add(edge[1])\n",
    "    \n",
    "        return graphhhh\n",
    "\n",
    "    def validation(self, graph):\n",
    "        self.visited.clear()\n",
    "        for key in graph.keys():\n",
    "            if len(graph[key]) > 0:\n",
    "                if key not in self.visited:\n",
    "                    self.visited.append(key)\n",
    "                    self.dfs_traversal(key, graph)\n",
    "    \n",
    "    def dfs_traversal(self, node, graph):\n",
    "        for neighbor in graph[node]:\n",
    "            if neighbor not in self.visited:\n",
    "                self.visited.append(neighbor)\n",
    "                self.dfs_traversal(neighbor, graph)\n",
    "        self.topological_sort.append(node)\n",
    "\n",
    "    def is_semi_connected(self, scc_group):\n",
    "        \n",
    "        for i in range(len(scc_groups) - 1):\n",
    "            if not self.has_edge_between(scc_groups[i], scc_groups[i + 1]):\n",
    "                return -1\n",
    "        return 1\n",
    "\n",
    "    def has_edge_between(self, from_rep, to_rep):\n",
    "        for from_v in from_rep:\n",
    "            for to_v in to_rep:\n",
    "                if (from_v, to_v) in self.edge_list:\n",
    "                    return True\n",
    "        return False"
   ]
  },
  {
   "cell_type": "code",
   "execution_count": null,
   "metadata": {},
   "outputs": [],
   "source": [
    "{0: set(), 1: {2}, 2: set(), 3: {2}}"
   ]
  },
  {
   "cell_type": "code",
   "execution_count": 18,
   "metadata": {
    "tags": []
   },
   "outputs": [
    {
     "output_type": "stream",
     "name": "stdout",
     "text": "3\n"
    }
   ],
   "source": [
    "with open(\"test copy.txt\", \"r\") as f:\n",
    "    vertices, edges = map(int, f.readline().split())\n",
    "    g = Graph(vertices)\n",
    "\n",
    "    while True:\n",
    "        line = f.readline()\n",
    "        if not line:\n",
    "            break\n",
    "        nodea, nodeb = map(int, line.split())\n",
    "        g.add_edge(nodea, nodeb)\n",
    "    \n",
    "    \n",
    "    g.first_run()\n",
    "    print(g.get_connected())"
   ]
  },
  {
   "cell_type": "code",
   "execution_count": 90,
   "metadata": {
    "tags": []
   },
   "outputs": [],
   "source": [
    "with open(\"rosalind_sc (1).txt\", \"r\") as f:\n",
    "    graphs = int(f.readline().strip())\n",
    "    f.readline()\n",
    "    result = []\n",
    "\n",
    "    for graph in range(graphs):\n",
    "        vertices, edges = map(int, f.readline().split())\n",
    "        g = Graph(vertices)\n",
    "        while True:\n",
    "            line = f.readline()\n",
    "            if line == '\\n' or not line:\n",
    "                break\n",
    "            nodea, nodeb = map(int, line.split())\n",
    "            g.add_edge(nodea, nodeb)\n",
    "\n",
    "        g.first_run()\n",
    "        g.get_connected()\n",
    "        graph = g.get_graph()\n",
    "        #edge_list = g.get_edge_list()\n",
    "        scc_groups = g.get_connected_groups()\n",
    "        result.append(g.is_semi_connected(scc_groups))\n",
    "\n",
    "\n",
    "\n",
    "        #scc_groups = copy.deepcopy(g.get_connected_groups())\n",
    "        #representatives = [group.pop() for group in conn_groups]\n",
    "        #rep_directions = get_represented_directions(graph, scc_groups)\n",
    "        #curated_edges = curate_groups(get_represented_directions(graph, scc_groups), scc_groups, representatives)\n",
    "        #curated_graph = g.create_curated_graph(curated_edges)\n",
    "        #g.validation(curated_graph)\n",
    "        #res = g.get_topological_sort()[::-1]\n",
    "        #print(scc_groups)\n",
    "        #esult.append(res)\n",
    "\n",
    "\n",
    "with open(\"result.txt\", \"w\") as f:\n",
    "    for item in result:\n",
    "        f.write(str(item))\n",
    "        f.write(\" \")"
   ]
  },
  {
   "cell_type": "code",
   "execution_count": 19,
   "metadata": {
    "tags": []
   },
   "outputs": [
    {
     "output_type": "stream",
     "name": "stdout",
     "text": "{2}\n{2}\n"
    }
   ],
   "source": [
    " graph = g.get_graph()\n",
    " scc_groups = copy.deepcopy(g.get_connected_groups())\n",
    " conn_groups = copy.deepcopy(g.get_connected_groups())\n",
    " representatives = [group.pop() for group in conn_groups]\n",
    " rep_directions = get_represented_directions(graph, scc_groups)\n",
    " "
   ]
  },
  {
   "cell_type": "code",
   "execution_count": 21,
   "metadata": {
    "tags": []
   },
   "outputs": [
    {
     "output_type": "stream",
     "name": "stdout",
     "text": "{2}\n{2}\n"
    },
    {
     "output_type": "execute_result",
     "data": {
      "text/plain": "[(3, 2), (1, 2)]"
     },
     "metadata": {},
     "execution_count": 21
    }
   ],
   "source": [
    "curate_groups(get_represented_directions(graph, scc_groups), scc_groups, representatives)"
   ]
  },
  {
   "cell_type": "code",
   "execution_count": 4,
   "metadata": {},
   "outputs": [],
   "source": [
    "def curate_groups(rep_directions, groups, representatives):\n",
    "    finalists = []\n",
    "    for rep_dir in rep_directions:\n",
    "        for index, group in enumerate(groups):\n",
    "            if rep_dir[0] in group:\n",
    "                pointer = index\n",
    "                #print(f'found {rep_dir[0]} and replacing it with {representatives[pointer]}')\n",
    "                finalists.append((representatives[pointer], rep_dir[1]))\n",
    "                break\n",
    "    return finalists"
   ]
  },
  {
   "cell_type": "code",
   "execution_count": 5,
   "metadata": {},
   "outputs": [],
   "source": [
    "def get_represented_directions(graph, groups):\n",
    "    resp_directions = []\n",
    "    for group in groups:\n",
    "        for element in group:\n",
    "            adjs = graph[element]\n",
    "            edge = record_connection(element, adjs, group)\n",
    "            if edge != None:\n",
    "                resp_directions.append(edge)\n",
    "    return resp_directions\n",
    "                "
   ]
  },
  {
   "cell_type": "code",
   "execution_count": 44,
   "metadata": {},
   "outputs": [],
   "source": [
    "def record_connection(element, adjs, group):\n",
    "    for _ in range(1):\n",
    "        other_sccs = set(adjs) - set(group)\n",
    "        if len(other_sccs) > 0:\n",
    "            element_scc = other_sccs.pop()\n",
    "            return (element, element_scc)\n",
    "    return None"
   ]
  },
  {
   "cell_type": "code",
   "execution_count": null,
   "metadata": {},
   "outputs": [],
   "source": []
  }
 ]
}