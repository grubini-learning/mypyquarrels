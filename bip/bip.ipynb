{
 "metadata": {
  "language_info": {
   "codemirror_mode": {
    "name": "ipython",
    "version": 3
   },
   "file_extension": ".py",
   "mimetype": "text/x-python",
   "name": "python",
   "nbconvert_exporter": "python",
   "pygments_lexer": "ipython3",
   "version": "3.8.5-final"
  },
  "orig_nbformat": 2,
  "kernelspec": {
   "name": "python_defaultSpec_1597440959103",
   "display_name": "Python 3.8.5 64-bit"
  }
 },
 "nbformat": 4,
 "nbformat_minor": 2,
 "cells": [
  {
   "cell_type": "code",
   "execution_count": null,
   "metadata": {},
   "outputs": [],
   "source": [
    "Given: A positive integer k≤20 and k simple graphs in the edge list format with at most 103 vertices each.\n",
    "\n",
    "Return: For each graph, output \"1\" if it is bipartite and \"-1\" otherwise.\n",
    "\n",
    "DATA_SET\n",
    "2\n",
    "\n",
    "3 3\n",
    "1 2\n",
    "3 2\n",
    "3 1\n",
    "\n",
    "4 3\n",
    "1 4\n",
    "3 1\n",
    "1 2\n",
    "\n",
    "OUTPUT\n",
    "-1 1"
   ]
  },
  {
   "cell_type": "code",
   "execution_count": 44,
   "metadata": {},
   "outputs": [],
   "source": [
    "team_a = set()\n",
    "team_b = set()\n",
    "\n",
    "\n",
    "def is_bipartite(data_set):\n",
    "    for pair in data_set:\n",
    "        if len(pair) > 0:\n",
    "            vertex_a, vertex_b = pair\n",
    "            if vertex_a == vertex_b: continue\n",
    "            else:\n",
    "                if validate(vertex_a, vertex_b) == -1:\n",
    "                    team_a.clear()\n",
    "                    team_b.clear()\n",
    "                    return -1\n",
    "    team_a.clear()\n",
    "    team_b.clear()\n",
    "    return 1\n",
    "\n",
    "\n",
    "def validate(node_a, node_b):\n",
    "    if node_a not in team_a and node_a not in team_b:\n",
    "        if node_b in team_a:\n",
    "            team_b.add(node_a)\n",
    "        elif node_b in team_b:\n",
    "            team_a.add(node_a)\n",
    "        else:\n",
    "            team_a.add(node_a)\n",
    "            team_b.add(node_b)\n",
    "        return 1\n",
    "\n",
    "    if node_a in team_a and node_b in team_b or node_a in team_b and node_b in team_a:\n",
    "        return 1\n",
    "    elif node_a in team_a and node_b not in team_a:\n",
    "        team_b.add(node_b)\n",
    "        return 1\n",
    "    elif node_a in team_b and node_b not in team_b:\n",
    "        team_a.add(node_b)\n",
    "        return 1\n",
    "    else:\n",
    "        return -1\n",
    "\n"
   ]
  },
  {
   "cell_type": "code",
   "execution_count": null,
   "metadata": {},
   "outputs": [],
   "source": [
    "\n",
    "[[1, 2], [3, 2], [3, 1]]\n",
    "[[1, 4], [3, 1], [1, 2]]"
   ]
  },
  {
   "cell_type": "code",
   "execution_count": 45,
   "metadata": {
    "tags": []
   },
   "outputs": [],
   "source": [
    "with open(\"rosalind_bip.txt\", \"r\") as my_file:\n",
    "        text_data = my_file.readlines()\n",
    "        graphs = int(text_data[0].strip())\n",
    "        data = \"\"\n",
    "        result = []\n",
    "        for line in text_data:\n",
    "            data += line.replace(\"\\n\", \"|\")\n",
    "        data = [[pair for pair in text.split(\"|\")] for text in data.split(\"||\")]\n",
    "\n",
    "        datastest = [[[int(nu) for nu in num.split()]\n",
    "                      for num in number] for number in data[1:]]\n",
    "\n",
    "        for index in range(0, graphs):\n",
    "            \"\"\"vertices, edges = datastest[index][0]\n",
    "            g = Graph(vertices, datastest[index][1:])\n",
    "            answer = g.validation()\n",
    "            result.append(answer)\"\"\"\n",
    "            result.append(is_bipartite(datastest[index][1:]))\n",
    "            \n",
    "            \n",
    "with open('./result.txt', 'w') as f:\n",
    "    for item in result:\n",
    "        f.write(\"%s\" % item)\n",
    "        f.write(\" \")"
   ]
  },
  {
   "cell_type": "code",
   "execution_count": 15,
   "metadata": {
    "tags": []
   },
   "outputs": [
    {
     "output_type": "stream",
     "name": "stdout",
     "text": "False\n"
    }
   ],
   "source": [
    "net = set()\n",
    "\n",
    "net.add(1)\n",
    "net.add(2)\n",
    "net.add(3)\n",
    "\n",
    "print(str(4 in net))"
   ]
  },
  {
   "cell_type": "code",
   "execution_count": null,
   "metadata": {},
   "outputs": [],
   "source": []
  }
 ]
}