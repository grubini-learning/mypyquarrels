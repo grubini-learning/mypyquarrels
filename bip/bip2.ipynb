{
 "metadata": {
  "language_info": {
   "codemirror_mode": {
    "name": "ipython",
    "version": 3
   },
   "file_extension": ".py",
   "mimetype": "text/x-python",
   "name": "python",
   "nbconvert_exporter": "python",
   "pygments_lexer": "ipython3",
   "version": "3.8.5-final"
  },
  "orig_nbformat": 2,
  "kernelspec": {
   "name": "python_defaultSpec_1597451017155",
   "display_name": "Python 3.8.5 64-bit"
  }
 },
 "nbformat": 4,
 "nbformat_minor": 2,
 "cells": [
  {
   "cell_type": "code",
   "execution_count": 48,
   "metadata": {},
   "outputs": [],
   "source": [
    "from enum import Enum\n",
    "\n",
    "class State(Enum):\n",
    "    UNCOLORED = -1\n",
    "    GREEN = 0\n",
    "    RED = 1\n",
    "\n",
    "\n",
    "class Graph:\n",
    "    def __init__(self, vertices, directions):\n",
    "        self.vertices = vertices\n",
    "        self.edge_list = [None] * self.vertices\n",
    "        self.visited = [State.UNCOLORED.value] * self.vertices\n",
    "        self.q = []\n",
    "        self.construct_edge_list()\n",
    "        self.fill_edge_list(directions)\n",
    "\n",
    "    def construct_edge_list(self):\n",
    "        for index in range(self.vertices):\n",
    "            self.edge_list[index] = []\n",
    "\n",
    "    def fill_edge_list(self, directions):\n",
    "        for edge in directions:\n",
    "            if len(edge) > 0:\n",
    "                vertex_one, vertex_two = edge\n",
    "                self.edge_list[vertex_one - 1].append(vertex_two)\n",
    "                self.edge_list[vertex_two - 1].append(vertex_one)\n",
    "\n",
    "    def validation(self):\n",
    "        for index in range(self.vertices):\n",
    "            if self.visited[index] == State.UNCOLORED.value:\n",
    "                color = State.UNCOLORED.value\n",
    "                length = self.vertices\n",
    "                if not self.bfs_traversal(length, index + 1, color):\n",
    "                    return -1\n",
    "        return 1\n",
    "\n",
    "    def bfs_traversal(self, length, node, color):\n",
    "        self.q.append(node)\n",
    "        self.visited[node - 1] = State.GREEN.value\n",
    "\n",
    "        while len(self.q) > 0:\n",
    "            current = self.q.pop(0) - 1\n",
    "            for element in self.edge_list[current]:\n",
    "                if self.visited[element - 1] == self.visited[current]:\n",
    "                    return False\n",
    "                if self.visited[element - 1] == State.UNCOLORED.value:\n",
    "                    if self.visited[current] == State.GREEN:\n",
    "                        self.visited[element - 1] = State.RED\n",
    "                    else:\n",
    "                        self.visited[element - 1] = State.GREEN\n",
    "                    self.q.append(element)\n",
    "        return True"
   ]
  },
  {
   "cell_type": "code",
   "execution_count": 47,
   "metadata": {
    "tags": []
   },
   "outputs": [],
   "source": [
    "with open(\"rosalind_bip (1).txt\", \"r\") as my_file:\n",
    "        text_data = my_file.readlines()\n",
    "        graphs = int(text_data[0].strip())\n",
    "        data = \"\"\n",
    "        result = []\n",
    "        for line in text_data:\n",
    "            data += line.replace(\"\\n\", \"|\")\n",
    "        data = [[pair for pair in text.split(\"|\")]\n",
    "                for text in data.split(\"||\")]\n",
    "\n",
    "        datastest = [[[int(nu) for nu in num.split()]\n",
    "                      for num in number] for number in data[1:]]\n",
    "\n",
    "        for index in range(0, graphs):\n",
    "            vertices, edges = datastest[index][0]\n",
    "            g = Graph(vertices, datastest[index][1:])\n",
    "            result.append(g.validation())\n",
    "\n",
    "\n",
    "with open('./result.txt', 'w') as f:\n",
    "    for item in result:\n",
    "        f.write(\"%s\" % item)\n",
    "        f.write(\" \")"
   ]
  },
  {
   "cell_type": "code",
   "execution_count": null,
   "metadata": {},
   "outputs": [],
   "source": []
  }
 ]
}