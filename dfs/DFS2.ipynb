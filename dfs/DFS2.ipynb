{
 "metadata": {
  "language_info": {
   "codemirror_mode": {
    "name": "ipython",
    "version": 3
   },
   "file_extension": ".py",
   "mimetype": "text/x-python",
   "name": "python",
   "nbconvert_exporter": "python",
   "pygments_lexer": "ipython3",
   "version": 3
  },
  "orig_nbformat": 2,
  "kernelspec": {
   "name": "python_defaultSpec_1597197369464",
   "display_name": "Python 3.8.5 64-bit"
  }
 },
 "nbformat": 4,
 "nbformat_minor": 2,
 "cells": [
  {
   "cell_type": "code",
   "execution_count": null,
   "metadata": {},
   "outputs": [],
   "source": [
    "stack = [1]\n",
    "current = 2\n",
    "\n",
    "ex_set = [[12, 13], [1, 2], [1, 5], [5, 9], [5, 10], [9, 10], [3, 4], [3, 7], [3, 8], [4, 8], [7, 11], [8, 11], [11, 12], [8, 12]]\n",
    "\n",
    "visited = [False, False, False, False, False, False, False, False, False, False]"
   ]
  },
  {
   "cell_type": "code",
   "execution_count": 111,
   "metadata": {},
   "outputs": [],
   "source": [
    "def adjaceny_matrix():\n",
    "    with open('test.txt', 'r') as my_file:\n",
    "        vertices, edges = map(int, my_file.readline().strip().split(\" \"))\n",
    "        graph = [[0 for x in range(vertices)] for y in range(vertices)]\n",
    "        for line in my_file:\n",
    "            pair = list(map(int, line.strip().split(\" \")))\n",
    "            vertex1 = pair[0] - 1\n",
    "            vertex2 = pair[1] - 1\n",
    "            graph[vertex1][vertex2] = 1\n",
    "            graph[vertex2][vertex1] = 1\n",
    "        visited = [False for i in range(vertices)]\n",
    "    return graph, visited"
   ]
  },
  {
   "cell_type": "code",
   "execution_count": 112,
   "metadata": {},
   "outputs": [],
   "source": [
    "graph, visited = adjaceny_matrix()"
   ]
  },
  {
   "cell_type": "code",
   "execution_count": 114,
   "metadata": {},
   "outputs": [
    {
     "output_type": "execute_result",
     "data": {
      "text/plain": "[[0, 1, 0, 0, 1, 0, 0, 0, 0, 0, 0, 0],\n [1, 0, 0, 0, 0, 0, 0, 0, 0, 0, 0, 0],\n [0, 0, 0, 1, 0, 0, 1, 1, 0, 0, 0, 0],\n [0, 0, 1, 0, 0, 0, 0, 1, 0, 0, 0, 0],\n [1, 0, 0, 0, 0, 0, 0, 0, 1, 1, 0, 0],\n [0, 0, 0, 0, 0, 0, 0, 0, 0, 0, 0, 0],\n [0, 0, 1, 0, 0, 0, 0, 0, 0, 0, 1, 0],\n [0, 0, 1, 1, 0, 0, 0, 0, 0, 0, 1, 1],\n [0, 0, 0, 0, 1, 0, 0, 0, 0, 1, 0, 0],\n [0, 0, 0, 0, 1, 0, 0, 0, 1, 0, 0, 0],\n [0, 0, 0, 0, 0, 0, 1, 1, 0, 0, 0, 1],\n [0, 0, 0, 0, 0, 0, 0, 1, 0, 0, 1, 0]]"
     },
     "metadata": {},
     "execution_count": 114
    }
   ],
   "source": [
    "graph"
   ]
  },
  {
   "cell_type": "code",
   "execution_count": 113,
   "metadata": {
    "tags": []
   },
   "outputs": [
    {
     "output_type": "execute_result",
     "data": {
      "text/plain": "3"
     },
     "metadata": {},
     "execution_count": 113
    }
   ],
   "source": [
    "dfs_v2(graph, visited)"
   ]
  },
  {
   "cell_type": "code",
   "execution_count": null,
   "metadata": {},
   "outputs": [],
   "source": [
    "def dfs_v2(graph, visited):\n",
    "    cc = 0\n",
    "    vertices = len(graph[0])\n",
    "    stack = []\n",
    "\n",
    "    while False in visited:\n",
    "        row = visited.index(False)\n",
    "        stack.append(row)\n",
    "        visited[row] = True\n",
    "        while len(stack) > 0:\n",
    "            row = stack.pop()\n",
    "            column = 0\n",
    "            while column < vertices:\n",
    "                if graph[row][column] == 1:\n",
    "                    if visited[column] == False:\n",
    "                        visited[column] = True\n",
    "                        stack.append(column)\n",
    "\n",
    "                column += 1\n",
    "        cc += 1\n",
    "    return cc"
   ]
  },
  {
   "cell_type": "code",
   "execution_count": null,
   "metadata": {},
   "outputs": [],
   "source": [
    "def dfs(graph, visited):\n",
    "    cc = 0\n",
    "    vertices = len(graph[0])\n",
    "    stack = []\n",
    "    column = 1\n",
    "\n",
    "    while False in visited:\n",
    "        print(\"1\")\n",
    "        city = visited.index(False)\n",
    "        stack.append(city)\n",
    "        visited[city] = True\n",
    "        row = city\n",
    "        column = 0\n",
    "        while len(stack) > 0:\n",
    "            print(\"2\")\n",
    "            edge_exist = graph[row][column] ## get the edge\n",
    "            has_been_visited = visited[column] == True\n",
    "            if has_been_visited:\n",
    "                #jump to the next from somrwhere\n",
    "                print(f\" visited {visited} {column}\")\n",
    "\n",
    "                row = stack.pop()\n",
    "                print(f'this is popped {row}')\n",
    "                column = 0\n",
    "            else:\n",
    "                print(\"4\")\n",
    "                if edge_exist == 1:\n",
    "                    print(\"5\")\n",
    "                    visited[column] = True\n",
    "                    stack.append(row)\n",
    "                    stack.append(column)\n",
    "                if column == vertices:\n",
    "                    print(\"6\")\n",
    "                    row = stack.pop()\n",
    "                    column = 0\n",
    "                else:\n",
    "                    print(\"7\")\n",
    "                    column += 1\n",
    "        cc += 1\n",
    "        print(\"8\")\n",
    "    return cc\n"
   ]
  }
 ]
}