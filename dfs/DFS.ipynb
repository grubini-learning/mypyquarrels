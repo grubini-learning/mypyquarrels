{
 "metadata": {
  "language_info": {
   "codemirror_mode": {
    "name": "ipython",
    "version": 3
   },
   "file_extension": ".py",
   "mimetype": "text/x-python",
   "name": "python",
   "nbconvert_exporter": "python",
   "pygments_lexer": "ipython3",
   "version": 3
  },
  "orig_nbformat": 2,
  "kernelspec": {
   "name": "python_defaultSpec_1597091697595",
   "display_name": "Python 3.8.5 64-bit"
  }
 },
 "nbformat": 4,
 "nbformat_minor": 2,
 "cells": [
  {
   "cell_type": "code",
   "execution_count": null,
   "metadata": {},
   "outputs": [],
   "source": [
    "result = map(int, ['123', '321'])"
   ]
  },
  {
   "cell_type": "code",
   "execution_count": null,
   "metadata": {
    "tags": []
   },
   "outputs": [],
   "source": []
  },
  {
   "cell_type": "code",
   "execution_count": null,
   "metadata": {},
   "outputs": [],
   "source": [
    "def transform_data(path):\n",
    "    with open(path, 'r') as my_file:\n",
    "        lines = my_file.readline()\n",
    "        print(map(int, my_file.readline().split()))\n",
    "        digits = []\n",
    "        for line in lines:\n",
    "            digits.append([int(num) for num in line.split()])\n",
    "        missing = int(lines[0][1]) - int(lines[0][0])\n",
    "\n",
    "    return  missing, digits[1:]"
   ]
  },
  {
   "cell_type": "code",
   "execution_count": null,
   "metadata": {},
   "outputs": [],
   "source": [
    "def adjaceny_matrix(my_list, size):\n",
    "    graph = [[0 for x in range(size)] for y in range(size)]\n",
    "\n",
    "    for pair in range(size):\n",
    "        vertice1 = int(my_list[pair][0] - 1)\n",
    "        vertice2 = int(my_list[pair][1] - 1)\n",
    "        graph[vertice1][vertice2] = 1\n",
    "    return graph"
   ]
  },
  {
   "cell_type": "code",
   "execution_count": null,
   "metadata": {},
   "outputs": [],
   "source": [
    "def verify_presence(my_list, node):\n",
    "    current_pair = None\n",
    "    for index in range(0, len(my_list)):\n",
    "        current_pair = my_list[index]\n",
    "        if current_pair[0] == node:\n",
    "            return index\n",
    "    return -1\n"
   ]
  },
  {
   "cell_type": "code",
   "execution_count": null,
   "metadata": {},
   "outputs": [],
   "source": [
    "ml = [[3, 4], [3, 7], [3, 8], [4, 8], [7, 11], [8, 11], [11, 12], [8, 12]]\n",
    "\n",
    "seen = [1, 1, 0, 0, 1, 0, 0, 0, 0, 0, 0, 0]\n",
    "\n",
    "stack = []"
   ]
  },
  {
   "cell_type": "code",
   "execution_count": null,
   "metadata": {},
   "outputs": [],
   "source": [
    "def count_zeros(my_list):\n",
    "    count = 0\n",
    "    for number in my_list:\n",
    "        if number == 0:\n",
    "            count += 1\n",
    "    return count"
   ]
  },
  {
   "cell_type": "code",
   "execution_count": null,
   "metadata": {},
   "outputs": [],
   "source": [
    "def set_creation(my_list):\n",
    "    manipulated_set = set()\n",
    "    for pair in my_list:\n",
    "        manipulated_set.add(pair[0])\n",
    "        manipulated_set.add(pair[1])\n",
    "    return manipulated_set"
   ]
  },
  {
   "cell_type": "code",
   "execution_count": null,
   "metadata": {
    "tags": []
   },
   "outputs": [],
   "source": [
    "print(my_list[0])"
   ]
  },
  {
   "cell_type": "code",
   "execution_count": null,
   "metadata": {},
   "outputs": [],
   "source": [
    "def dfs_traversal(my_list, size, missing):\n",
    "    manipulate_list = (pair for pair in my_list)\n",
    "    stack = [manipulate_list[0][0]]\n",
    "    cc = 0\n",
    "    \n",
    "    while len(manipulate_list) > 0:\n",
    "        stack.append(manipulate_list[0][0])\n",
    "        while len(stack) > 0:\n",
    "            vertice = stack.pop()\n",
    "            position = verify_presence(manipulate_list, vertice)\n",
    "            if position >= 0:\n",
    "                stack.append(vertice)\n",
    "                stack.append(manipulate_list[position][1])\n",
    "                manipulate_list.pop(position)\n",
    "            \n",
    "        cc += 1\n",
    "    cc += missing\n",
    "    return cc\n"
   ]
  },
  {
   "cell_type": "code",
   "execution_count": null,
   "metadata": {
    "tags": []
   },
   "outputs": [],
   "source": [
    "missing, my_list = transform_data('rosalind_cc (2).txt')"
   ]
  },
  {
   "cell_type": "code",
   "execution_count": null,
   "metadata": {},
   "outputs": [],
   "source": [
    "graph = {i+1:[] for i in range(902)}"
   ]
  },
  {
   "cell_type": "code",
   "execution_count": 118,
   "metadata": {},
   "outputs": [
    {
     "output_type": "error",
     "ename": "KeyError",
     "evalue": "1120",
     "traceback": [
      "\u001b[0;31m---------------------------------------------------------------------------\u001b[0m",
      "\u001b[0;31mKeyError\u001b[0m                                  Traceback (most recent call last)",
      "\u001b[0;32m<ipython-input-118-9ca815be5949>\u001b[0m in \u001b[0;36m<module>\u001b[0;34m\u001b[0m\n\u001b[1;32m      3\u001b[0m         \u001b[0ml\u001b[0m \u001b[0;34m=\u001b[0m \u001b[0mlist\u001b[0m\u001b[0;34m(\u001b[0m\u001b[0mmap\u001b[0m\u001b[0;34m(\u001b[0m\u001b[0mint\u001b[0m\u001b[0;34m,\u001b[0m \u001b[0mline\u001b[0m\u001b[0;34m.\u001b[0m\u001b[0mstrip\u001b[0m\u001b[0;34m(\u001b[0m\u001b[0;34m)\u001b[0m\u001b[0;34m.\u001b[0m\u001b[0msplit\u001b[0m\u001b[0;34m(\u001b[0m\u001b[0;34m\" \"\u001b[0m\u001b[0;34m)\u001b[0m\u001b[0;34m)\u001b[0m\u001b[0;34m)\u001b[0m\u001b[0;34m\u001b[0m\u001b[0;34m\u001b[0m\u001b[0m\n\u001b[1;32m      4\u001b[0m         \u001b[0mgraph\u001b[0m\u001b[0;34m[\u001b[0m\u001b[0ml\u001b[0m\u001b[0;34m[\u001b[0m\u001b[0;36m0\u001b[0m\u001b[0;34m]\u001b[0m\u001b[0;34m]\u001b[0m\u001b[0;34m.\u001b[0m\u001b[0mappend\u001b[0m\u001b[0;34m(\u001b[0m\u001b[0ml\u001b[0m\u001b[0;34m[\u001b[0m\u001b[0;36m1\u001b[0m\u001b[0;34m]\u001b[0m\u001b[0;34m)\u001b[0m\u001b[0;34m\u001b[0m\u001b[0;34m\u001b[0m\u001b[0m\n\u001b[0;32m----> 5\u001b[0;31m         \u001b[0mgraph\u001b[0m\u001b[0;34m[\u001b[0m\u001b[0ml\u001b[0m\u001b[0;34m[\u001b[0m\u001b[0;36m1\u001b[0m\u001b[0;34m]\u001b[0m\u001b[0;34m]\u001b[0m\u001b[0;34m.\u001b[0m\u001b[0mappend\u001b[0m\u001b[0;34m(\u001b[0m\u001b[0ml\u001b[0m\u001b[0;34m[\u001b[0m\u001b[0;36m0\u001b[0m\u001b[0;34m]\u001b[0m\u001b[0;34m)\u001b[0m\u001b[0;34m\u001b[0m\u001b[0;34m\u001b[0m\u001b[0m\n\u001b[0m",
      "\u001b[0;31mKeyError\u001b[0m: 1120"
     ]
    }
   ],
   "source": [
    "with open('rosalind_cc (2).txt', 'r') as my_file:\n",
    "    for line in my_file:\n",
    "        l = list(map(int, line.strip().split(\" \")))\n",
    "        graph[l[0]].append(l[1])\n",
    "        graph[l[1]].append(l[0])"
   ]
  },
  {
   "cell_type": "code",
   "execution_count": null,
   "metadata": {},
   "outputs": [],
   "source": [
    "graph"
   ]
  },
  {
   "cell_type": "code",
   "execution_count": null,
   "metadata": {},
   "outputs": [],
   "source": [
    "import itertools"
   ]
  },
  {
   "cell_type": "code",
   "execution_count": null,
   "metadata": {},
   "outputs": [],
   "source": [
    "my_list = list(k for k,_ in itertools.groupby(my_list))"
   ]
  },
  {
   "cell_type": "code",
   "execution_count": null,
   "metadata": {
    "tags": []
   },
   "outputs": [],
   "source": [
    "dfs_traversal(my_list, len(my_list), missing)"
   ]
  },
  {
   "cell_type": "code",
   "execution_count": null,
   "metadata": {},
   "outputs": [],
   "source": [
    "227 + 218"
   ]
  },
  {
   "cell_type": "code",
   "execution_count": 128,
   "metadata": {},
   "outputs": [
    {
     "output_type": "execute_result",
     "data": {
      "text/plain": "[944, 977]"
     },
     "metadata": {},
     "execution_count": 128
    }
   ],
   "source": [
    "f = open(\"rosalind_cc.txt\", \"r\")\n",
    "list(map(int, f.readline().strip().split(\" \")))\n",
    "    #my_file.write(str(set_creation(my_list)).strip('[]').replace(\",\", \"\"))"
   ]
  },
  {
   "cell_type": "code",
   "execution_count": 129,
   "metadata": {},
   "outputs": [
    {
     "output_type": "execute_result",
     "data": {
      "text/plain": "[False, False, False, False, False]"
     },
     "metadata": {},
     "execution_count": 129
    }
   ],
   "source": [
    "[False for i in range(4+1)]"
   ]
  },
  {
   "cell_type": "code",
   "execution_count": null,
   "metadata": {},
   "outputs": [],
   "source": [
    "{\n",
    "    1: [2, 5],\n",
    "    2: [1]\n",
    "}"
   ]
  },
  {
   "cell_type": "code",
   "execution_count": null,
   "metadata": {
    "tags": []
   },
   "outputs": [],
   "source": [
    "print(len(my_list))\n",
    "print(len(set_creation(my_list)))"
   ]
  }
 ]
}