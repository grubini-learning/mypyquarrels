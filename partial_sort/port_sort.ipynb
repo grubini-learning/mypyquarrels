{
 "metadata": {
  "language_info": {
   "codemirror_mode": {
    "name": "ipython",
    "version": 3
   },
   "file_extension": ".py",
   "mimetype": "text/x-python",
   "name": "python",
   "nbconvert_exporter": "python",
   "pygments_lexer": "ipython3",
   "version": 3
  },
  "orig_nbformat": 2,
  "kernelspec": {
   "name": "python_defaultSpec_1597130671613",
   "display_name": "Python 3.8.5 64-bit"
  }
 },
 "nbformat": 4,
 "nbformat_minor": 2,
 "cells": [
  {
   "cell_type": "code",
   "execution_count": 6,
   "metadata": {},
   "outputs": [],
   "source": [
    "def merge(array):\n",
    "    if len(array) > 1:\n",
    "        middle = len(array) // 2\n",
    "        left_array = array[:middle]\n",
    "        right_array = array[middle:]\n",
    "\n",
    "        merge(left_array)\n",
    "        merge(right_array)\n",
    "\n",
    "        first_index = second_index = new_index = 0\n",
    "        \n",
    "        while first_index < len(left_array) and second_index < len(right_array):\n",
    "            if left_array[first_index] < right_array[second_index]:\n",
    "                array[new_index] = left_array[first_index]\n",
    "                first_index += 1\n",
    "            else:\n",
    "                array[new_index] = right_array[second_index]\n",
    "                second_index += 1\n",
    "            new_index += 1\n",
    "        \n",
    "        while first_index < len(left_array):\n",
    "                array[new_index] = left_array[first_index]\n",
    "                first_index += 1\n",
    "                new_index += 1\n",
    "\n",
    "        while second_index < len(right_array):\n",
    "                array[new_index] = right_array[second_index]\n",
    "                second_index += 1\n",
    "                new_index += 1"
   ]
  },
  {
   "cell_type": "code",
   "execution_count": 30,
   "metadata": {
    "tags": []
   },
   "outputs": [],
   "source": [
    "with open(\"rosalind_ps (1).txt\", \"r\") as my_file:\n",
    "    text_data = my_file.readlines()\n",
    "    int_array = [int(text) for text in text_data[1].split()]\n",
    "    "
   ]
  },
  {
   "cell_type": "code",
   "execution_count": 31,
   "metadata": {},
   "outputs": [],
   "source": [
    "merge(int_array)"
   ]
  },
  {
   "cell_type": "code",
   "execution_count": 8,
   "metadata": {},
   "outputs": [
    {
     "output_type": "execute_result",
     "data": {
      "text/plain": "[-9, -6, 4, 7, 8, 12, 13, 17, 56, 100]"
     },
     "metadata": {},
     "execution_count": 8
    }
   ],
   "source": [
    "int_array"
   ]
  },
  {
   "cell_type": "code",
   "execution_count": 34,
   "metadata": {},
   "outputs": [],
   "source": [
    "result_array = int_array[:816]"
   ]
  },
  {
   "cell_type": "code",
   "execution_count": 13,
   "metadata": {},
   "outputs": [
    {
     "output_type": "execute_result",
     "data": {
      "text/plain": "[-9, -6, 4, 7]"
     },
     "metadata": {},
     "execution_count": 13
    }
   ],
   "source": [
    "result"
   ]
  },
  {
   "cell_type": "code",
   "execution_count": 35,
   "metadata": {},
   "outputs": [],
   "source": [
    "with open('result_majority_element.txt','w') as f: \n",
    "    for item in result_array: \n",
    "        f.write(\"%d\" % item) \n",
    "        f.write(\" \")"
   ]
  },
  {
   "cell_type": "code",
   "execution_count": null,
   "metadata": {},
   "outputs": [],
   "source": []
  }
 ]
}