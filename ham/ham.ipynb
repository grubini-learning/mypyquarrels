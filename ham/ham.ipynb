{
 "metadata": {
  "language_info": {
   "codemirror_mode": {
    "name": "ipython",
    "version": 3
   },
   "file_extension": ".py",
   "mimetype": "text/x-python",
   "name": "python",
   "nbconvert_exporter": "python",
   "pygments_lexer": "ipython3",
   "version": "3.8.5-final"
  },
  "orig_nbformat": 2,
  "kernelspec": {
   "name": "python_defaultSpec_1597772012571",
   "display_name": "Python 3.8.5 64-bit"
  }
 },
 "nbformat": 4,
 "nbformat_minor": 2,
 "cells": [
  {
   "cell_type": "code",
   "execution_count": null,
   "metadata": {},
   "outputs": [],
   "source": [
    "A Hamiltonian path is a path in a graph that visits each vertex exactly once. Checking whether a graph contains a Hamiltonian path is a well-known hard problem. At the same time it is easy to perform such a check if a given graph is a DAG.\n",
    "\n",
    "Given: A positive integer k≤20 and k simple directed acyclic graphs in the edge list format with at most 103 vertices each.\n",
    "\n",
    "Return: For each graph, if it contains a Hamiltonian path output \"1\" followed by a Hamiltonian path (i.e., a list of vertices), otherwise output \"-1\"."
   ]
  },
  {
   "cell_type": "code",
   "execution_count": 29,
   "metadata": {},
   "outputs": [],
   "source": [
    "class Graph:\n",
    "    def __init__(self, vertices):\n",
    "        self.vertices = vertices\n",
    "        self.visited = [False] * (vertices + 1)\n",
    "        self.directions = {vertex: set() for vertex in range(vertices + 1)}\n",
    "\n",
    "    def add_edge(self, nodea, nodeb):\n",
    "        self.directions[nodea].add(nodeb)\n",
    "\n",
    "    def get_directions(self):\n",
    "        return self.directions\n",
    "\n",
    "    def start_trip(self):\n",
    "        for vertex in range(1, self.vertices + 1):\n",
    "            self.visited = []\n",
    "            if self.ham_cycle(vertex):\n",
    "                return [1] + self.visited\n",
    "        return -1\n",
    "\n",
    "    def ham_cycle(self, city):\n",
    "        self.visited.append(city)\n",
    "        adjs = self.directions[city]\n",
    "\n",
    "        while len(self.visited) > 0:\n",
    "            if len(adjs) > 0:\n",
    "                for adj in adjs:\n",
    "                    self.visited.append(adj)\n",
    "                    if len(self.visited) == self.vertices:\n",
    "                        return True\n",
    "                    elif len(self.directions[adj]) == 0:\n",
    "                        if list(adjs)[-1] == adj:\n",
    "                            return False\n",
    "                        else:\n",
    "                            self.visited.pop()\n",
    "                            continue\n",
    "                    else:\n",
    "                        adjs = self.directions[adj]\n",
    "                        break\n",
    "            else:\n",
    "                self.visited.pop()\n",
    "        if len(self.visited) + 1 < self.vertices:\n",
    "            self.visited.clear()\n",
    "        return False\n",
    "\n",
    "            \n",
    "                \n",
    "\n",
    "        "
   ]
  },
  {
   "cell_type": "code",
   "execution_count": 34,
   "metadata": {
    "tags": []
   },
   "outputs": [],
   "source": [
    "with open(\"test.txt\", \"r\") as my_file:\n",
    "        graphs = int(my_file.readline())\n",
    "        my_file.readline()\n",
    "        result = []\n",
    "\n",
    "        for index in range(graphs):\n",
    "            vertices, edges = map(int, my_file.readline().split())\n",
    "            g = Graph(vertices)\n",
    "            for edge in range(edges):\n",
    "                nodea, nodeb = map(int, my_file.readline().split())\n",
    "                if nodea != nodeb and nodea not in g.get_directions()[nodeb]:\n",
    "                    g.add_edge(nodea, nodeb)\n",
    "            result.append(g.start_trip())\n",
    "            my_file.readline()\n",
    "\n",
    "with open('./result.txt', 'w') as f:\n",
    "    for item in result:\n",
    "        if type(item) == list:\n",
    "           s = \" \".join(map(str, item))\n",
    "        else:\n",
    "            s = str(item)\n",
    "        f.write(\"%s\" % s)\n",
    "        f.write(\"\\n\")"
   ]
  },
  {
   "cell_type": "code",
   "execution_count": 32,
   "metadata": {},
   "outputs": [
    {
     "output_type": "execute_result",
     "data": {
      "text/plain": "[[1, 1, 3, 3], [1, 3, 2, 2, 2]]"
     },
     "metadata": {},
     "execution_count": 32
    }
   ],
   "source": [
    "result"
   ]
  },
  {
   "cell_type": "code",
   "execution_count": 8,
   "metadata": {},
   "outputs": [
    {
     "output_type": "execute_result",
     "data": {
      "text/plain": "{0: set(), 1: {2, 5}, 2: {3}, 3: {4}, 4: {5}, 5: {6}, 6: set()}"
     },
     "metadata": {},
     "execution_count": 8
    }
   ],
   "source": [
    "g.get_directions()"
   ]
  },
  {
   "cell_type": "code",
   "execution_count": null,
   "metadata": {},
   "outputs": [],
   "source": []
  }
 ]
}