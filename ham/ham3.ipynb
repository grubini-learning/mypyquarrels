{
 "metadata": {
  "language_info": {
   "codemirror_mode": {
    "name": "ipython",
    "version": 3
   },
   "file_extension": ".py",
   "mimetype": "text/x-python",
   "name": "python",
   "nbconvert_exporter": "python",
   "pygments_lexer": "ipython3",
   "version": "3.8.5-final"
  },
  "orig_nbformat": 2,
  "kernelspec": {
   "name": "python_defaultSpec_1597807156904",
   "display_name": "Python 3.8.5 64-bit"
  }
 },
 "nbformat": 4,
 "nbformat_minor": 2,
 "cells": [
  {
   "cell_type": "code",
   "execution_count": 91,
   "metadata": {},
   "outputs": [],
   "source": [
    "class Graph:\n",
    "    def __init__(self, vertices):\n",
    "        self.vertices = vertices\n",
    "        self.directions = {vertex: set() for vertex in range(vertices + 1)}\n",
    "        self.seen = set()\n",
    "        self.topological_sort = []\n",
    "        self.stack = []\n",
    "\n",
    "    def add_edge(self, nodea, nodeb):\n",
    "        self.directions[nodea].add(nodeb)\n",
    "\n",
    "    def get_graph(self):\n",
    "        return self.directions\n",
    "\n",
    "    def get_topological_sort(self):\n",
    "        return self.topological_sort\n",
    "\n",
    "    def get_seen(self):\n",
    "        return self.seen\n",
    "\n",
    "    def validation(self):\n",
    "        for key in self.directions.keys():\n",
    "            if len(self.directions[key]) > 0:\n",
    "                if key not in self.seen:\n",
    "                    self.seen.add(key)\n",
    "                    self.dfs_traversal(key)\n",
    "\n",
    "    def dfs_traversal(self, node):\n",
    "        self.seen.add(node)\n",
    "        for neighbor in self.directions[node]:\n",
    "            if neighbor not in self.seen:\n",
    "                self.dfs_traversal(neighbor)\n",
    "        self.topological_sort.insert(0, node)\n",
    "\n",
    "    def check_consecutive(self):\n",
    "        for i in range(len(self.topological_sort) - 1):\n",
    "            if self.topological_sort[i + 1] not in self.directions[self.topological_sort[i]]:\n",
    "                return False\n",
    "        return True"
   ]
  },
  {
   "cell_type": "code",
   "execution_count": 93,
   "metadata": {
    "tags": []
   },
   "outputs": [],
   "source": [
    "with open(\"rosalind_hdag (1).txt\", \"r\") as f:\n",
    "    graphs = int(f.readline().strip())\n",
    "    f.readline()\n",
    "    result = []\n",
    "\n",
    "    for graph in range(graphs):\n",
    "        vertices, edges = map(int, f.readline().split(\" \"))\n",
    "        g = Graph(vertices)\n",
    "        while True:\n",
    "            line = f.readline()\n",
    "            if line == '\\n' or not line:\n",
    "                break\n",
    "            nodea, nodeb = map(int, line.split())\n",
    "            g.add_edge(nodea, nodeb)\n",
    "\n",
    "        g.validation()\n",
    "\n",
    "        if g.check_consecutive():\n",
    "            s = \"1\"\n",
    "            for vertex in g.get_topological_sort():\n",
    "                s += str(f' {vertex}')\n",
    "            result.append(s)\n",
    "        else:\n",
    "            result.append(\"-1\")\n",
    "    \n",
    "\n",
    "    \n",
    "\n",
    "with open(\"result.txt\", \"w\") as f:\n",
    "    for item in result:\n",
    "        f.write(item)\n",
    "        f.write(\"\\n\")"
   ]
  },
  {
   "cell_type": "code",
   "execution_count": null,
   "metadata": {},
   "outputs": [],
   "source": []
  },
  {
   "cell_type": "code",
   "execution_count": null,
   "metadata": {},
   "outputs": [],
   "source": []
  }
 ]
}