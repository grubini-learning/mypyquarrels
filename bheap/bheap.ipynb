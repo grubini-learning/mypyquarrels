{
 "metadata": {
  "language_info": {
   "codemirror_mode": {
    "name": "ipython",
    "version": 3
   },
   "file_extension": ".py",
   "mimetype": "text/x-python",
   "name": "python",
   "nbconvert_exporter": "python",
   "pygments_lexer": "ipython3",
   "version": 3
  },
  "orig_nbformat": 2,
  "kernelspec": {
   "name": "python_defaultSpec_1596908447412",
   "display_name": "Python 3.8.5 64-bit"
  }
 },
 "nbformat": 4,
 "nbformat_minor": 2,
 "cells": [
  {
   "cell_type": "code",
   "execution_count": null,
   "metadata": {},
   "outputs": [],
   "source": [
    "arr = [1, 3, 5, 7, 2]\n",
    "array = [0] * len(arr)\n",
    "array = [1, 0, 0, 0, 0]\n",
    "array = [1, 3]\n",
    "array = [3, 1]\n",
    "array = [5, 1, 3, 7, 0, 0]\n",
    "parent | lc | r\n",
    "1         2   3\n",
    "2         4   5\n",
    "def heapify(array):\n",
    "    index = 1\n",
    "    parent = 1\n",
    "    lc = 2\n",
    "    rc = 3\n",
    "    while parent < len(array):\n",
    "        if parent < left_child or parent < right_child:\n",
    "            while array[left_child] > array[parent]:\n",
    "                array[parent], array[left_child] = array[left_child], array[parent]\n",
    "\n",
    "            while array[right_child] > array[parent]:\n",
    "                array[parent], array[right_child] = array[right_child], array[parent]\n",
    "        index += 1\n"
   ]
  },
  {
   "cell_type": "code",
   "execution_count": null,
   "metadata": {},
   "outputs": [],
   "source": [
    "def compare(p, lc, rc, array):\n",
    "    swap = False\n",
    "    print(f'this is the parent {p} lc {lc} rc {rc}')\n",
    "\n",
    "    if array[p] < array[lc]:\n",
    "        array[p], array[lc] = array[lc], array[p]\n",
    "        swap = True\n",
    "        print(str(array))\n",
    "    \n",
    "    if array[p] < array[rc]:\n",
    "        array[p], array[rc] = array[rc], array[p]\n",
    "        swap = True\n",
    "        print(str(array))\n",
    "    return swap\n"
   ]
  },
  {
   "cell_type": "code",
   "execution_count": null,
   "metadata": {},
   "outputs": [],
   "source": [
    "def heaps(array):\n",
    "    p = 0\n",
    "    lc = 1\n",
    "    rc = 2\n",
    "    while p < len(array) // 2:\n",
    "        print('outside')\n",
    "        while rc < len(array) and compare(p, lc, rc, array) and p > 0:\n",
    "            print('inside')\n",
    "            lc = p * 2 + 1\n",
    "            rc = p * 2 + 2\n",
    "            p = lc // 2\n",
    "\n",
    "        else:\n",
    "            p += 1\n",
    "            lc = p * 2 + 1\n",
    "            rc = p * 2 + 2\n",
    "    go = True\n",
    "    rc = len(array) - 1\n",
    "    lc = rc - 1\n",
    "    p = lc // 2\n",
    "    while go:\n",
    "        go = compare(p, lc, rc, array)\n",
    "        if go:\n",
    "            lc = p * 2 + 1\n",
    "            rc = p * 2 + 2\n",
    "            p = lc // 2\n",
    "        else:\n",
    "            break"
   ]
  },
  {
   "cell_type": "code",
   "execution_count": null,
   "metadata": {
    "tags": []
   },
   "outputs": [],
   "source": [
    "arr = [1, 3, 5, 7, 2, 4, 8, 6, 10, 11]\n",
    "heaps(arr)"
   ]
  },
  {
   "cell_type": "code",
   "execution_count": null,
   "metadata": {},
   "outputs": [],
   "source": [
    "arr"
   ]
  },
  {
   "cell_type": "code",
   "execution_count": null,
   "metadata": {},
   "outputs": [],
   "source": [
    "arr = [1, 3, 5, 7, 2, 4, 8, 6, 10, 11]\n",
    "def heap_v2(array):\n",
    "    p = 0\n",
    "    lc = p * 2 + 1\n",
    "    rc = p * 2 + 2\n",
    "    while rc < len(array) - 1 and p <= len(array) // 2 - 1:\n",
    "        print(f'parent {p} lc {lc} rc {rc}')\n",
    "        p += 1\n",
    "        lc = p * 2 + 1\n",
    "        rc = p * 2 + 2\n",
    "    rc = len(arr) - 1\n",
    "    lc = rc - 1\n",
    "    p = lc // 2\n",
    "    print(f'parent {p} lc {lc} rc {rc}')"
   ]
  },
  {
   "cell_type": "code",
   "execution_count": null,
   "metadata": {},
   "outputs": [],
   "source": [
    "def compare_v2(p, lc, rc, array):\n",
    "    swap = False\n",
    "    if array[p] < array[lc]:\n",
    "        array[p], array[lc] = array[lc], array[p]\n",
    "        swap = True\n",
    "    if array[p] < array[rc]:\n",
    "        array[p], array[rc] = array[rc], array[p]\n",
    "        swap = True\n",
    "    return swap\n",
    "    "
   ]
  },
  {
   "cell_type": "code",
   "execution_count": null,
   "metadata": {
    "tags": []
   },
   "outputs": [],
   "source": [
    "\n",
    "def heap_v3(array):\n",
    "    p = 0\n",
    "    lc = p * 2 + 1\n",
    "    rc = p * 2 + 2\n",
    "    tp = -1\n",
    "    while rc < len(array):\n",
    "        print(str(array))\n",
    "        print(f'parent {p} lc {lc} rc {rc}')\n",
    "        while compare_v2(p, lc, rc, array) and tp >= 0:\n",
    "            print(str(array))\n",
    "            tp = p\n",
    "            lc = tp\n",
    "            rc = lc + 1\n",
    "            if p == 1:\n",
    "                tp = 0\n",
    "            else:\n",
    "                tp = lc // 2 + 1\n",
    "            print(f'does it go with parent {p} lc {lc} rc {rc}')\n",
    "        compare_v2(p, lc, rc, array)\n",
    "        print(str(array))\n",
    "        p += 1\n",
    "        lc = p * 2 + 1\n",
    "        rc = p * 2 + 2\n",
    "            \n",
    "    rc = len(arr) - 1\n",
    "    lc = rc - 1\n",
    "    p = lc // 2\n",
    "    print(f'parent {p} lc {lc} rc {rc}')\n",
    "    compare_v2(p, lc, rc, array)"
   ]
  },
  {
   "cell_type": "code",
   "execution_count": null,
   "metadata": {},
   "outputs": [],
   "source": [
    "\n",
    "def heap_v4(array):\n",
    "    p = 0\n",
    "    lc = p * 2 + 1\n",
    "    rc = p * 2 + 2\n",
    "    swap = None\n",
    "\n",
    "    while rc < len(array):\n",
    "        swap = compare_v2(p, lc, rc, array)\n",
    "\n",
    "        while swap and p > 0:\n",
    "            lc = p\n",
    "            rc = lc + 1\n",
    "            if p > 2:\n",
    "                p = p // 2 + 1\n",
    "            else:\n",
    "                p = p // 2\n",
    "            if p > -1:\n",
    "                swap = compare_v2(p, lc, rc, array)\n",
    "            else:\n",
    "                swap = False\n",
    "        p += 1\n",
    "        lc = p * 2 + 1\n",
    "        rc = p * 2 + 2\n",
    "    \n",
    "    rc = len(array) - 1\n",
    "    lc = rc - 1\n",
    "    p = lc // 2\n",
    "    while p > 0:\n",
    "        swap = compare_v2(p, rc, lc, array)\n",
    "        lc = p\n",
    "        rc = lc + 1\n",
    "        if p > 2:\n",
    "            p = p // 2 + 1\n",
    "        else:\n",
    "            p = p // 2\n",
    "        if p > -1:\n",
    "            swap = compare_v2(p, lc, rc, array)\n",
    "        else:\n",
    "            swap = False"
   ]
  },
  {
   "cell_type": "code",
   "execution_count": 552,
   "metadata": {},
   "outputs": [],
   "source": [
    "arr = [1, 3, 5, 7, 2, 4, 8, 6, 10, 11]"
   ]
  },
  {
   "cell_type": "code",
   "execution_count": 557,
   "metadata": {
    "tags": []
   },
   "outputs": [],
   "source": [
    "with open(\"rosalind_hea.txt\", 'r') as my_file:\n",
    "    data = my_file.readlines()[1]\n",
    "    ints = [int(number) for number in data.split()]"
   ]
  },
  {
   "cell_type": "code",
   "execution_count": 561,
   "metadata": {},
   "outputs": [],
   "source": [
    "def _generate_nlr(array):\n",
    "    p = 0\n",
    "    lc = p * 2 + 1\n",
    "    rc = p * 2 + 2\n",
    "    family = [(p, lc, rc)]\n",
    "    half = len(array) // 2\n",
    "    for index in range(1, half):\n",
    "        family.append(_generate_family(index, index == half - 1))\n",
    "    return family\n"
   ]
  },
  {
   "cell_type": "code",
   "execution_count": 546,
   "metadata": {},
   "outputs": [],
   "source": [
    "def _switching(family, arr):\n",
    "    for array in family:\n",
    "        p, lc, rc = array\n",
    "        if rc < len(arr):\n",
    "            compare_v2(p, lc, rc, arr)"
   ]
  },
  {
   "cell_type": "code",
   "execution_count": 547,
   "metadata": {},
   "outputs": [],
   "source": [
    "def _generate_family(parent, last):\n",
    "    if last:\n",
    "        lc = parent * 2\n",
    "        rc = parent * 2 + 1\n",
    "    else:\n",
    "        lc = parent * 2 + 1\n",
    "        rc = parent * 2 + 2\n",
    "    return (parent, lc, rc)"
   ]
  },
  {
   "cell_type": "code",
   "execution_count": 548,
   "metadata": {
    "tags": []
   },
   "outputs": [],
   "source": [
    "def heapify(array):\n",
    "    maximum = max(array)\n",
    "    family = _generate_nlr(array)\n",
    "    while array[0] != maximum:\n",
    "        _switching(family, array)"
   ]
  },
  {
   "cell_type": "code",
   "execution_count": 563,
   "metadata": {},
   "outputs": [],
   "source": [
    "arr = [2, 6, 7, 1, 3, 5, 4, 8, 9]"
   ]
  },
  {
   "cell_type": "code",
   "execution_count": 559,
   "metadata": {},
   "outputs": [],
   "source": [
    "with open(\"result.txt\", \"w\") as my_file:\n",
    "    my_file.write(str(ints).strip(\"[]\").replace(\",\", \"\"))"
   ]
  }
 ]
}