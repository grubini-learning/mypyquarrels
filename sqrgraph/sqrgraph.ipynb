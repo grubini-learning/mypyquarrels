{
 "metadata": {
  "language_info": {
   "codemirror_mode": {
    "name": "ipython",
    "version": 3
   },
   "file_extension": ".py",
   "mimetype": "text/x-python",
   "name": "python",
   "nbconvert_exporter": "python",
   "pygments_lexer": "ipython3",
   "version": "3.8.5-final"
  },
  "orig_nbformat": 2,
  "kernelspec": {
   "name": "python_defaultSpec_1597420743569",
   "display_name": "Python 3.8.5 64-bit"
  }
 },
 "nbformat": 4,
 "nbformat_minor": 2,
 "cells": [
  {
   "cell_type": "code",
   "execution_count": 43,
   "metadata": {},
   "outputs": [],
   "source": [
    "from enum import Enum\n",
    "\n",
    "class Status(Enum):\n",
    "    UNVISITED = 0\n",
    "    EXPLORING = 1\n",
    "    COMPLETE = 2\n",
    "\n",
    "class Graph:\n",
    "    def __init__(self, vertices, directions):\n",
    "        self.vertices = vertices\n",
    "        self.visited = [Status.UNVISITED.value] * self.vertices\n",
    "        self.stack = []\n",
    "        self.set_structure()\n",
    "        self.fill_structure(directions)\n",
    "\n",
    "    def set_structure(self):\n",
    "        self.edge_list = [[] for _ in range(0, self.vertices)]\n",
    "\n",
    "    def fill_structure(self, directions):\n",
    "        for edge in directions:\n",
    "             if len(edge) > 0:\n",
    "                vertex_one, vertex_two = edge\n",
    "                self.edge_list[vertex_one - 1].append(vertex_two)\n",
    "                self.edge_list[vertex_two - 1].append(vertex_one)\n",
    "\n",
    "    def detect_cycle(self):\n",
    "        for nodes in self.edge_list:\n",
    "            for index in range(self.vertices):\n",
    "                self.stack.append(index + 1)\n",
    "                if self.visited[index] == Status.UNVISITED.value and not self.dfs_traversal(index):\n",
    "                    return 1\n",
    "                self.stack.clear()\n",
    "        return -1\n",
    "\n",
    "    def dfs_traversal(self, node):\n",
    "        \"\"\"if self.visited[node] == Status.EXPLORING.value and len(self.stack) == 4:\n",
    "            return False\"\"\"\n",
    "\n",
    "        #self.visited[node] = Status.EXPLORING.value\n",
    "        for neighbor in self.edge_list[node]:\n",
    "            if neighbor not in self.stack:\n",
    "                self.stack.append(neighbor)\n",
    "                self.visited[neighbor - 1] = Status.EXPLORING.value\n",
    "            else:\n",
    "                found_at = self.stack.index(neighbor)\n",
    "                is_cycle = (len(self.stack) - 1) - found_at == 3\n",
    "                if is_cycle and self.visited[neighbor - 1] == Status.COMPLETE.value:\n",
    "                    return False\n",
    "                continue\n",
    "            if not self.dfs_traversal(neighbor - 1):\n",
    "                return False\n",
    "\n",
    "        self.visited[node - 1] = Status.COMPLETE.value\n",
    "        return True\n"
   ]
  },
  {
   "cell_type": "code",
   "execution_count": 46,
   "metadata": {
    "tags": []
   },
   "outputs": [],
   "source": [
    "with open(\"rosalind_sq.txt\", \"r\") as my_file:\n",
    "        text_data = my_file.readlines()\n",
    "        graphs = int(text_data[0].strip())\n",
    "        data = \"\"\n",
    "        result = []\n",
    "        for line in text_data:\n",
    "            data += line.replace(\"\\n\", \"|\")\n",
    "        data = [[pair for pair in text.split(\"|\")] for text in data.split(\"||\")]\n",
    "\n",
    "        datastest = [[[int(nu) for nu in num.split()]\n",
    "                      for num in number] for number in data[1:]]\n",
    "\n",
    "        for index in range(0, graphs):\n",
    "            vertices, edges = datastest[index][0]\n",
    "            g = Graph(vertices, datastest[index][1:])\n",
    "            answer = g.detect_cycle()\n",
    "            result.append(answer)\n",
    "with open('./result.txt', 'w') as f:\n",
    "    for item in result:\n",
    "        f.write(\"%d\" % item)\n",
    "        f.write(\" \")"
   ]
  },
  {
   "cell_type": "code",
   "execution_count": null,
   "metadata": {},
   "outputs": [],
   "source": []
  }
 ]
}