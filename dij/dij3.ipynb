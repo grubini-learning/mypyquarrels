{
 "metadata": {
  "language_info": {
   "codemirror_mode": {
    "name": "ipython",
    "version": 3
   },
   "file_extension": ".py",
   "mimetype": "text/x-python",
   "name": "python",
   "nbconvert_exporter": "python",
   "pygments_lexer": "ipython3",
   "version": "3.8.5-final"
  },
  "orig_nbformat": 2,
  "kernelspec": {
   "name": "python_defaultSpec_1597556395856",
   "display_name": "Python 3.8.5 64-bit"
  }
 },
 "nbformat": 4,
 "nbformat_minor": 2,
 "cells": [
  {
   "cell_type": "code",
   "execution_count": 26,
   "metadata": {},
   "outputs": [],
   "source": [
    "class Graph():\n",
    "\n",
    "    def __init__(self,V):\n",
    "        self.V = V\n",
    "        self.adj = [[] for i in range(V+1)]\n",
    "        self.dist = [{} for i in range(V+1)]\n",
    "        self.distance = [999999999]*(V)\n",
    "        self.distance[0] = 0\n",
    "        self.visited = [{} for i in range(V+1)]\n",
    "\n",
    "    def addEdge(self,v,u,dist):\n",
    "        self.adj[v].append(u)\n",
    "        if u not in self.dist[v].keys():\n",
    "            self.dist[v][u] = dist\n",
    "        elif dist < self.dist[v][u]:\n",
    "            self.dist[v][u] = dist\n",
    "        self.visited[v][u] = False\n",
    "\n",
    "    def DijkstraAlgorithm(self,init,neighbors_step):\n",
    "        neighbors = self.adj[init]\n",
    "        if init == 1:\n",
    "            neighbors_step = 0\n",
    "\n",
    "        for n in neighbors :\n",
    "            if self.distance[n-1] > self.dist[init][n] + neighbors_step:\n",
    "                self.distance[n-1] = self.dist[init][n] + neighbors_step\n",
    "                self.visited[init][n] = True\n",
    "                #print(\"Set d \"+str(n) + \" = \" +str(self.distance[n-1]) + \" through \" + str(init)+\" to \"+  str(n))\n",
    "\n",
    "                self.DijkstraAlgorithm(n,neighbors_step+self.dist[init][n])\n",
    "\n",
    "    def runDA(self):\n",
    "        self.DijkstraAlgorithm(1,0)\n"
   ]
  },
  {
   "cell_type": "code",
   "execution_count": 32,
   "metadata": {
    "tags": []
   },
   "outputs": [
    {
     "output_type": "stream",
     "name": "stdout",
     "text": "0 3 2 5 7 -1\n"
    }
   ],
   "source": [
    "with open(\"test.txt\", \"r\") as f:\n",
    "    r = f.read()\n",
    "    sampledata = [[ int(y) for y in x.split(' ')] for x in r.split(\"\\n\")[:-1]]\n",
    "    n = sampledata[0][0]\n",
    "    result = []\n",
    "\n",
    "    myGraph = Graph(n)\n",
    "### adding edges and distances\n",
    "    for x,y,z in sampledata[1:]:\n",
    "        myGraph.addEdge(x,y,z)\n",
    "    ### Run DijkstraAlgorithm\n",
    "    myGraph.runDA()\n",
    "    ### print results\n",
    "    val = myGraph.distance\n",
    "    s =\"\"\n",
    "    for x in val:\n",
    "        if x == 999999999:\n",
    "            s += \" -1\"\n",
    "        else:\n",
    "            s += f\" {str(x)}\"\n",
    "    print(s)\n",
    "        \n",
    "\n",
    "with open('result.txt', 'w') as f:\n",
    "    f.write(s)"
   ]
  },
  {
   "cell_type": "code",
   "execution_count": null,
   "metadata": {},
   "outputs": [],
   "source": []
  }
 ]
}