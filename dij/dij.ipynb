{
 "metadata": {
  "language_info": {
   "codemirror_mode": {
    "name": "ipython",
    "version": 3
   },
   "file_extension": ".py",
   "mimetype": "text/x-python",
   "name": "python",
   "nbconvert_exporter": "python",
   "pygments_lexer": "ipython3",
   "version": "3.8.5-final"
  },
  "orig_nbformat": 2,
  "kernelspec": {
   "name": "python_defaultSpec_1597517224593",
   "display_name": "Python 3.8.5 64-bit"
  }
 },
 "nbformat": 4,
 "nbformat_minor": 2,
 "cells": [
  {
   "cell_type": "code",
   "execution_count": 28,
   "metadata": {},
   "outputs": [],
   "source": [
    "from enum import Enum\n",
    "\n",
    "class State(Enum):\n",
    "    UNSELECTED = 0\n",
    "    SELECTED = 1 \n",
    "\n",
    "class Graph:\n",
    "    def __init__(self, vertices, edges, weights):\n",
    "        self.INFINITY = 9999999999999999999\n",
    "        self.vertices = vertices\n",
    "        self.edge_list = [None] * self.vertices\n",
    "        self.weight_list = [None] * self.vertices\n",
    "        self.costs = [0] * self.vertices\n",
    "        self.selections = [State.UNSELECTED.value] * self.vertices\n",
    "        self._construct_edge_list()\n",
    "        self._fill_edge_list(edges, weights)\n",
    "        self._set_costs()hg\n",
    "\n",
    "    def _construct_edge_list(self):\n",
    "        print('-3')\n",
    "        for index in range(self.vertices):\n",
    "            self.edge_list[index] = []\n",
    "            self.weight_list[index] = []\n",
    "    def _fill_edge_list(self, directions, weights):\n",
    "        count = 0\n",
    "        print('-2')\n",
    "        for edge in directions:\n",
    "           if len(edge) > 0:\n",
    "                a = self.edge_list[edge[0] - 1]\n",
    "                a.append(edge[1])\n",
    "                self.weight_list[edge[0] - 1].append(weights[count])\n",
    "                count += 1\n",
    "    def _set_costs(self):\n",
    "        print('-1')\n",
    "        self.costs = [self.INFINITY for i in range(len(self.costs)) if i != 0]\n",
    "        for index in range(len(self.edge_list[0])):\n",
    "            self.costs[self.edge_list[0][index] - 1] = self.weight_list[0][index - 1]\n",
    "\n",
    "    def traversal(self):\n",
    "        stack = []\n",
    "        self.selections[0] = State.SELECTED.value\n",
    "        current_index = self.costs.index(min(self.costs))\n",
    "        stack.append(current_index)\n",
    "        print(f'0')\n",
    "\n",
    "        while len(stack) > 0:\n",
    "            print(f'1 and len of the stack is {len(stack)}')\n",
    "            neighbors = self.edge_list[current_index]\n",
    "            #TODO:  need to get the minimum cost\n",
    "            least_index = self._get_least_costs_index(neighbors)\n",
    "            if least_index != None:\n",
    "                #TODO: remember to update the selections\n",
    "                self.selections[least_index - 1] = State.SELECTED.value\n",
    "                self._set_accumulated_cost(least_index)\n",
    "                current_index = least_index\n",
    "                stack.append(current_index)\n",
    "            else:\n",
    "                current_index = self._get_next_unselected(current_index)\n",
    "                if current_index != None:\n",
    "                    stack.append(current_index)\n",
    "                else:\n",
    "                    current_index = stack.pop()\n",
    "        self.costs = [-1 for cost in self.costs if cost == self.INFINITY]\n",
    "        return self.costs\n",
    "\n",
    "    def _get_next_unselected(self, current_index):\n",
    "        new_current = None\n",
    "        for neighbor in self.edge_list[current_index]:\n",
    "                    if self.selections[neighbor - 1] == State.UNSELECTED.value:\n",
    "                        new_current = neighbor\n",
    "                        self.selections[current_index - 1] = State.SELECTED.value\n",
    "                        break\n",
    "        return new_current\n",
    "    def _set_accumulated_cost(self, least_position):\n",
    "        current = 1\n",
    "        accumulated = 0\n",
    "\n",
    "        for i in range(len(self.costs)):\n",
    "            if self.costs[i] < self.INFINITY:\n",
    "                accumulated += self.costs[i]\n",
    "                if accumulated > least_position:\n",
    "                    return\n",
    "        self.costs[least_position] += accumulated\n",
    "    def _get_least_costs_index(self, current_neighbors):\n",
    "        neighbor_costs = []\n",
    "        for neighbor in current_neighbors:\n",
    "            if self.selections[neighbor - 1] != State.SELECTED.value:\n",
    "                neighbor_costs.append(self.costs[neighbor - 1])\n",
    "        if len(neighbor_costs) > 0:\n",
    "            least = min(neighbor_costs)\n",
    "            return self.costs.index(least)\n",
    "        return None"
   ]
  },
  {
   "cell_type": "code",
   "execution_count": null,
   "metadata": {},
   "outputs": [],
   "source": [
    "vertices = [[2, 3], [3, 4, 5], [4, 5, 2], [], [4], [3]]\n",
    "weights = [[4, 2], [3, 2, 3], [4, 5, 1], [], [1], [2]]"
   ]
  },
  {
   "cell_type": "code",
   "execution_count": 29,
   "metadata": {
    "tags": [
     "outputPrepend"
    ]
   },
   "outputs": [
    {
     "output_type": "stream",
     "name": "stdout",
     "text": "1 and len of the stack is 21287\n1 and len of the stack is 21288\n1 and len of the stack is 21289\n1 and len of the stack is 21290\n1 and len of the stack is 21291\n1 and len of the stack is 21292\n1 and len of the stack is 21293\n1 and len of the stack is 21294\n1 and len of the stack is 21295\n1 and len of the stack is 21296\n1 and len of the stack is 21297\n1 and len of the stack is 21298\n1 and len of the stack is 21299\n1 and len of the stack is 21300\n1 and len of the stack is 21301\n1 and len of the stack is 21302\n1 and len of the stack is 21303\n1 and len of the stack is 21304\n1 and len of the stack is 21305\n1 and len of the stack is 21306\n1 and len of the stack is 21307\n1 and len of the stack is 21308\n1 and len of the stack is 21309\n1 and len of the stack is 21310\n1 and len of the stack is 21311\n1 and len of the stack is 21312\n1 and len of the stack is 21313\n1 and len of the stack is 21314\n1 and len of the stack is 21315\n1 and len of the stack is 21316\n1 and len of the stack is 21317\n1 and len of the stack is 21318\n1 and len of the stack is 21319\n1 and len of the stack is 21320\n1 and len of the stack is 21321\n1 and len of the stack is 21322\n1 and len of the stack is 21323\n1 and len of the stack is 21324\n1 and len of the stack is 21325\n1 and len of the stack is 21326\n1 and len of the stack is 21327\n1 and len of the stack is 21328\n1 and len of the stack is 21329\n1 and len of the stack is 21330\n1 and len of the stack is 21331\n1 and len of the stack is 21332\n1 and len of the stack is 21333\n1 and len of the stack is 21334\n1 and len of the stack is 21335\n1 and len of the stack is 21336\n1 and len of the stack is 21337\n1 and len of the stack is 21338\n1 and len of the stack is 21339\n1 and len of the stack is 21340\n1 and len of the stack is 21341\n1 and len of the stack is 21342\n1 and len of the stack is 21343\n1 and len of the stack is 21344\n1 and len of the stack is 21345\n1 and len of the stack is 21346\n1 and len of the stack is 21347\n1 and len of the stack is 21348\n1 and len of the stack is 21349\n1 and len of the stack is 21350\n1 and len of the stack is 21351\n1 and len of the stack is 21352\n1 and len of the stack is 21353\n1 and len of the stack is 21354\n1 and len of the stack is 21355\n1 and len of the stack is 21356\n1 and len of the stack is 21357\n1 and len of the stack is 21358\n1 and len of the stack is 21359\n1 and len of the stack is 21360\n1 and len of the stack is 21361\n1 and len of the stack is 21362\n1 and len of the stack is 21363\n1 and len of the stack is 21364\n1 and len of the stack is 21365\n1 and len of the stack is 21366\n1 and len of the stack is 21367\n1 and len of the stack is 21368\n1 and len of the stack is 21369\n1 and len of the stack is 21370\n1 and len of the stack is 21371\n1 and len of the stack is 21372\n1 and len of the stack is 21373\n1 and len of the stack is 21374\n1 and len of the stack is 21375\n1 and len of the stack is 21376\n1 and len of the stack is 21377\n1 and len of the stack is 21378\n1 and len of the stack is 21379\n1 and len of the stack is 21380\n1 and len of the stack is 21381\n1 and len of the stack is 21382\n1 and len of the stack is 21383\n1 and len of the stack is 21384\n1 and len of the stack is 21385\n1 and len of the stack is 21386\n1 and len of the stack is 21387\n1 and len of the stack is 21388\n1 and len of the stack is 21389\n1 and len of the stack is 21390\n1 and len of the stack is 21391\n1 and len of the stack is 21392\n1 and len of the stack is 21393\n1 and len of the stack is 21394\n1 and len of the stack is 21395\n1 and len of the stack is 21396\n1 and len of the stack is 21397\n1 and len of the stack is 21398\n1 and len of the stack is 21399\n1 and len of the stack is 21400\n1 and len of the stack is 21401\n1 and len of the stack is 21402\n1 and len of the stack is 21403\n1 and len of the stack is 21404\n1 and len of the stack is 21405\n1 and len of the stack is 21406\n1 and len of the stack is 21407\n1 and len of the stack is 21408\n1 and len of the stack is 21409\n1 and len of the stack is 21410\n1 and len of the stack is 21411\n1 and len of the stack is 21412\n1 and len of the stack is 21413\n1 and len of the stack is 21414\n1 and len of the stack is 21415\n1 and len of the stack is 21416\n1 and len of the stack is 21417\n1 and len of the stack is 21418\n1 and len of the stack is 21419\n1 and len of the stack is 21420\n1 and len of the stack is 21421\n1 and len of the stack is 21422\n1 and len of the stack is 21423\n1 and len of the stack is 21424\n1 and len of the stack is 21425\n1 and len of the stack is 21426\n1 and len of the stack is 21427\n1 and len of the stack is 21428\n1 and len of the stack is 21429\n1 and len of the stack is 21430\n1 and len of the stack is 21431\n1 and len of the stack is 21432\n1 and len of the stack is 21433\n1 and len of the stack is 21434\n1 and len of the stack is 21435\n1 and len of the stack is 21436\n1 and len of the stack is 21437\n1 and len of the stack is 21438\n1 and len of the stack is 21439\n1 and len of the stack is 21440\n1 and len of the stack is 21441\n1 and len of the stack is 21442\n1 and len of the stack is 21443\n1 and len of the stack is 21444\n1 and len of the stack is 21445\n1 and len of the stack is 21446\n1 and len of the stack is 21447\n1 and len of the stack is 21448\n1 and len of the stack is 21449\n1 and len of the stack is 21450\n1 and len of the stack is 21451\n1 and len of the stack is 21452\n1 and len of the stack is 21453\n1 and len of the stack is 21454\n1 and len of the stack is 21455\n1 and len of the stack is 21456\n1 and len of the stack is 21457\n1 and len of the stack is 21458\n1 and len of the stack is 21459\n1 and len of the stack is 21460\n1 and len of the stack is 21461\n1 and len of the stack is 21462\n1 and len of the stack is 21463\n1 and len of the stack is 21464\n1 and len of the stack is 21465\n1 and len of the stack is 21466\n1 and len of the stack is 21467\n1 and len of the stack is 21468\n1 and len of the stack is 21469\n1 and len of the stack is 21470\n1 and len of the stack is 21471\n1 and len of the stack is 21472\n1 and len of the stack is 21473\n1 and len of the stack is 21474\n1 and len of the stack is 21475\n1 and len of the stack is 21476\n1 and len of the stack is 21477\n1 and len of the stack is 21478\n1 and len of the stack is 21479\n1 and len of the stack is 21480\n1 and len of the stack is 21481\n1 and len of the stack is 21482\n1 and len of the stack is 21483\n1 and len of the stack is 21484\n1 and len of the stack is 21485\n1 and len of the stack is 21486\n1 and len of the stack is 21487\n1 and len of the stack is 21488\n1 and len of the stack is 21489\n1 and len of the stack is 21490\n1 and len of the stack is 21491\n1 and len of the stack is 21492\n1 and len of the stack is 21493\n1 and len of the stack is 21494\n1 and len of the stack is 21495\n1 and len of the stack is 21496\n1 and len of the stack is 21497\n1 and len of the stack is 21498\n1 and len of the stack is 21499\n1 and len of the stack is 21500\n1 and len of the stack is 21501\n1 and len of the stack is 21502\n1 and len of the stack is 21503\n1 and len of the stack is 21504\n1 and len of the stack is 21505\n1 and len of the stack is 21506\n1 and len of the stack is 21507\n1 and len of the stack is 21508\n1 and len of the stack is 21509\n1 and len of the stack is 21510\n1 and len of the stack is 21511\n1 and len of the stack is 21512\n1 and len of the stack is 21513\n1 and len of the stack is 21514\n1 and len of the stack is 21515\n1 and len of the stack is 21516\n1 and len of the stack is 21517\n1 and len of the stack is 21518\n1 and len of the stack is 21519\n1 and len of the stack is 21520\n1 and len of the stack is 21521\n1 and len of the stack is 21522\n1 and len of the stack is 21523\n1 and len of the stack is 21524\n1 and len of the stack is 21525\n1 and len of the stack is 21526\n1 and len of the stack is 21527\n1 and len of the stack is 21528\n1 and len of the stack is 21529\n1 and len of the stack is 21530\n1 and len of the stack is 21531\n1 and len of the stack is 21532\n1 and len of the stack is 21533\n1 and len of the stack is 21534\n1 and len of the stack is 21535\n1 and len of the stack is 21536\n1 and len of the stack is 21537\n1 and len of the stack is 21538\n1 and len of the stack is 21539\n1 and len of the stack is 21540\n1 and len of the stack is 21541\n1 and len of the stack is 21542\n1 and len of the stack is 21543\n1 and len of the stack is 21544\n1 and len of the stack is 21545\n1 and len of the stack is 21546\n1 and len of the stack is 21547\n1 and len of the stack is 21548\n1 and len of the stack is 21549\n1 and len of the stack is 21550\n1 and len of the stack is 21551\n1 and len of the stack is 21552\n1 and len of the stack is 21553\n1 and len of the stack is 21554\n1 and len of the stack is 21555\n1 and len of the stack is 21556\n1 and len of the stack is 21557\n1 and len of the stack is 21558\n1 and len of the stack is 21559\n1 and len of the stack is 21560\n1 and len of the stack is 21561\n1 and len of the stack is 21562\n1 and len of the stack is 21563\n1 and len of the stack is 21564\n1 and len of the stack is 21565\n1 and len of the stack is 21566\n1 and len of the stack is 21567\n1 and len of the stack is 21568\n1 and len of the stack is 21569\n1 and len of the stack is 21570\n1 and len of the stack is 21571\n1 and len of the stack is 21572\n1 and len of the stack is 21573\n1 and len of the stack is 21574\n1 and len of the stack is 21575\n1 and len of the stack is 21576\n1 and len of the stack is 21577\n1 and len of the stack is 21578\n1 and len of the stack is 21579\n1 and len of the stack is 21580\n1 and len of the stack is 21581\n1 and len of the stack is 21582\n1 and len of the stack is 21583\n1 and len of the stack is 21584\n1 and len of the stack is 21585\n1 and len of the stack is 21586\n1 and len of the stack is 21587\n1 and len of the stack is 21588\n1 and len of the stack is 21589\n1 and len of the stack is 21590\n1 and len of the stack is 21591\n1 and len of the stack is 21592\n1 and len of the stack is 21593\n1 and len of the stack is 21594\n1 and len of the stack is 21595\n1 and len of the stack is 21596\n1 and len of the stack is 21597\n1 and len of the stack is 21598\n1 and len of the stack is 21599\n1 and len of the stack is 21600\n1 and len of the stack is 21601\n1 and len of the stack is 21602\n1 and len of the stack is 21603\n1 and len of the stack is 21604\n1 and len of the stack is 21605\n1 and len of the stack is 21606\n1 and len of the stack is 21607\n1 and len of the stack is 21608\n1 and len of the stack is 21609\n1 and len of the stack is 21610\n1 and len of the stack is 21611\n1 and len of the stack is 21612\n1 and len of the stack is 21613\n1 and len of the stack is 21614\n1 and len of the stack is 21615\n1 and len of the stack is 21616\n1 and len of the stack is 21617\n1 and len of the stack is 21618\n1 and len of the stack is 21619\n1 and len of the stack is 21620\n1 and len of the stack is 21621\n1 and len of the stack is 21622\n1 and len of the stack is 21623\n1 and len of the stack is 21624\n1 and len of the stack is 21625\n1 and len of the stack is 21626\n1 and len of the stack is 21627\n1 and len of the stack is 21628\n1 and len of the stack is 21629\n1 and len of the stack is 21630\n1 and len of the stack is 21631\n1 and len of the stack is 21632\n1 and len of the stack is 21633\n1 and len of the stack is 21634\n1 and len of the stack is 21635\n1 and len of the stack is 21636\n1 and len of the stack is 21637\n1 and len of the stack is 21638\n1 and len of the stack is 21639\n1 and len of the stack is 21640\n1 and len of the stack is 21641\n1 and len of the stack is 21642\n1 and len of the stack is 21643\n1 and len of the stack is 21644\n1 and len of the stack is 21645\n1 and len of the stack is 21646\n1 and len of the stack is 21647\n1 and len of the stack is 21648\n1 and len of the stack is 21649\n1 and len of the stack is 21650\n1 and len of the stack is 21651\n1 and len of the stack is 21652\n1 and len of the stack is 21653\n1 and len of the stack is 21654\n1 and len of the stack is 21655\n1 and len of the stack is 21656\n1 and len of the stack is 21657\n1 and len of the stack is 21658\n1 and len of the stack is 21659\n1 and len of the stack is 21660\n1 and len of the stack is 21661\n1 and len of the stack is 21662\n1 and len of the stack is 21663\n1 and len of the stack is 21664\n1 and len of the stack is 21665\n1 and len of the stack is 21666\n1 and len of the stack is 21667\n1 and len of the stack is 21668\n1 and len of the stack is 21669\n1 and len of the stack is 21670\n1 and len of the stack is 21671\n1 and len of the stack is 21672\n1 and len of the stack is 21673\n1 and len of the stack is 21674\n1 and len of the stack is 21675\n1 and len of the stack is 21676\n1 and len of the stack is 21677\n1 and len of the stack is 21678\n1 and len of the stack is 21679\n1 and len of the stack is 21680\n1 and len of the stack is 21681\n1 and len of the stack is 21682\n1 and len of the stack is 21683\n1 and len of the stack is 21684\n1 and len of the stack is 21685\n1 and len of the stack is 21686\n1 and len of the stack is 21687\n1 and len of the stack is 21688\n1 and len of the stack is 21689\n1 and len of the stack is 21690\n1 and len of the stack is 21691\n1 and len of the stack is 21692\n1 and len of the stack is 21693\n1 and len of the stack is 21694\n1 and len of the stack is 21695\n1 and len of the stack is 21696\n1 and len of the stack is 21697\n1 and len of the stack is 21698\n1 and len of the stack is 21699\n1 and len of the stack is 21700\n1 and len of the stack is 21701\n1 and len of the stack is 21702\n1 and len of the stack is 21703\n1 and len of the stack is 21704\n1 and len of the stack is 21705\n1 and len of the stack is 21706\n1 and len of the stack is 21707\n1 and len of the stack is 21708\n1 and len of the stack is 21709\n1 and len of the stack is 21710\n1 and len of the stack is 21711\n1 and len of the stack is 21712\n1 and len of the stack is 21713\n1 and len of the stack is 21714\n1 and len of the stack is 21715\n1 and len of the stack is 21716\n1 and len of the stack is 21717\n1 and len of the stack is 21718\n1 and len of the stack is 21719\n1 and len of the stack is 21720\n1 and len of the stack is 21721\n1 and len of the stack is 21722\n1 and len of the stack is 21723\n1 and len of the stack is 21724\n1 and len of the stack is 21725\n1 and len of the stack is 21726\n1 and len of the stack is 21727\n1 and len of the stack is 21728\n1 and len of the stack is 21729\n1 and len of the stack is 21730\n1 and len of the stack is 21731\n1 and len of the stack is 21732\n1 and len of the stack is 21733\n1 and len of the stack is 21734\n1 and len of the stack is 21735\n1 and len of the stack is 21736\n1 and len of the stack is 21737\n1 and len of the stack is 21738\n1 and len of the stack is 21739\n1 and len of the stack is 21740\n1 and len of the stack is 21741\n1 and len of the stack is 21742\n1 and len of the stack is 21743\n1 and len of the stack is 21744\n1 and len of the stack is 21745\n1 and len of the stack is 21746\n1 and len of the stack is 21747\n1 and len of the stack is 21748\n1 and len of the stack is 21749\n1 and len of the stack is 21750\n1 and len of the stack is 21751\n1 and len of the stack is 21752\n1 and len of the stack is 21753\n1 and len of the stack is 21754\n1 and len of the stack is 21755\n1 and len of the stack is 21756\n1 and len of the stack is 21757\n1 and len of the stack is 21758\n1 and len of the stack is 21759\n1 and len of the stack is 21760\n1 and len of the stack is 21761\n1 and len of the stack is 21762\n1 and len of the stack is 21763\n1 and len of the stack is 21764\n1 and len of the stack is 21765\n1 and len of the stack is 21766\n1 and len of the stack is 21767\n1 and len of the stack is 21768\n1 and len of the stack is 21769\n1 and len of the stack is 21770\n1 and len of the stack is 21771\n1 and len of the stack is 21772\n1 and len of the stack is 21773\n1 and len of the stack is 21774\n1 and len of the stack is 21775\n1 and len of the stack is 21776\n1 and len of the stack is 21777\n1 and len of the stack is 21778\n1 and len of the stack is 21779\n1 and len of the stack is 21780\n1 and len of the stack is 21781\n1 and len of the stack is 21782\n1 and len of the stack is 21783\n1 and len of the stack is 21784\n1 and len of the stack is 21785\n1 and len of the stack is 21786\n1 and len of the stack is 21787\n1 and len of the stack is 21788\n1 and len of the stack is 21789\n1 and len of the stack is 21790\n1 and len of the stack is 21791\n1 and len of the stack is 21792\n1 and len of the stack is 21793\n1 and len of the stack is 21794\n1 and len of the stack is 21795\n1 and len of the stack is 21796\n1 and len of the stack is 21797\n1 and len of the stack is 21798\n1 and len of the stack is 21799\n1 and len of the stack is 21800\n1 and len of the stack is 21801\n1 and len of the stack is 21802\n1 and len of the stack is 21803\n1 and len of the stack is 21804\n1 and len of the stack is 21805\n1 and len of the stack is 21806\n1 and len of the stack is 21807\n1 and len of the stack is 21808\n1 and len of the stack is 21809\n1 and len of the stack is 21810\n1 and len of the stack is 21811\n1 and len of the stack is 21812\n1 and len of the stack is 21813\n1 and len of the stack is 21814\n1 and len of the stack is 21815\n1 and len of the stack is 21816\n1 and len of the stack is 21817\n1 and len of the stack is 21818\n1 and len of the stack is 21819\n1 and len of the stack is 21820\n1 and len of the stack is 21821\n1 and len of the stack is 21822\n1 and len of the stack is 21823\n1 and len of the stack is 21824\n1 and len of the stack is 21825\n1 and len of the stack is 21826\n1 and len of the stack is 21827\n1 and len of the stack is 21828\n1 and len of the stack is 21829\n1 and len of the stack is 21830\n1 and len of the stack is 21831\n1 and len of the stack is 21832\n1 and len of the stack is 21833\n1 and len of the stack is 21834\n1 and len of the stack is 21835\n1 and len of the stack is 21836\n1 and len of the stack is 21837\n1 and len of the stack is 21838\n1 and len of the stack is 21839\n1 and len of the stack is 21840\n1 and len of the stack is 21841\n1 and len of the stack is 21842\n1 and len of the stack is 21843\n1 and len of the stack is 21844\n1 and len of the stack is 21845\n1 and len of the stack is 21846\n1 and len of the stack is 21847\n1 and len of the stack is 21848\n1 and len of the stack is 21849\n1 and len of the stack is 21850\n1 and len of the stack is 21851\n1 and len of the stack is 21852\n1 and len of the stack is 21853\n1 and len of the stack is 21854\n1 and len of the stack is 21855\n1 and len of the stack is 21856\n1 and len of the stack is 21857\n1 and len of the stack is 21858\n1 and len of the stack is 21859\n1 and len of the stack is 21860\n1 and len of the stack is 21861\n1 and len of the stack is 21862\n1 and len of the stack is 21863\n1 and len of the stack is 21864\n1 and len of the stack is 21865\n1 and len of the stack is 21866\n1 and len of the stack is 21867\n1 and len of the stack is 21868\n1 and len of the stack is 21869\n1 and len of the stack is 21870\n1 and len of the stack is 21871\n1 and len of the stack is 21872\n1 and len of the stack is 21873\n1 and len of the stack is 21874\n1 and len of the stack is 21875\n1 and len of the stack is 21876\n1 and len of the stack is 21877\n1 and len of the stack is 21878\n1 and len of the stack is 21879\n1 and len of the stack is 21880\n1 and len of the stack is 21881\n1 and len of the stack is 21882\n1 and len of the stack is 21883\n1 and len of the stack is 21884\n1 and len of the stack is 21885\n1 and len of the stack is 21886\n1 and len of the stack is 21887\n1 and len of the stack is 21888\n1 and len of the stack is 21889\n1 and len of the stack is 21890\n1 and len of the stack is 21891\n1 and len of the stack is 21892\n1 and len of the stack is 21893\n1 and len of the stack is 21894\n1 and len of the stack is 21895\n1 and len of the stack is 21896\n1 and len of the stack is 21897\n1 and len of the stack is 21898\n1 and len of the stack is 21899\n1 and len of the stack is 21900\n1 and len of the stack is 21901\n1 and len of the stack is 21902\n1 and len of the stack is 21903\n1 and len of the stack is 21904\n1 and len of the stack is 21905\n1 and len of the stack is 21906\n1 and len of the stack is 21907\n1 and len of the stack is 21908\n1 and len of the stack is 21909\n1 and len of the stack is 21910\n1 and len of the stack is 21911\n"
    },
    {
     "output_type": "error",
     "ename": "KeyboardInterrupt",
     "evalue": "",
     "traceback": [
      "\u001b[0;31m---------------------------------------------------------------------------\u001b[0m",
      "\u001b[0;31mKeyboardInterrupt\u001b[0m                         Traceback (most recent call last)",
      "\u001b[0;32m<ipython-input-29-016c781baff7>\u001b[0m in \u001b[0;36m<module>\u001b[0;34m\u001b[0m\n\u001b[1;32m     12\u001b[0m \u001b[0;34m\u001b[0m\u001b[0m\n\u001b[1;32m     13\u001b[0m         \u001b[0mg\u001b[0m \u001b[0;34m=\u001b[0m \u001b[0mGraph\u001b[0m\u001b[0;34m(\u001b[0m\u001b[0mvertices\u001b[0m\u001b[0;34m,\u001b[0m \u001b[0medges\u001b[0m\u001b[0;34m,\u001b[0m \u001b[0mweights\u001b[0m\u001b[0;34m)\u001b[0m\u001b[0;34m\u001b[0m\u001b[0;34m\u001b[0m\u001b[0m\n\u001b[0;32m---> 14\u001b[0;31m         \u001b[0mresult\u001b[0m \u001b[0;34m=\u001b[0m \u001b[0mg\u001b[0m\u001b[0;34m.\u001b[0m\u001b[0mtraversal\u001b[0m\u001b[0;34m(\u001b[0m\u001b[0;34m)\u001b[0m\u001b[0;34m\u001b[0m\u001b[0;34m\u001b[0m\u001b[0m\n\u001b[0m\u001b[1;32m     15\u001b[0m \u001b[0;34m\u001b[0m\u001b[0m\n\u001b[1;32m     16\u001b[0m \u001b[0;32mwith\u001b[0m \u001b[0mopen\u001b[0m\u001b[0;34m(\u001b[0m\u001b[0;34m'./result.txt'\u001b[0m\u001b[0;34m,\u001b[0m \u001b[0;34m'w'\u001b[0m\u001b[0;34m)\u001b[0m \u001b[0;32mas\u001b[0m \u001b[0mf\u001b[0m\u001b[0;34m:\u001b[0m\u001b[0;34m\u001b[0m\u001b[0;34m\u001b[0m\u001b[0m\n",
      "\u001b[0;32m<ipython-input-28-7d51ab01ffb3>\u001b[0m in \u001b[0;36mtraversal\u001b[0;34m(self)\u001b[0m\n\u001b[1;32m     48\u001b[0m             \u001b[0mneighbors\u001b[0m \u001b[0;34m=\u001b[0m \u001b[0mself\u001b[0m\u001b[0;34m.\u001b[0m\u001b[0medge_list\u001b[0m\u001b[0;34m[\u001b[0m\u001b[0mcurrent_index\u001b[0m\u001b[0;34m]\u001b[0m\u001b[0;34m\u001b[0m\u001b[0;34m\u001b[0m\u001b[0m\n\u001b[1;32m     49\u001b[0m             \u001b[0;31m#TODO:  need to get the minimum cost\u001b[0m\u001b[0;34m\u001b[0m\u001b[0;34m\u001b[0m\u001b[0;34m\u001b[0m\u001b[0m\n\u001b[0;32m---> 50\u001b[0;31m             \u001b[0mleast_index\u001b[0m \u001b[0;34m=\u001b[0m \u001b[0mself\u001b[0m\u001b[0;34m.\u001b[0m\u001b[0m_get_least_costs_index\u001b[0m\u001b[0;34m(\u001b[0m\u001b[0mneighbors\u001b[0m\u001b[0;34m)\u001b[0m\u001b[0;34m\u001b[0m\u001b[0;34m\u001b[0m\u001b[0m\n\u001b[0m\u001b[1;32m     51\u001b[0m             \u001b[0;32mif\u001b[0m \u001b[0mleast_index\u001b[0m \u001b[0;34m!=\u001b[0m \u001b[0;32mNone\u001b[0m\u001b[0;34m:\u001b[0m\u001b[0;34m\u001b[0m\u001b[0;34m\u001b[0m\u001b[0m\n\u001b[1;32m     52\u001b[0m                 \u001b[0;31m#TODO: remember to update the selections\u001b[0m\u001b[0;34m\u001b[0m\u001b[0;34m\u001b[0m\u001b[0;34m\u001b[0m\u001b[0m\n",
      "\u001b[0;31mKeyboardInterrupt\u001b[0m: "
     ]
    }
   ],
   "source": [
    "with open(\"test.txt\", \"r\") as f:\n",
    "        vertices, edges = map(int, f.readline().split())\n",
    "        text_data = f.readlines()\n",
    "        result = []\n",
    "        edges = []\n",
    "        weights = []\n",
    "\n",
    "        for line in range(len(text_data)):\n",
    "            node_a, node_b, weight = map(int, text_data[line].split())\n",
    "            edges.append([node_a, node_b])\n",
    "            weights.append(weight)\n",
    "            \n",
    "        g = Graph(vertices, edges, weights)\n",
    "        result = g.traversal()\n",
    "            \n",
    "with open('./result.txt', 'w') as f:\n",
    "    for item in result:\n",
    "        f.write(\"%d\" % item)\n",
    "        f.write(\" \")"
   ]
  },
  {
   "cell_type": "code",
   "execution_count": null,
   "metadata": {},
   "outputs": [],
   "source": []
  }
 ]
}