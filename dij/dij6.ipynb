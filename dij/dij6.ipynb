{
 "metadata": {
  "language_info": {
   "codemirror_mode": {
    "name": "ipython",
    "version": 3
   },
   "file_extension": ".py",
   "mimetype": "text/x-python",
   "name": "python",
   "nbconvert_exporter": "python",
   "pygments_lexer": "ipython3",
   "version": "3.8.5-final"
  },
  "orig_nbformat": 2,
  "kernelspec": {
   "name": "python_defaultSpec_1597692660845",
   "display_name": "Python 3.8.5 64-bit"
  }
 },
 "nbformat": 4,
 "nbformat_minor": 2,
 "cells": [
  {
   "cell_type": "code",
   "execution_count": 4,
   "metadata": {},
   "outputs": [],
   "source": [
    "import sys\n",
    "from heapq import heappop, heappush\n",
    "\n",
    "class Graph:\n",
    "    def __init__(self,vertices):\n",
    "        self.neighbour_weight_list = {neighbour: {} for neighbour in range(1, vertices + 1)}\n",
    "\n",
    "    def add_edge(self, nodea, nodeb, weight):\n",
    "        self.neighbour_weight_list[nodea][nodeb] = weight\n",
    "\n",
    "    def get_graph(self):\n",
    "    \treturn self.neighbour_weight_list\n",
    "\n",
    "def traverse(graph, starting_point):\n",
    "    distances = [-1] * (len(graph) + 1)\n",
    "    heap = [(0, starting_point)]\n",
    "    while heap:\n",
    "        weight, vertex = heappop(heap)\n",
    "        if distances[vertex] == -1:\n",
    "            distances[vertex] = weight\n",
    "            for neighbour, edge_cost in graph[vertex].items():\n",
    "                if distances[neighbour] == -1:\n",
    "                    heappush(heap, (weight + edge_cost, neighbour))\n",
    "\n",
    "    return distances"
   ]
  },
  {
   "cell_type": "code",
   "execution_count": 5,
   "metadata": {
    "tags": []
   },
   "outputs": [],
   "source": [
    "\n",
    "with open(\"rosalind_dij (2).txt\", \"r\") as f:\n",
    "\tN,E = map(int,f.readline().split())\n",
    "\tg = Graph(N)\n",
    "\twhile True:\n",
    "\t\tline = f.readline() \n",
    "\t\tif not line:\n",
    "\t\t\tbreak\n",
    "\n",
    "\t\tu,v,w = map(int,line.split())\n",
    "\t\tg.add_edge(u,v,w)\n",
    "\n",
    "s = ' '.join(map(str, traverse(g.get_graph(), 1)[1:]))\n",
    "\n",
    "with open('./result2.txt', 'w') as f:\n",
    "    f.write(s)\n"
   ]
  },
  {
   "cell_type": "code",
   "execution_count": null,
   "metadata": {},
   "outputs": [],
   "source": []
  }
 ]
}