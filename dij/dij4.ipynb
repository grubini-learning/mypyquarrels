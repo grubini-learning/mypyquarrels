{
 "metadata": {
  "language_info": {
   "codemirror_mode": {
    "name": "ipython",
    "version": 3
   },
   "file_extension": ".py",
   "mimetype": "text/x-python",
   "name": "python",
   "nbconvert_exporter": "python",
   "pygments_lexer": "ipython3",
   "version": "3.7.3-final"
  },
  "orig_nbformat": 2,
  "kernelspec": {
   "name": "python_defaultSpec_1597595467265",
   "display_name": "Python 3.7.3 64-bit ('3.7.3': pyenv)"
  }
 },
 "nbformat": 4,
 "nbformat_minor": 2,
 "cells": [
  {
   "cell_type": "code",
   "execution_count": null,
   "metadata": {},
   "outputs": [],
   "source": [
    "def sum(ending):\n",
    "    if ending == 1:\n",
    "        return 1\n",
    "    \n",
    "    return ending + sum(ending - 1)"
   ]
  },
  {
   "cell_type": "code",
   "execution_count": null,
   "metadata": {},
   "outputs": [],
   "source": [
    "def multiply(number):\n",
    "    if number == 1:\n",
    "        return 1\n",
    "    \n",
    "    return number * multiply(number - 1)"
   ]
  },
  {
   "cell_type": "code",
   "execution_count": 411,
   "metadata": {},
   "outputs": [],
   "source": [
    "from enum import Enum\n",
    "\n",
    "class Status(Enum):\n",
    "    UNVISITED = 0\n",
    "    EXPLORING = 1\n",
    "    COMPLETED = 2\n",
    "\n",
    "class Graph:\n",
    "    def __init__(self, vertices):\n",
    "        self.stack = [1]\n",
    "        self.adj = [[[0] * (vertices + 1), [0] * (vertices + 1)] for _ in range(vertices + 1)]\n",
    "        self.visited = [Status.UNVISITED.value] * (vertices + 1)\n",
    "\n",
    "    def add_edge(self, nodea, nodeb, cost):\n",
    "        adjecents = self.adj[nodea]\n",
    "        adjecents[0][nodeb] = nodeb\n",
    "        adjecents[1][nodeb] = cost\n",
    "    \n",
    "    def get_graph(self):\n",
    "        return self.adj\n",
    "\n",
    "    def traverse(self, current):#1 | \n",
    "        if len(self.stack) == 0:\n",
    "            return print('we are done')\n",
    "        #mark the node we have visited\n",
    "        print(f'this is the current {current}')\n",
    "        previous = current\n",
    "        self.visited[previous] = Status.COMPLETED.value\n",
    "        #need to get the adj of the node\n",
    "        #choose one that has not been selected\n",
    "        nexting, next_cost = self._get_next_step(previous)\n",
    "        #if there isn't a adj neighbor of curr node then\n",
    "        #print(f\"the next city is {str(nexting)} cost {next_cost}\")\n",
    "\n",
    "        if nexting == -1:\n",
    "            nexting = self.stack.pop()\n",
    "            \n",
    "        else:\n",
    "            #append to stack to keep track\n",
    "            self.stack.append(previous)\n",
    "            print(f'stack {self.stack}')\n",
    "            #pop out of the stack\n",
    "        #repeat the cycle with the new current\n",
    "        self.traverse(nexting)\n",
    "    \n",
    "    def _get_next_step(self, current):\n",
    "        #get adjacents\n",
    "        adjs = [x for x in self.adj[current][0]]\n",
    "        costs = [x for x in self.adj[current][1]]\n",
    "        print(f'these are the adjs {adjs} costs {costs}')\n",
    "        #look or one not selecte\n",
    "        #print(f'min costs + 1 {str(min(costs) + 1)}')\n",
    "        if current >= 1:\n",
    "            #[[0, 0, 0, 3, 4, 5, 0], [0, 0, 0, 3, 2, 3, 0]]\n",
    "            costs = self.cero_out_visited(costs)\n",
    "            if any(value > 0 for value in costs):\n",
    "                minimum = costs.index(min(i for i in costs if i > 0))\n",
    "                for index, cost in enumerate(costs):\n",
    "                    #print(f'index {index} y cost {cost}')\n",
    "                    #print(f'index {index} y list {self.visited}')\n",
    "                    if cost > 0 and cost < costs[minimum] and self.visited[index] == Status.UNVISITED.value:\n",
    "                        #print('entre')\n",
    "                        minimum = index\n",
    "                    \"\"\"if self.visited[node] != Status.COMPLETED.value:\n",
    "                        print(str(f'====> {node}'))\n",
    "                        return node\"\"\"\n",
    "                if costs[minimum] == 0 or self.visited[minimum] != Status.UNVISITED.value:\n",
    "                    #print('1')\n",
    "                    return -1, -1\n",
    "                else:\n",
    "                    #print(f' the minimum {minimum}')\n",
    "                    #print('2')\n",
    "                    #print(f'city {adjs[minimum]} cost {costs[minimum]}')\n",
    "                    return adjs[minimum], costs[minimum]\n",
    "            else:\n",
    "                return -1, -1\n",
    "    \n",
    "    def cero_out_visited(self, costs):\n",
    "        new_costs = [costs[index] if self.visited[index] == Status.UNVISITED.value else 0 for index in range(len(costs))]\n",
    "        return new_costs\n",
    "        # if none return -1\n",
    "        #return -1\n",
    "        # else return the next step"
   ]
  },
  {
   "cell_type": "code",
   "execution_count": null,
   "metadata": {},
   "outputs": [],
   "source": [
    "[[[0, 0, 0, 0, 0, 0, 0], [0, 0, 0, 0, 0, 0, 0]],\n",
    " 1: [[0, 0, 2, 3, 0, 0, 0], [0, 0, 4, 2, 0, 0, 0]],\n",
    " 2: [[0, 0, 0, 3, 4, 5, 0], [0, 0, 0, 3, 2, 3, 0]],\n",
    " 3: [[0, 0, 2, 0, 4, 5, 0], [0, 0, 1, 0, 4, 5, 0]],\n",
    " 4: [[0, 0, 0, 0, 0, 0, 0], [0, 0, 0, 0, 0, 0, 0]],\n",
    " 5: [[0, 0, 0, 0, 4, 0, 0], [0, 0, 0, 0, 1, 0, 0]],\n",
    " 6: [[0, 0, 0, 3, 0, 0, 0], [0, 0, 0, 2, 0, 0, 0]]]"
   ]
  },
  {
   "cell_type": "code",
   "execution_count": 412,
   "metadata": {
    "tags": []
   },
   "outputs": [
    {
     "output_type": "execute_result",
     "data": {
      "text/plain": "'g.add_edge(1, 2)\\ng.add_edge(1, 3)\\ng.add_edge(2, 5)\\ng.add_edge(2, 3)\\ng.add_edge(2, 4)\\ng.add_edge(3, 4)\\ng.add_edge(3, 5)\\ng.add_edge(3, 2)\\ng.add_edge(5, 4)\\ng.add_edge(6, 3)'"
     },
     "metadata": {},
     "execution_count": 412
    }
   ],
   "source": [
    "g = Graph(6)\n",
    "g.add_edge(1, 2, 4)\n",
    "g.add_edge(1, 3, 2)\n",
    "g.add_edge(2, 5, 3)\n",
    "g.add_edge(2, 3, 3)\n",
    "g.add_edge(2, 4, 2)\n",
    "g.add_edge(3, 4, 4)\n",
    "g.add_edge(3, 5, 5)\n",
    "g.add_edge(3, 2, 1)\n",
    "g.add_edge(5, 4, 1)\n",
    "g.add_edge(6, 3, 2)\n",
    "\"\"\"g.add_edge(1, 2)\n",
    "g.add_edge(1, 3)\n",
    "g.add_edge(2, 5)\n",
    "g.add_edge(2, 3)\n",
    "g.add_edge(2, 4)\n",
    "g.add_edge(3, 4)\n",
    "g.add_edge(3, 5)\n",
    "g.add_edge(3, 2)\n",
    "g.add_edge(5, 4)\n",
    "g.add_edge(6, 3)\"\"\""
   ]
  },
  {
   "cell_type": "code",
   "execution_count": null,
   "metadata": {},
   "outputs": [],
   "source": [
    "g.get_graph()"
   ]
  },
  {
   "cell_type": "code",
   "execution_count": null,
   "metadata": {},
   "outputs": [],
   "source": [
    "[[[0, 0, 0, 0, 0, 0, 0], [0, 0, 0, 0, 0, 0, 0]],\n",
    " 1: [[0, 0, 2, 3, 0, 0, 0], [0, 0, 4, 2, 0, 0, 0]],\n",
    " 2: [[0, 0, 0, 3, 4, 5, 0], [0, 0, 0, 3, 2, 3, 0]],\n",
    " 3: [[0, 0, 2, 0, 4, 5, 0], [0, 0, 1, 0, 4, 5, 0]],\n",
    " 4: [[0, 0, 0, 0, 0, 0, 0], [0, 0, 0, 0, 0, 0, 0]],\n",
    " 5: [[0, 0, 0, 0, 4, 0, 0], [0, 0, 0, 0, 1, 0, 0]],\n",
    " 6: [[0, 0, 0, 3, 0, 0, 0], [0, 0, 0, 2, 0, 0, 0]]]"
   ]
  },
  {
   "cell_type": "code",
   "execution_count": 413,
   "metadata": {
    "tags": []
   },
   "outputs": [
    {
     "output_type": "stream",
     "name": "stdout",
     "text": "this is the current 1\nthese are the adjs [0, 0, 2, 3, 0, 0, 0] costs [0, 0, 4, 2, 0, 0, 0]\nstack [1, 1]\nthis is the current 3\nthese are the adjs [0, 0, 2, 0, 4, 5, 0] costs [0, 0, 1, 0, 4, 5, 0]\nstack [1, 1, 3]\nthis is the current 2\nthese are the adjs [0, 0, 0, 3, 4, 5, 0] costs [0, 0, 0, 3, 2, 3, 0]\nstack [1, 1, 3, 2]\nthis is the current 4\nthese are the adjs [0, 0, 0, 0, 0, 0, 0] costs [0, 0, 0, 0, 0, 0, 0]\nthis is the current 2\nthese are the adjs [0, 0, 0, 3, 4, 5, 0] costs [0, 0, 0, 3, 2, 3, 0]\nstack [1, 1, 3, 2]\nthis is the current 5\nthese are the adjs [0, 0, 0, 0, 4, 0, 0] costs [0, 0, 0, 0, 1, 0, 0]\nthis is the current 2\nthese are the adjs [0, 0, 0, 3, 4, 5, 0] costs [0, 0, 0, 3, 2, 3, 0]\nthis is the current 3\nthese are the adjs [0, 0, 2, 0, 4, 5, 0] costs [0, 0, 1, 0, 4, 5, 0]\nthis is the current 1\nthese are the adjs [0, 0, 2, 3, 0, 0, 0] costs [0, 0, 4, 2, 0, 0, 0]\nwe are done\n"
    }
   ],
   "source": [
    "g.traverse(1)"
   ]
  },
  {
   "cell_type": "code",
   "execution_count": 401,
   "metadata": {},
   "outputs": [
    {
     "output_type": "execute_result",
     "data": {
      "text/plain": "True"
     },
     "metadata": {},
     "execution_count": 401
    }
   ],
   "source": [
    "costs = [0, 0, 0, 0, 1, 0, 0]\n",
    "any(i > 0 for i in costs)\n",
    "#costs.index(min(i for i in costs if i > 0))"
   ]
  },
  {
   "cell_type": "code",
   "execution_count": null,
   "metadata": {},
   "outputs": [],
   "source": []
  }
 ]
}