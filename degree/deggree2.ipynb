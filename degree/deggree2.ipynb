{
 "metadata": {
  "language_info": {
   "codemirror_mode": {
    "name": "ipython",
    "version": 3
   },
   "file_extension": ".py",
   "mimetype": "text/x-python",
   "name": "python",
   "nbconvert_exporter": "python",
   "pygments_lexer": "ipython3",
   "version": 3
  },
  "orig_nbformat": 2,
  "kernelspec": {
   "name": "python_defaultSpec_1596854728912",
   "display_name": "Python 3.7.3 64-bit ('3.7.3': pyenv)"
  }
 },
 "nbformat": 4,
 "nbformat_minor": 2,
 "cells": [
  {
   "cell_type": "code",
   "execution_count": 50,
   "metadata": {
    "tags": []
   },
   "outputs": [],
   "source": [
    "with open(\"rosalind_deg (9).txt\", 'r') as my_file:\n",
    "    lines = my_file.readlines()\n",
    "    digits = []\n",
    "    my_dict = {}\n",
    "    for line in lines[1:]:\n",
    "        digits.append([int(num) for num in line.split()])\n"
   ]
  },
  {
   "cell_type": "code",
   "execution_count": 51,
   "metadata": {},
   "outputs": [],
   "source": [
    "my_dict = {}\n",
    "for array in digits:\n",
    "    for index in range(0, 2):\n",
    "        if array[index] in my_dict:\n",
    "            my_dict[array[index]] = my_dict[array[index]] + 1\n",
    "        else:\n",
    "            my_dict[array[index]] = 1"
   ]
  },
  {
   "cell_type": "code",
   "execution_count": 52,
   "metadata": {
    "tags": []
   },
   "outputs": [],
   "source": [
    "result = []\n",
    "\n",
    "for index in range(min(my_dict), max(my_dict) + 1):\n",
    "    result.append(my_dict[index])\n"
   ]
  },
  {
   "cell_type": "code",
   "execution_count": 53,
   "metadata": {},
   "outputs": [],
   "source": [
    "with open('result.txt', 'w') as my_file:\n",
    "    my_file.write(str(result).strip('[]').replace(\",\", \"\"))"
   ]
  },
  {
   "cell_type": "code",
   "execution_count": null,
   "metadata": {},
   "outputs": [],
   "source": []
  }
 ]
}