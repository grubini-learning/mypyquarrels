{
 "metadata": {
  "language_info": {
   "codemirror_mode": {
    "name": "ipython",
    "version": 3
   },
   "file_extension": ".py",
   "mimetype": "text/x-python",
   "name": "python",
   "nbconvert_exporter": "python",
   "pygments_lexer": "ipython3",
   "version": 3
  },
  "orig_nbformat": 2,
  "kernelspec": {
   "name": "python_defaultSpec_1596856959545",
   "display_name": "Python 3.8.5 64-bit"
  }
 },
 "nbformat": 4,
 "nbformat_minor": 2,
 "cells": [
  {
   "cell_type": "code",
   "execution_count": 3,
   "metadata": {},
   "outputs": [],
   "source": [
    "def create_set_from_array(array):\n",
    "    return set(number for number in array)"
   ]
  },
  {
   "cell_type": "code",
   "execution_count": 1,
   "metadata": {
    "tags": []
   },
   "outputs": [],
   "source": [
    "def long_method(path):\n",
    "    first_column = []\n",
    "    second_column = []\n",
    "    f = open(path, 'r')\n",
    "    switch = True\n",
    "\n",
    "    lines = f.readlines()\n",
    "    for line in lines:\n",
    "        for number in line.strip(\"\\n\").split(\" \"):\n",
    "            if not switch:\n",
    "                first_column.append(int(number))\n",
    "                switch = True\n",
    "            else:\n",
    "                second_column.append(int(number))\n",
    "                switch = False\n",
    "\n",
    "    first_column_array = sorted(create_set_from_array(first_column))\n",
    "    second_column_array = sorted(create_set_from_array(second_column))\n",
    "    joined_columns_set = set(first_column_array + second_column_array)\n",
    "\n",
    "    columns_dict = {}\n",
    "    for key in joined_columns_set:\n",
    "        columns_dict[key] = 0\n",
    "\n",
    "    for number in first_column:\n",
    "        columns_dict[number] = columns_dict[number] + 1\n",
    "\n",
    "    for number in second_column:\n",
    "        columns_dict[number] = columns_dict[number] + 1\n",
    "\n",
    "    column_degrees = []\n",
    "    for key , value in columns_dict.items():\n",
    "        column_degrees.append(value)\n",
    "\n",
    "    with open(\"result123.txt\", \"a\") as f:\n",
    "        for num in column_degrees:\n",
    "            f.write(str(num)+' ')"
   ]
  },
  {
   "cell_type": "code",
   "execution_count": 4,
   "metadata": {
    "tags": []
   },
   "outputs": [],
   "source": [
    "long_method('rosalind_deg (9).txt')"
   ]
  },
  {
   "cell_type": "code",
   "execution_count": null,
   "metadata": {},
   "outputs": [],
   "source": [
    "for number in first_column:\n",
    "    columns_dict[number] = columns_dict[number] + 1"
   ]
  },
  {
   "cell_type": "code",
   "execution_count": 129,
   "metadata": {},
   "outputs": [],
   "source": [
    "first_array = [1, 2, 6, 5, 2, 2, 4, 2, 3, 3, 6, 5, 4, 1, 2, 3, 3, 6, 5, 4, 1, 2, 3, 3, 6, 5, 4, 1]\n",
    "second_array = [2, 3, 3, 6, 5, 4, 1, 1, 2, 6, 5, 2, 2, 1, 2, 6, 5, 2, 2,1, 2, 6, 5, 2, 2 ]"
   ]
  },
  {
   "cell_type": "code",
   "execution_count": 130,
   "metadata": {},
   "outputs": [],
   "source": [
    "my_first_set = sorted(create_set_from_array(first_array))\n",
    "my_second_set = sorted(create_set_from_array(second_array))\n",
    "joined_set = set(my_first_set + my_second_set)"
   ]
  },
  {
   "cell_type": "code",
   "execution_count": 131,
   "metadata": {},
   "outputs": [
    {
     "output_type": "execute_result",
     "data": {
      "text/plain": "{1, 2, 3, 4, 5, 6}"
     },
     "metadata": {},
     "execution_count": 131
    }
   ],
   "source": [
    "joined_set"
   ]
  },
  {
   "cell_type": "code",
   "execution_count": 132,
   "metadata": {
    "tags": []
   },
   "outputs": [],
   "source": [
    "my_dict = {}\n",
    "for key in joined_set:\n",
    "    my_dict[key] = 0"
   ]
  },
  {
   "cell_type": "code",
   "execution_count": 133,
   "metadata": {},
   "outputs": [],
   "source": [
    "for number in first_array:\n",
    "    my_dict[number] = my_dict[number] + 1"
   ]
  },
  {
   "cell_type": "code",
   "execution_count": 134,
   "metadata": {},
   "outputs": [],
   "source": [
    "for number in second_array:\n",
    "    my_dict[number] = my_dict[number] + 1"
   ]
  },
  {
   "cell_type": "code",
   "execution_count": 135,
   "metadata": {
    "tags": []
   },
   "outputs": [],
   "source": [
    "degrees = []\n",
    "for key, value in my_dict.items():\n",
    "    degrees.append(value)"
   ]
  },
  {
   "cell_type": "code",
   "execution_count": 144,
   "metadata": {},
   "outputs": [],
   "source": [
    "with open(\"result123.txt\", \"a\") as f:\n",
    "    for num in degrees:\n",
    "        f.write(str(num)+' ')"
   ]
  },
  {
   "cell_type": "code",
   "execution_count": 140,
   "metadata": {},
   "outputs": [
    {
     "output_type": "execute_result",
     "data": {
      "text/plain": "'[8, 16, 8, 5, 8, 8]'"
     },
     "metadata": {},
     "execution_count": 140
    }
   ],
   "source": [
    "string_column"
   ]
  },
  {
   "cell_type": "code",
   "execution_count": null,
   "metadata": {},
   "outputs": [],
   "source": []
  }
 ]
}