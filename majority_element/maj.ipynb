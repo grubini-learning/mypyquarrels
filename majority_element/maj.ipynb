{
 "metadata": {
  "language_info": {
   "codemirror_mode": {
    "name": "ipython",
    "version": 3
   },
   "file_extension": ".py",
   "mimetype": "text/x-python",
   "name": "python",
   "nbconvert_exporter": "python",
   "pygments_lexer": "ipython3",
   "version": 3
  },
  "orig_nbformat": 2,
  "kernelspec": {
   "name": "python_defaultSpec_1596700650144",
   "display_name": "Python 3.8.5 64-bit"
  }
 },
 "nbformat": 4,
 "nbformat_minor": 2,
 "cells": [
  {
   "cell_type": "code",
   "execution_count": null,
   "metadata": {},
   "outputs": [],
   "source": [
    "first_array = [5, 5, 5, 5, 5, 5, 5, 5]\n",
    "second_array = [8, 7, 7, 7, 1, 7, 3, 7]\n",
    "third_array = [7, 1, 6, 5, 10, 100, 1000, 1]\n",
    "fourth_array = [5, 1, 6, 7, 1, 1, 10, 1]\n",
    "\n",
    "\n",
    "columns_dict = {}\n",
    "for key in first_array:\n",
    "    columns_dict[key] = 0\n",
    "\n",
    "for number in first_array:\n",
    "    columns_dict[number] = columns_dict[number] + 1\n",
    "\n"
   ]
  },
  {
   "cell_type": "code",
   "execution_count": 5,
   "metadata": {},
   "outputs": [],
   "source": [
    "def get_max_repeated_number(arr, minimum):\n",
    "    columns_dict = {}\n",
    "    for key in arr:\n",
    "        columns_dict[key] = 0\n",
    "\n",
    "    for number in arr:\n",
    "        columns_dict[number] = columns_dict[number] + 1\n",
    "    \n",
    "    max_key = max(columns_dict, key=columns_dict.get)\n",
    "    if columns_dict[max_key] > minimum:\n",
    "        return max_key\n",
    "    else:\n",
    "         return -1"
   ]
  },
  {
   "cell_type": "code",
   "execution_count": 4,
   "metadata": {},
   "outputs": [],
   "source": [
    "def get_repeated_array(arr, minimum):\n",
    "    results = []\n",
    "    for array in arr:\n",
    "        results.append(get_max_repeated_number(array, minimum))\n",
    "    return results"
   ]
  },
  {
   "cell_type": "code",
   "execution_count": 1,
   "metadata": {},
   "outputs": [],
   "source": [
    "with open(\"rosalind_maj (2).txt\", \"r\") as my_file:\n",
    "    text_arrays = my_file.readlines()"
   ]
  },
  {
   "cell_type": "code",
   "execution_count": 2,
   "metadata": {},
   "outputs": [],
   "source": [
    "big_array = []\n",
    "minimum = int(int(text_arrays[0].split()[1]) / 2)\n",
    "for index in range(1, len(text_arrays)):\n",
    "    big_array.append([int(text) for text in text_arrays[index].split()])\n"
   ]
  },
  {
   "cell_type": "code",
   "execution_count": 6,
   "metadata": {
    "tags": []
   },
   "outputs": [],
   "source": [
    "repeated_array = get_repeated_array(big_array, minimum)\n",
    "with open(\"results.txt\", \"w\") as file:\n",
    "    file.write(str(repeated_array).strip(\"[]\").replace(\",\", \"\"))"
   ]
  },
  {
   "cell_type": "code",
   "execution_count": 90,
   "metadata": {},
   "outputs": [
    {
     "output_type": "execute_result",
     "data": {
      "text/plain": "4799"
     },
     "metadata": {},
     "execution_count": 90
    }
   ],
   "source": [
    "minimum"
   ]
  },
  {
   "cell_type": "code",
   "execution_count": 89,
   "metadata": {},
   "outputs": [
    {
     "output_type": "execute_result",
     "data": {
      "text/plain": "4799.0"
     },
     "metadata": {},
     "execution_count": 89
    }
   ],
   "source": [
    "9598 / 2"
   ]
  },
  {
   "cell_type": "code",
   "execution_count": null,
   "metadata": {},
   "outputs": [],
   "source": []
  }
 ]
}