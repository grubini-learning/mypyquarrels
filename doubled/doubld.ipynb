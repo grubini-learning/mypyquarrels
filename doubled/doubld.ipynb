{
 "metadata": {
  "language_info": {
   "codemirror_mode": {
    "name": "ipython",
    "version": 3
   },
   "file_extension": ".py",
   "mimetype": "text/x-python",
   "name": "python",
   "nbconvert_exporter": "python",
   "pygments_lexer": "ipython3",
   "version": 3
  },
  "orig_nbformat": 2,
  "kernelspec": {
   "name": "python_defaultSpec_1597006414811",
   "display_name": "Python 3.8.5 64-bit"
  }
 },
 "nbformat": 4,
 "nbformat_minor": 2,
 "cells": [
  {
   "cell_type": "code",
   "execution_count": null,
   "metadata": {},
   "outputs": [],
   "source": [
    "with open(\"test.txt\", 'r') as my_file:\n",
    "    lines = my_file.readlines()\n",
    "    digits = []\n",
    "    my_dict = {}\n",
    "    for line in lines:\n",
    "        digits.append([int(num) for num in line.split()])"
   ]
  },
  {
   "cell_type": "code",
   "execution_count": null,
   "metadata": {},
   "outputs": [],
   "source": [
    "my_dict"
   ]
  },
  {
   "cell_type": "code",
   "execution_count": null,
   "metadata": {},
   "outputs": [],
   "source": [
    "digits"
   ]
  },
  {
   "cell_type": "code",
   "execution_count": null,
   "metadata": {
    "tags": []
   },
   "outputs": [],
   "source": [
    "result = [0] * max(my_dict)\n",
    "current = 1\n",
    "while current < len(digits):\n",
    "    neighbor_children = 0\n",
    "    for array in digits:\n",
    "        for index in range(0, 2):\n",
    "            if array[index] == current:\n",
    "                if index == 1:\n",
    "                    print(f'i am one {current} and my neighbor is {array[0]} with {my_dict[array[0]]} children')\n",
    "                    if array[index] in result:\n",
    "                        result[array[index]] += my_dict[array[0]]\n",
    "                    else:\n",
    "                        result[array[index]] = my_dict[array[0]]\n",
    "                    neighbor_children += my_dict[array[0]]\n",
    "                    break\n",
    "                else:\n",
    "                   if array[index] in result:\n",
    "                        result[array[index]] += my_dict[array[1]]\n",
    "                   else:\n",
    "                    result[array[index]] = my_dict[array[1]]\n",
    "                    neighbor_children += my_dict[array[1]]\n",
    "                    break\n",
    "    current += 1"
   ]
  },
  {
   "cell_type": "code",
   "execution_count": null,
   "metadata": {},
   "outputs": [],
   "source": [
    "result"
   ]
  },
  {
   "cell_type": "code",
   "execution_count": 165,
   "metadata": {},
   "outputs": [],
   "source": [
    "def create_list(path):\n",
    "    with open(path, 'r') as my_file:\n",
    "        lines = my_file.readlines()\n",
    "        digits = []\n",
    "        my_dict = {}\n",
    "        for line in lines:\n",
    "            digits.append([int(num) for num in line.split()])\n",
    "        vertices = digits[:1][0][0]\n",
    "    return vertices, digits[1:]"
   ]
  },
  {
   "cell_type": "code",
   "execution_count": 166,
   "metadata": {},
   "outputs": [],
   "source": [
    "def _convert_dictionary(my_list):\n",
    "    my_dict = {}\n",
    "    for sub_list in my_list:\n",
    "        for index in range(0, 2):\n",
    "            if sub_list[index] in my_dict:\n",
    "                my_dict[sub_list[index]] += 1\n",
    "            else:\n",
    "                my_dict[sub_list[index]] = 1\n",
    "    return my_dict"
   ]
  },
  {
   "cell_type": "code",
   "execution_count": 167,
   "metadata": {},
   "outputs": [],
   "source": [
    "def create_dictionary_list(my_list):\n",
    "    my_dict = {}\n",
    "    for pair in my_list:\n",
    "        for index in range(0, 2):\n",
    "            if pair[index] not in my_dict:\n",
    "                my_dict[pair[index]] = []\n",
    "    return my_dict"
   ]
  },
  {
   "cell_type": "code",
   "execution_count": 168,
   "metadata": {},
   "outputs": [],
   "source": [
    "def get_neighbors(my_list, my_dict):\n",
    "    for pair in my_list:\n",
    "        for index in range(0, 2):\n",
    "            if index == 0:\n",
    "                my_dict[pair[index]].append(pair[1])\n",
    "            else:\n",
    "                my_dict[pair[index]].append(pair[0])\n",
    "    return my_dict"
   ]
  },
  {
   "cell_type": "code",
   "execution_count": 169,
   "metadata": {},
   "outputs": [],
   "source": [
    "def neighbors_degrees(dic_list, my_dict):\n",
    "    maxim = max(my_dict)\n",
    "    result = [0] * (maxim + 1)\n",
    "    for key in dict_list.keys():\n",
    "        for neighbor in dict_list[key]:\n",
    "            result[key] += my_dict[neighbor]\n",
    "            \n",
    "    return result\n",
    "    "
   ]
  },
  {
   "cell_type": "code",
   "execution_count": 188,
   "metadata": {},
   "outputs": [],
   "source": [
    "def neighbors_degrees_v2(dict_list, vertices):\n",
    "    result = [0] * vertices\n",
    "    for key in dict_list.keys():\n",
    "        accum = 0\n",
    "        for neighbor in dict_list[key]:\n",
    "            accum += len(dict_list[neighbor])\n",
    "        result[key - 1] = accum\n",
    "    return result"
   ]
  },
  {
   "cell_type": "code",
   "execution_count": 143,
   "metadata": {},
   "outputs": [],
   "source": [
    "def complete_list(vertices, result_list):\n",
    "    diff = vertices - len(result_list)\n",
    "    final_result = result_list\n",
    "    if diff > 0:\n",
    "         final_result += ([0] * diff)\n",
    "    return final_result"
   ]
  },
  {
   "cell_type": "code",
   "execution_count": 195,
   "metadata": {},
   "outputs": [],
   "source": [
    "vertices, my_list = create_list('rosalind_ddeg (1).txt')"
   ]
  },
  {
   "cell_type": "code",
   "execution_count": 182,
   "metadata": {},
   "outputs": [
    {
     "output_type": "execute_result",
     "data": {
      "text/plain": "5"
     },
     "metadata": {},
     "execution_count": 182
    }
   ],
   "source": [
    "vertices"
   ]
  },
  {
   "cell_type": "code",
   "execution_count": 196,
   "metadata": {},
   "outputs": [],
   "source": [
    "dict_list = create_dictionary_list(my_list)"
   ]
  },
  {
   "cell_type": "code",
   "execution_count": 197,
   "metadata": {},
   "outputs": [],
   "source": [
    "filled_dict = get_neighbors(my_list, dict_list)"
   ]
  },
  {
   "cell_type": "code",
   "execution_count": 198,
   "metadata": {
    "tags": []
   },
   "outputs": [],
   "source": [
    "pre_final = neighbors_degrees_v2(dict_list, vertices)"
   ]
  },
  {
   "cell_type": "code",
   "execution_count": 199,
   "metadata": {
    "tags": []
   },
   "outputs": [],
   "source": [
    "final_result = complete_list(vertices, pre_final)"
   ]
  },
  {
   "cell_type": "code",
   "execution_count": 200,
   "metadata": {},
   "outputs": [],
   "source": [
    "with open(\"result.txt.txt\", \"w\") as my_file:\n",
    "    my_file.write(str(final_result).strip('[]').replace(\",\", \"\"))"
   ]
  },
  {
   "cell_type": "code",
   "execution_count": 194,
   "metadata": {},
   "outputs": [
    {
     "output_type": "execute_result",
     "data": {
      "text/plain": "[3, 5, 5, 5, 0]"
     },
     "metadata": {},
     "execution_count": 194
    }
   ],
   "source": [
    "final_result"
   ]
  },
  {
   "cell_type": "code",
   "execution_count": null,
   "metadata": {},
   "outputs": [],
   "source": []
  }
 ]
}