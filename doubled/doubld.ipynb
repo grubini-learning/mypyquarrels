{
 "metadata": {
  "language_info": {
   "codemirror_mode": {
    "name": "ipython",
    "version": 3
   },
   "file_extension": ".py",
   "mimetype": "text/x-python",
   "name": "python",
   "nbconvert_exporter": "python",
   "pygments_lexer": "ipython3",
   "version": 3
  },
  "orig_nbformat": 2,
  "kernelspec": {
   "name": "python_defaultSpec_1596857892466",
   "display_name": "Python 3.8.5 64-bit"
  }
 },
 "nbformat": 4,
 "nbformat_minor": 2,
 "cells": [
  {
   "cell_type": "code",
   "execution_count": 5,
   "metadata": {},
   "outputs": [],
   "source": [
    "with open(\"test.txt\", 'r') as my_file:\n",
    "    lines = my_file.readlines()\n",
    "    digits = []\n",
    "    my_dict = {}\n",
    "    for line in lines:\n",
    "        digits.append([int(num) for num in line.split()])"
   ]
  },
  {
   "cell_type": "code",
   "execution_count": 6,
   "metadata": {},
   "outputs": [],
   "source": [
    "my_dict = {}\n",
    "for array in digits:\n",
    "    for index in range(0, 2):\n",
    "        if array[index] in my_dict:\n",
    "            my_dict[array[index]] = my_dict[array[index]] + 1\n",
    "        else:\n",
    "            my_dict[array[index]] = 1"
   ]
  },
  {
   "cell_type": "code",
   "execution_count": 7,
   "metadata": {},
   "outputs": [
    {
     "output_type": "execute_result",
     "data": {
      "text/plain": "{5: 1, 4: 3, 1: 1, 2: 3, 3: 2}"
     },
     "metadata": {},
     "execution_count": 7
    }
   ],
   "source": [
    "my_dict"
   ]
  },
  {
   "cell_type": "code",
   "execution_count": 8,
   "metadata": {},
   "outputs": [
    {
     "output_type": "execute_result",
     "data": {
      "text/plain": "[[5, 4], [1, 2], [2, 3], [4, 3], [2, 4]]"
     },
     "metadata": {},
     "execution_count": 8
    }
   ],
   "source": [
    "digits"
   ]
  },
  {
   "cell_type": "code",
   "execution_count": 17,
   "metadata": {
    "tags": []
   },
   "outputs": [
    {
     "output_type": "stream",
     "name": "stdout",
     "text": "i am two 1 and my neighbor is 2 with 3 children\ni am one 2 and my neighbor is 1 with 1 children\ni am two 2 and my neighbor is 3 with 2 children\ni am two 2 and my neighbor is 4 with 3 children\ni am one 3 and my neighbor is 2 with 3 children\ni am one 3 and my neighbor is 4 with 3 children\ni am one 4 and my neighbor is 5 with 1 children\ni am two 4 and my neighbor is 3 with 2 children\ni am one 4 and my neighbor is 2 with 3 children\n"
    }
   ],
   "source": [
    "result = [0] * max(my_dict)\n",
    "current = 1\n",
    "while current < len(digits):\n",
    "    neighbor_children = 0\n",
    "    for array in digits:\n",
    "        for index in range(0, 2):\n",
    "            if array[index] == current:\n",
    "                if index == 1:\n",
    "                    print(f'i am one {current} and my neighbor is {array[0]} with {my_dict[array[0]]} children')\n",
    "                    neighbor_children += my_dict[array[0]]\n",
    "                    break\n",
    "                else:\n",
    "                    neighbor_children += my_dict[array[1]]\n",
    "                    print(f'i am two {current} and my neighbor is {array[1]} with {my_dict[array[1]]} children')\n",
    "                    break\n",
    "    result[current] = neighbor_children\n",
    "    current += 1"
   ]
  },
  {
   "cell_type": "code",
   "execution_count": 11,
   "metadata": {},
   "outputs": [
    {
     "output_type": "execute_result",
     "data": {
      "text/plain": "[0, 3, 6, 6, 6]"
     },
     "metadata": {},
     "execution_count": 11
    }
   ],
   "source": [
    "result"
   ]
  },
  {
   "cell_type": "code",
   "execution_count": null,
   "metadata": {},
   "outputs": [],
   "source": []
  }
 ]
}