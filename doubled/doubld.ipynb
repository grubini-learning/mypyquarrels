{
 "metadata": {
  "language_info": {
   "codemirror_mode": {
    "name": "ipython",
    "version": 3
   },
   "file_extension": ".py",
   "mimetype": "text/x-python",
   "name": "python",
   "nbconvert_exporter": "python",
   "pygments_lexer": "ipython3",
   "version": 3
  },
  "orig_nbformat": 2,
  "kernelspec": {
   "name": "python_defaultSpec_1597019337774",
   "display_name": "Python 3.8.5 64-bit"
  }
 },
 "nbformat": 4,
 "nbformat_minor": 2,
 "cells": [
  {
   "cell_type": "code",
   "execution_count": 1,
   "metadata": {},
   "outputs": [],
   "source": [
    "with open(\"test.txt\", 'r') as my_file:\n",
    "    lines = my_file.readlines()\n",
    "    digits = []\n",
    "    my_dict = {}\n",
    "    for line in lines:\n",
    "        digits.append([int(num) for num in line.split()])"
   ]
  },
  {
   "cell_type": "code",
   "execution_count": 2,
   "metadata": {},
   "outputs": [
    {
     "output_type": "execute_result",
     "data": {
      "text/plain": "{}"
     },
     "metadata": {},
     "execution_count": 2
    }
   ],
   "source": [
    "my_dict"
   ]
  },
  {
   "cell_type": "code",
   "execution_count": 3,
   "metadata": {},
   "outputs": [
    {
     "output_type": "execute_result",
     "data": {
      "text/plain": "[[5, 4], [2, 3], [1, 2], [2, 4], [4, 3]]"
     },
     "metadata": {},
     "execution_count": 3
    }
   ],
   "source": [
    "digits"
   ]
  },
  {
   "cell_type": "code",
   "execution_count": 4,
   "metadata": {
    "tags": []
   },
   "outputs": [
    {
     "output_type": "error",
     "ename": "ValueError",
     "evalue": "max() arg is an empty sequence",
     "traceback": [
      "\u001b[0;31m---------------------------------------------------------------------------\u001b[0m",
      "\u001b[0;31mValueError\u001b[0m                                Traceback (most recent call last)",
      "\u001b[0;32m<ipython-input-4-6d0b0d36717f>\u001b[0m in \u001b[0;36m<module>\u001b[0;34m\u001b[0m\n\u001b[0;32m----> 1\u001b[0;31m \u001b[0mresult\u001b[0m \u001b[0;34m=\u001b[0m \u001b[0;34m[\u001b[0m\u001b[0;36m0\u001b[0m\u001b[0;34m]\u001b[0m \u001b[0;34m*\u001b[0m \u001b[0mmax\u001b[0m\u001b[0;34m(\u001b[0m\u001b[0mmy_dict\u001b[0m\u001b[0;34m)\u001b[0m\u001b[0;34m\u001b[0m\u001b[0;34m\u001b[0m\u001b[0m\n\u001b[0m\u001b[1;32m      2\u001b[0m \u001b[0mcurrent\u001b[0m \u001b[0;34m=\u001b[0m \u001b[0;36m1\u001b[0m\u001b[0;34m\u001b[0m\u001b[0;34m\u001b[0m\u001b[0m\n\u001b[1;32m      3\u001b[0m \u001b[0;32mwhile\u001b[0m \u001b[0mcurrent\u001b[0m \u001b[0;34m<\u001b[0m \u001b[0mlen\u001b[0m\u001b[0;34m(\u001b[0m\u001b[0mdigits\u001b[0m\u001b[0;34m)\u001b[0m\u001b[0;34m:\u001b[0m\u001b[0;34m\u001b[0m\u001b[0;34m\u001b[0m\u001b[0m\n\u001b[1;32m      4\u001b[0m     \u001b[0mneighbor_children\u001b[0m \u001b[0;34m=\u001b[0m \u001b[0;36m0\u001b[0m\u001b[0;34m\u001b[0m\u001b[0;34m\u001b[0m\u001b[0m\n\u001b[1;32m      5\u001b[0m     \u001b[0;32mfor\u001b[0m \u001b[0marray\u001b[0m \u001b[0;32min\u001b[0m \u001b[0mdigits\u001b[0m\u001b[0;34m:\u001b[0m\u001b[0;34m\u001b[0m\u001b[0;34m\u001b[0m\u001b[0m\n",
      "\u001b[0;31mValueError\u001b[0m: max() arg is an empty sequence"
     ]
    }
   ],
   "source": [
    "result = [0] * max(my_dict)\n",
    "current = 1\n",
    "while current < len(digits):\n",
    "    neighbor_children = 0\n",
    "    for array in digits:\n",
    "        for index in range(0, 2):\n",
    "            if array[index] == current:\n",
    "                if index == 1:\n",
    "                    print(f'i am one {current} and my neighbor is {array[0]} with {my_dict[array[0]]} children')\n",
    "                    if array[index] in result:\n",
    "                        result[array[index]] += my_dict[array[0]]\n",
    "                    else:\n",
    "                        result[array[index]] = my_dict[array[0]]\n",
    "                    neighbor_children += my_dict[array[0]]\n",
    "                    break\n",
    "                else:\n",
    "                   if array[index] in result:\n",
    "                        result[array[index]] += my_dict[array[1]]\n",
    "                   else:\n",
    "                    result[array[index]] = my_dict[array[1]]\n",
    "                    neighbor_children += my_dict[array[1]]\n",
    "                    break\n",
    "    current += 1"
   ]
  },
  {
   "cell_type": "code",
   "execution_count": 5,
   "metadata": {},
   "outputs": [
    {
     "output_type": "error",
     "ename": "NameError",
     "evalue": "name 'result' is not defined",
     "traceback": [
      "\u001b[0;31m---------------------------------------------------------------------------\u001b[0m",
      "\u001b[0;31mNameError\u001b[0m                                 Traceback (most recent call last)",
      "\u001b[0;32m<ipython-input-5-0ac921c19f1a>\u001b[0m in \u001b[0;36m<module>\u001b[0;34m\u001b[0m\n\u001b[0;32m----> 1\u001b[0;31m \u001b[0mresult\u001b[0m\u001b[0;34m\u001b[0m\u001b[0;34m\u001b[0m\u001b[0m\n\u001b[0m",
      "\u001b[0;31mNameError\u001b[0m: name 'result' is not defined"
     ]
    }
   ],
   "source": [
    "result"
   ]
  },
  {
   "cell_type": "code",
   "execution_count": 6,
   "metadata": {},
   "outputs": [],
   "source": [
    "def create_list(path):\n",
    "    with open(path, 'r') as my_file:\n",
    "        lines = my_file.readlines()\n",
    "        digits = []\n",
    "        my_dict = {}\n",
    "        for line in lines:\n",
    "            digits.append([int(num) for num in line.split()])\n",
    "        vertices = digits[:1][0][0]\n",
    "    return vertices, digits[1:]"
   ]
  },
  {
   "cell_type": "code",
   "execution_count": 7,
   "metadata": {},
   "outputs": [],
   "source": [
    "def _convert_dictionary(my_list):\n",
    "    my_dict = {}\n",
    "    for sub_list in my_list:\n",
    "        for index in range(0, 2):\n",
    "            if sub_list[index] in my_dict:\n",
    "                my_dict[sub_list[index]] += 1\n",
    "            else:\n",
    "                my_dict[sub_list[index]] = 1\n",
    "    return my_dict"
   ]
  },
  {
   "cell_type": "code",
   "execution_count": 21,
   "metadata": {},
   "outputs": [],
   "source": [
    "def create_dictionary_list(my_list):\n",
    "    my_dict = {}\n",
    "    for pair in my_list:\n",
    "        for index in range(0, 2):\n",
    "            if pair[index] not in my_dict:\n",
    "                my_dict[pair[index]] = []\n",
    "    return my_dict"
   ]
  },
  {
   "cell_type": "code",
   "execution_count": 22,
   "metadata": {},
   "outputs": [],
   "source": [
    "def get_neighbors(my_list, my_dict):\n",
    "    for pair in my_list:\n",
    "        for index in range(0, 2):\n",
    "            if index == 0:\n",
    "                my_dict[pair[index]].append(pair[1])\n",
    "            else:\n",
    "                my_dict[pair[index]].append(pair[0])\n",
    "    return my_dict"
   ]
  },
  {
   "cell_type": "code",
   "execution_count": 23,
   "metadata": {},
   "outputs": [],
   "source": [
    "def neighbors_degrees(dic_list, my_dict):\n",
    "    maxim = max(my_dict)\n",
    "    result = [0] * (maxim + 1)\n",
    "    for key in dict_list.keys():\n",
    "        for neighbor in dict_list[key]:\n",
    "            result[key] += my_dict[neighbor]\n",
    "            \n",
    "    return result\n",
    "    "
   ]
  },
  {
   "cell_type": "code",
   "execution_count": 24,
   "metadata": {},
   "outputs": [],
   "source": [
    "def neighbors_degrees_v2(dict_list, vertices):\n",
    "    result = [0] * vertices\n",
    "    for key in dict_list.keys():\n",
    "        accum = 0\n",
    "        for neighbor in dict_list[key]:\n",
    "            accum += len(dict_list[neighbor])\n",
    "        result[key - 1] = accum\n",
    "    return result"
   ]
  },
  {
   "cell_type": "code",
   "execution_count": 25,
   "metadata": {},
   "outputs": [],
   "source": [
    "def complete_list(vertices, result_list):\n",
    "    diff = vertices - len(result_list)\n",
    "    final_result = result_list\n",
    "    if diff > 0:\n",
    "         final_result += ([0] * diff)\n",
    "    return final_result"
   ]
  },
  {
   "cell_type": "code",
   "execution_count": 26,
   "metadata": {},
   "outputs": [],
   "source": [
    "vertices, my_list = create_list('rosalind_ddeg (1).txt')"
   ]
  },
  {
   "cell_type": "code",
   "execution_count": 14,
   "metadata": {},
   "outputs": [
    {
     "output_type": "execute_result",
     "data": {
      "text/plain": "1000"
     },
     "metadata": {},
     "execution_count": 14
    }
   ],
   "source": [
    "vertices"
   ]
  },
  {
   "cell_type": "code",
   "execution_count": 27,
   "metadata": {},
   "outputs": [],
   "source": [
    "dict_list = create_dictionary_list(my_list)"
   ]
  },
  {
   "cell_type": "code",
   "execution_count": 28,
   "metadata": {},
   "outputs": [],
   "source": [
    "filled_dict = get_neighbors(my_list, dict_list)"
   ]
  },
  {
   "cell_type": "code",
   "execution_count": 17,
   "metadata": {
    "tags": []
   },
   "outputs": [],
   "source": [
    "pre_final = neighbors_degrees_v2(dict_list, vertices)"
   ]
  },
  {
   "cell_type": "code",
   "execution_count": 18,
   "metadata": {
    "tags": []
   },
   "outputs": [],
   "source": [
    "final_result = complete_list(vertices, pre_final)"
   ]
  },
  {
   "cell_type": "code",
   "execution_count": 19,
   "metadata": {},
   "outputs": [],
   "source": [
    "with open(\"result.txt.txt\", \"w\") as my_file:\n",
    "    my_file.write(str(final_result).strip('[]').replace(\",\", \"\"))"
   ]
  },
  {
   "cell_type": "code",
   "execution_count": 20,
   "metadata": {},
   "outputs": [
    {
     "output_type": "execute_result",
     "data": {
      "text/plain": "[450,\n 461,\n 265,\n 559,\n 369,\n 521,\n 488,\n 391,\n 186,\n 378,\n 487,\n 371,\n 321,\n 283,\n 416,\n 499,\n 431,\n 465,\n 367,\n 461,\n 368,\n 466,\n 248,\n 557,\n 559,\n 542,\n 443,\n 393,\n 331,\n 505,\n 299,\n 572,\n 444,\n 700,\n 342,\n 480,\n 310,\n 367,\n 479,\n 656,\n 497,\n 344,\n 515,\n 543,\n 395,\n 237,\n 533,\n 422,\n 528,\n 469,\n 295,\n 506,\n 588,\n 361,\n 364,\n 389,\n 240,\n 532,\n 219,\n 390,\n 505,\n 292,\n 403,\n 299,\n 402,\n 527,\n 589,\n 361,\n 333,\n 235,\n 387,\n 392,\n 467,\n 443,\n 514,\n 426,\n 454,\n 325,\n 477,\n 500,\n 280,\n 395,\n 567,\n 572,\n 502,\n 402,\n 339,\n 372,\n 450,\n 347,\n 447,\n 467,\n 292,\n 326,\n 405,\n 315,\n 455,\n 587,\n 404,\n 468,\n 259,\n 535,\n 454,\n 340,\n 398,\n 650,\n 457,\n 175,\n 197,\n 331,\n 471,\n 415,\n 289,\n 367,\n 425,\n 378,\n 405,\n 433,\n 365,\n 581,\n 428,\n 286,\n 303,\n 418,\n 339,\n 516,\n 326,\n 499,\n 338,\n 369,\n 384,\n 428,\n 445,\n 445,\n 306,\n 493,\n 464,\n 415,\n 444,\n 384,\n 286,\n 296,\n 348,\n 401,\n 505,\n 624,\n 392,\n 275,\n 365,\n 432,\n 531,\n 282,\n 421,\n 507,\n 420,\n 503,\n 303,\n 413,\n 265,\n 483,\n 306,\n 338,\n 377,\n 294,\n 259,\n 524,\n 618,\n 283,\n 499,\n 328,\n 287,\n 441,\n 645,\n 285,\n 397,\n 596,\n 364,\n 355,\n 574,\n 501,\n 310,\n 395,\n 538,\n 353,\n 519,\n 351,\n 276,\n 310,\n 410,\n 417,\n 413,\n 234,\n 414,\n 300,\n 370,\n 340,\n 450,\n 450,\n 542,\n 306,\n 557,\n 532,\n 324,\n 347,\n 344,\n 318,\n 454,\n 517,\n 468,\n 468,\n 554,\n 301,\n 367,\n 396,\n 557,\n 446,\n 247,\n 431,\n 365,\n 333,\n 300,\n 413,\n 304,\n 478,\n 292,\n 379,\n 336,\n 465,\n 502,\n 443,\n 427,\n 364,\n 558,\n 329,\n 536,\n 347,\n 323,\n 523,\n 386,\n 488,\n 424,\n 201,\n 378,\n 457,\n 341,\n 325,\n 437,\n 342,\n 465,\n 532,\n 466,\n 384,\n 379,\n 502,\n 255,\n 455,\n 401,\n 301,\n 312,\n 381,\n 630,\n 297,\n 352,\n 444,\n 444,\n 524,\n 443,\n 381,\n 308,\n 392,\n 495,\n 344,\n 306,\n 290,\n 481,\n 251,\n 478,\n 381,\n 356,\n 466,\n 463,\n 523,\n 330,\n 578,\n 452,\n 264,\n 315,\n 252,\n 335,\n 340,\n 504,\n 308,\n 293,\n 459,\n 336,\n 382,\n 329,\n 480,\n 450,\n 519,\n 401,\n 435,\n 448,\n 372,\n 223,\n 517,\n 542,\n 354,\n 385,\n 384,\n 503,\n 453,\n 492,\n 311,\n 375,\n 379,\n 620,\n 237,\n 538,\n 284,\n 465,\n 539,\n 431,\n 533,\n 479,\n 240,\n 278,\n 311,\n 742,\n 383,\n 406,\n 540,\n 373,\n 317,\n 425,\n 448,\n 332,\n 259,\n 424,\n 373,\n 474,\n 340,\n 405,\n 270,\n 290,\n 394,\n 458,\n 478,\n 527,\n 522,\n 557,\n 384,\n 296,\n 299,\n 459,\n 404,\n 297,\n 616,\n 363,\n 709,\n 280,\n 478,\n 481,\n 457,\n 517,\n 471,\n 436,\n 527,\n 503,\n 527,\n 312,\n 550,\n 432,\n 423,\n 413,\n 304,\n 482,\n 574,\n 212,\n 360,\n 369,\n 586,\n 526,\n 427,\n 232,\n 414,\n 386,\n 467,\n 520,\n 431,\n 478,\n 465,\n 466,\n 446,\n 495,\n 263,\n 331,\n 410,\n 305,\n 422,\n 261,\n 440,\n 381,\n 354,\n 441,\n 450,\n 442,\n 441,\n 652,\n 371,\n 419,\n 236,\n 316,\n 382,\n 463,\n 420,\n 463,\n 284,\n 270,\n 542,\n 512,\n 364,\n 356,\n 325,\n 366,\n 247,\n 461,\n 256,\n 318,\n 652,\n 331,\n 342,\n 515,\n 493,\n 550,\n 392,\n 471,\n 358,\n 465,\n 275,\n 270,\n 496,\n 428,\n 388,\n 506,\n 391,\n 334,\n 381,\n 340,\n 343,\n 531,\n 443,\n 417,\n 470,\n 475,\n 333,\n 423,\n 377,\n 298,\n 351,\n 448,\n 325,\n 494,\n 357,\n 417,\n 451,\n 391,\n 309,\n 541,\n 497,\n 460,\n 661,\n 339,\n 441,\n 387,\n 490,\n 246,\n 488,\n 383,\n 260,\n 368,\n 487,\n 503,\n 515,\n 314,\n 447,\n 455,\n 229,\n 325,\n 422,\n 525,\n 371,\n 545,\n 420,\n 476,\n 303,\n 403,\n 485,\n 328,\n 410,\n 368,\n 400,\n 587,\n 468,\n 446,\n 389,\n 249,\n 430,\n 406,\n 493,\n 435,\n 465,\n 615,\n 540,\n 437,\n 318,\n 404,\n 443,\n 448,\n 552,\n 344,\n 534,\n 373,\n 441,\n 372,\n 334,\n 459,\n 498,\n 246,\n 424,\n 528,\n 218,\n 464,\n 474,\n 386,\n 272,\n 383,\n 554,\n 431,\n 351,\n 359,\n 343,\n 425,\n 425,\n 412,\n 282,\n 414,\n 289,\n 126,\n 515,\n 381,\n 344,\n 323,\n 309,\n 345,\n 263,\n 389,\n 392,\n 415,\n 520,\n 316,\n 376,\n 353,\n 354,\n 550,\n 314,\n 371,\n 571,\n 432,\n 342,\n 542,\n 550,\n 557,\n 346,\n 322,\n 451,\n 280,\n 423,\n 560,\n 308,\n 392,\n 383,\n 219,\n 514,\n 430,\n 510,\n 443,\n 315,\n 444,\n 504,\n 484,\n 350,\n 335,\n 485,\n 397,\n 407,\n 530,\n 361,\n 467,\n 362,\n 439,\n 412,\n 375,\n 430,\n 564,\n 529,\n 480,\n 429,\n 344,\n 217,\n 522,\n 481,\n 404,\n 428,\n 425,\n 510,\n 425,\n 556,\n 461,\n 513,\n 456,\n 323,\n 354,\n 201,\n 525,\n 553,\n 481,\n 221,\n 342,\n 491,\n 442,\n 529,\n 404,\n 483,\n 399,\n 591,\n 367,\n 373,\n 356,\n 411,\n 516,\n 642,\n 556,\n 442,\n 430,\n 228,\n 388,\n 535,\n 486,\n 411,\n 326,\n 390,\n 466,\n 444,\n 363,\n 238,\n 481,\n 197,\n 390,\n 341,\n 514,\n 516,\n 466,\n 449,\n 349,\n 294,\n 265,\n 411,\n 489,\n 326,\n 328,\n 332,\n 453,\n 434,\n 303,\n 484,\n 388,\n 263,\n 504,\n 283,\n 311,\n 395,\n 387,\n 475,\n 387,\n 384,\n 443,\n 542,\n 349,\n 391,\n 498,\n 463,\n 276,\n 318,\n 416,\n 470,\n 368,\n 434,\n 297,\n 392,\n 425,\n 357,\n 277,\n 312,\n 382,\n 412,\n 521,\n 487,\n 438,\n 457,\n 369,\n 390,\n 426,\n 421,\n 397,\n 661,\n 404,\n 469,\n 450,\n 401,\n 316,\n 424,\n 426,\n 406,\n 437,\n 554,\n 342,\n 359,\n 385,\n 414,\n 478,\n 244,\n 418,\n 529,\n 439,\n 250,\n 362,\n 598,\n 391,\n 432,\n 555,\n 400,\n 429,\n 354,\n 359,\n 570,\n 371,\n 309,\n 630,\n 304,\n 403,\n 292,\n 243,\n 424,\n 363,\n 623,\n 409,\n 252,\n 261,\n 361,\n 373,\n 314,\n 353,\n 316,\n 400,\n 510,\n 339,\n 370,\n 438,\n 381,\n 350,\n 405,\n 341,\n 306,\n 606,\n 292,\n 470,\n 432,\n 495,\n 348,\n 327,\n 401,\n 371,\n 479,\n 352,\n 502,\n 523,\n 318,\n 470,\n 345,\n 439,\n 509,\n 610,\n 465,\n 510,\n 431,\n 460,\n 448,\n 599,\n 441,\n 445,\n 388,\n 433,\n 437,\n 453,\n 291,\n 522,\n 382,\n 363,\n 311,\n 523,\n 345,\n 550,\n 326,\n 477,\n 372,\n 368,\n 278,\n 315,\n 348,\n 285,\n 370,\n 312,\n 447,\n 401,\n 340,\n 552,\n 332,\n 314,\n 250,\n 260,\n 255,\n 475,\n 393,\n 406,\n 455,\n 545,\n 533,\n 576,\n 422,\n 278,\n 391,\n 303,\n 359,\n 464,\n 411,\n 293,\n 370,\n 363,\n 425,\n 342,\n 569,\n 304,\n 297,\n 461,\n 595,\n 421,\n 384,\n 372,\n 450,\n 505,\n 430,\n 270,\n 316,\n 335,\n 442,\n 458,\n 549,\n 295,\n 456,\n 579,\n 701,\n 439,\n 220,\n 511,\n 588,\n 509,\n 386,\n 545,\n 399,\n 500,\n 342,\n 547,\n 531,\n 436,\n 317,\n 342,\n 343,\n 189,\n 336,\n 449,\n 387,\n 440,\n 582,\n 259,\n 333,\n 502,\n 347,\n 381,\n 617,\n 325,\n 364,\n 432,\n 368,\n 458,\n 304,\n 213,\n 272,\n 465,\n 458,\n 562,\n 324,\n 370,\n 328,\n 427,\n 420,\n 424,\n 486,\n 459,\n 453,\n 303,\n 520,\n 496,\n 326,\n 429,\n 425,\n 393,\n 286,\n 489,\n 391,\n 363,\n 664,\n 495,\n 545,\n 285,\n 237,\n 390,\n 438,\n 514,\n 456,\n 485,\n 326,\n 363,\n 419,\n 267,\n 440,\n 304,\n 448,\n 541,\n 382,\n 458,\n 401,\n 383,\n 402,\n 344,\n 241,\n 615,\n 485,\n 355,\n 350,\n 412,\n 355,\n 535,\n 530,\n 327,\n 288,\n 438,\n 485,\n 385,\n 259,\n 386,\n 441,\n 384,\n 495,\n 551,\n 455,\n 392,\n 437,\n 389,\n 274,\n 446,\n 477,\n 294,\n 295,\n 480,\n 314,\n 575,\n 329,\n 542,\n 301,\n 370,\n 481,\n 539,\n 398,\n 367,\n 372,\n 341,\n 386,\n 304,\n 377]"
     },
     "metadata": {},
     "execution_count": 20
    }
   ],
   "source": [
    "final_result"
   ]
  },
  {
   "cell_type": "code",
   "execution_count": null,
   "metadata": {},
   "outputs": [],
   "source": []
  }
 ]
}