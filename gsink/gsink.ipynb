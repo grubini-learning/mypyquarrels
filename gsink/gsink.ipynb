{
 "metadata": {
  "language_info": {
   "codemirror_mode": {
    "name": "ipython",
    "version": 3
   },
   "file_extension": ".py",
   "mimetype": "text/x-python",
   "name": "python",
   "nbconvert_exporter": "python",
   "pygments_lexer": "ipython3",
   "version": "3.8.5-final"
  },
  "orig_nbformat": 2,
  "kernelspec": {
   "name": "python_defaultSpec_1597977981586",
   "display_name": "Python 3.8.5 64-bit"
  }
 },
 "nbformat": 4,
 "nbformat_minor": 2,
 "cells": [
  {
   "cell_type": "code",
   "execution_count": null,
   "metadata": {},
   "outputs": [],
   "source": [
    "def dfs(graph, start, visited=None):\n",
    "    if visited is None:\n",
    "        visited = set()\n",
    "    visited.add(start)\n",
    "\n",
    "    print(start)\n",
    "\n",
    "    for next in graph[start] - visited:\n",
    "        dfs(graph, next, visited)\n",
    "    return visited"
   ]
  },
  {
   "cell_type": "code",
   "execution_count": 13,
   "metadata": {},
   "outputs": [],
   "source": [
    "class Graph:\n",
    "    def __init__(self, vertices):\n",
    "        self.vertices = vertices\n",
    "        self.graph = {vertex: set() for vertex in range(vertices + 1)}\n",
    "        self.visited = set()\n",
    "        self.stack = []\n",
    "\n",
    "    def add_edge(self, nodea, nodeb):\n",
    "        self.graph[nodea].add(nodeb)\n",
    "\n",
    "    def get_graph(self):\n",
    "        return self.graph\n",
    "    \n",
    "    def get_topological_sort(self):\n",
    "        return self.topological_sort\n",
    "\n",
    "    def get_visited(self):\n",
    "        return self.visited\n",
    "\n",
    "    def first_run(self):\n",
    "        for vertex in range(1, self.vertices + 1):\n",
    "            if vertex not in self.visited:\n",
    "                self.dfs(vertex, True, self.graph)\n",
    "            if len(self.visited) == self.vertices:\n",
    "                return vertex\n",
    "            self.visited.clear()\n",
    "        return -1\n",
    "\n",
    "    def dfs(self, start, flag, graph):\n",
    "        self.visited.add(start)\n",
    "\n",
    "        for element in graph[start]:\n",
    "            if element not in self.visited:\n",
    "                self.dfs(element, flag, graph)\n",
    "\n",
    "        self.stack.append(start)"
   ]
  },
  {
   "cell_type": "code",
   "execution_count": 15,
   "metadata": {
    "tags": []
   },
   "outputs": [
    {
     "output_type": "stream",
     "name": "stdout",
     "text": "-1\n"
    }
   ],
   "source": [
    "ts = [(3, 2), (1, 2)]\n",
    "vertices = 3\n",
    "edges = 2\n",
    "g = Graph(vertices)\n",
    "\n",
    "for edge in ts:\n",
    "    nodea, nodeb = edge[0], edge[1]\n",
    "    g.add_edge(nodea, nodeb)\n",
    "    \n",
    "print(g.first_run())\n"
   ]
  },
  {
   "cell_type": "code",
   "execution_count": 25,
   "metadata": {
    "tags": []
   },
   "outputs": [],
   "source": [
    "with open(\"rosalind_gs.txt\", \"r\") as f:\n",
    "    graphs = int(f.readline().strip())\n",
    "    f.readline()\n",
    "    s = \"\"\n",
    "\n",
    "    for graph in range(graphs):\n",
    "        vertices, edges = map(int, f.readline().split(\" \"))\n",
    "        g = Graph(vertices)\n",
    "        while True:\n",
    "            line = f.readline()\n",
    "            if line == '\\n' or not line:\n",
    "                break\n",
    "            nodea, nodeb = map(int, line.split())\n",
    "            g.add_edge(nodea, nodeb)\n",
    "\n",
    "        s += \" \" + str(g.first_run())\n",
    "    \n",
    "\n",
    "    \n",
    "    s.lstrip()\n",
    "with open(\"result.txt\", \"w\") as f:\n",
    "    f.write(s)"
   ]
  },
  {
   "cell_type": "code",
   "execution_count": null,
   "metadata": {},
   "outputs": [],
   "source": []
  }
 ]
}