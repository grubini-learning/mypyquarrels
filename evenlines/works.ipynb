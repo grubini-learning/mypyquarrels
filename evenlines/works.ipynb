{
 "metadata": {
  "language_info": {
   "codemirror_mode": {
    "name": "ipython",
    "version": 3
   },
   "file_extension": ".py",
   "mimetype": "text/x-python",
   "name": "python",
   "nbconvert_exporter": "python",
   "pygments_lexer": "ipython3",
   "version": 3
  },
  "orig_nbformat": 2,
  "kernelspec": {
   "name": "python_defaultSpec_1596652347528",
   "display_name": "Python 3.8.5 64-bit"
  }
 },
 "nbformat": 4,
 "nbformat_minor": 2,
 "cells": [
  {
   "cell_type": "code",
   "execution_count": 13,
   "metadata": {},
   "outputs": [],
   "source": [
    "with open(\"rosalind_ini5.txt\", \"r\") as f:\n",
    "    data = f.readlines()"
   ]
  },
  {
   "cell_type": "code",
   "execution_count": 14,
   "metadata": {},
   "outputs": [
    {
     "output_type": "execute_result",
     "data": {
      "text/plain": "['`Twas brillig, and the slithy toves\\n',\n 'Some things in life are bad, they can really make you mad\\n',\n '  Did gyre and gimble in the wabe:\\n',\n 'Other things just make you swear and curse\\n',\n 'All mimsy were the borogoves,\\n',\n \"When you're chewing on life's gristle, don't grumble give a whistle\\n\",\n '  And the mome raths outgrabe.\\n',\n 'This will help things turn out for the best\\n',\n '\"Beware the Jabberwock, my son!\\n',\n 'Always look on the bright side of life\\n',\n '  The jaws that bite, the claws that catch!\\n',\n 'Always look on the right side of life\\n',\n 'Beware the Jubjub bird, and shun\\n',\n \"If life seems jolly rotten, there's something you've forgotten\\n\",\n '  The frumious Bandersnatch!\"\\n',\n \"And that's to laugh and smile and dance and sing\\n\",\n 'He took his vorpal sword in hand:\\n',\n \"When you're feeling in the dumps, don't be silly, chumps\\n\",\n '  Long time the manxome foe he sought --\\n',\n \"Just purse your lips and whistle, that's the thing\\n\",\n 'So rested he by the Tumtum tree,\\n',\n 'So, always look on the bright side of death\\n',\n '  And stood awhile in thought.\\n',\n 'Just before you draw your terminal breath\\n',\n 'And, as in uffish thought he stood,\\n',\n \"Life's a counterfeit and when you look at it\\n\",\n '  The Jabberwock, with eyes of flame,\\n',\n \"Life's a laugh and death's the joke, it's true\\n\",\n 'Came whiffling through the tulgey wood,\\n',\n \"You see, it's all a show, keep them laughing as you go\\n\",\n '  And burbled as it came!\\n',\n 'Just remember the last laugh is on you\\n',\n 'One, two! One, two! And through and through\\n',\n 'Always look on the bright side of life\\n',\n '  The vorpal blade went snicker-snack!\\n',\n 'And always look on the right side of life\\n',\n 'He left it dead, and with its head\\n',\n 'Always look on the bright side of life\\n',\n '  He went galumphing back.\\n',\n 'And always look on the right side of life']"
     },
     "metadata": {},
     "execution_count": 14
    }
   ],
   "source": [
    "data"
   ]
  },
  {
   "cell_type": "code",
   "execution_count": 15,
   "metadata": {},
   "outputs": [
    {
     "output_type": "execute_result",
     "data": {
      "text/plain": "40"
     },
     "metadata": {},
     "execution_count": 15
    }
   ],
   "source": [
    "len(data)"
   ]
  },
  {
   "cell_type": "code",
   "execution_count": 16,
   "metadata": {},
   "outputs": [],
   "source": [
    "result = []\n",
    "for index in range(1, 41):\n",
    "    if index % 2 == 0:\n",
    "        result.append(data[index - 1])"
   ]
  },
  {
   "cell_type": "code",
   "execution_count": 17,
   "metadata": {},
   "outputs": [
    {
     "output_type": "execute_result",
     "data": {
      "text/plain": "['Some things in life are bad, they can really make you mad\\n',\n 'Other things just make you swear and curse\\n',\n \"When you're chewing on life's gristle, don't grumble give a whistle\\n\",\n 'This will help things turn out for the best\\n',\n 'Always look on the bright side of life\\n',\n 'Always look on the right side of life\\n',\n \"If life seems jolly rotten, there's something you've forgotten\\n\",\n \"And that's to laugh and smile and dance and sing\\n\",\n \"When you're feeling in the dumps, don't be silly, chumps\\n\",\n \"Just purse your lips and whistle, that's the thing\\n\",\n 'So, always look on the bright side of death\\n',\n 'Just before you draw your terminal breath\\n',\n \"Life's a counterfeit and when you look at it\\n\",\n \"Life's a laugh and death's the joke, it's true\\n\",\n \"You see, it's all a show, keep them laughing as you go\\n\",\n 'Just remember the last laugh is on you\\n',\n 'Always look on the bright side of life\\n',\n 'And always look on the right side of life\\n',\n 'Always look on the bright side of life\\n',\n 'And always look on the right side of life']"
     },
     "metadata": {},
     "execution_count": 17
    }
   ],
   "source": [
    "result"
   ]
  },
  {
   "cell_type": "code",
   "execution_count": 18,
   "metadata": {},
   "outputs": [],
   "source": [
    "fle = open(\"result.txt\", \"a\")\n",
    "for line in result:\n",
    "    fle.write(line)\n",
    "fle.close()"
   ]
  },
  {
   "cell_type": "code",
   "execution_count": null,
   "metadata": {},
   "outputs": [],
   "source": []
  }
 ]
}