{
 "metadata": {
  "language_info": {
   "codemirror_mode": {
    "name": "ipython",
    "version": 3
   },
   "file_extension": ".py",
   "mimetype": "text/x-python",
   "name": "python",
   "nbconvert_exporter": "python",
   "pygments_lexer": "ipython3",
   "version": 3
  },
  "orig_nbformat": 2,
  "kernelspec": {
   "name": "python_defaultSpec_1597188789755",
   "display_name": "Python 3.8.5 64-bit"
  }
 },
 "nbformat": 4,
 "nbformat_minor": 2,
 "cells": [
  {
   "cell_type": "code",
   "execution_count": null,
   "metadata": {},
   "outputs": [],
   "source": [
    "Problem\n",
    "Given: A positive integer k≤20, a postive integer n≤104, and k arrays of size n containing integers from −105 to 105.\n",
    "\n",
    "Return: For each array A[1..n], output three different indices 1≤p<q<r≤n such that A[p]+A[q]+A[r]=0 if exist, and \"-1\" otherwise."
   ]
  },
  {
   "cell_type": "code",
   "execution_count": null,
   "metadata": {},
   "outputs": [],
   "source": [
    "Sample Dataset\n",
    "4 5\n",
    "2 -3 4 10 5\n",
    "8 -6 4 -2 -8\n",
    "-5 2 3 2 -4\n",
    "2 4 -5 6 8\n",
    "===========\n",
    "-5 2 3 7 -4\n",
    "6 -2 -1 3 4\n",
    "\n",
    "Sample Output\n",
    "-1\n",
    "1 2 4\n",
    "1 2 3\n",
    "-1"
   ]
  },
  {
   "cell_type": "code",
   "execution_count": null,
   "metadata": {},
   "outputs": [],
   "source": [
    "import itertools"
   ]
  },
  {
   "cell_type": "code",
   "execution_count": 174,
   "metadata": {},
   "outputs": [],
   "source": [
    "arr1 = [2, -3, 4, 10, 5]\n",
    "arr2 = [8, -6, 4, -2, -8]\n",
    "arr3 = [-5, 2, 3, 2, -4]\n",
    "arr4 = [2, 4, -5, 6, 8]\n",
    "big_array = [arr1, arr2, arr3, arr4]"
   ]
  },
  {
   "cell_type": "code",
   "execution_count": 171,
   "metadata": {},
   "outputs": [],
   "source": [
    "with open(\"test.txt\", \"r\") as my_file:\n",
    "    text_data = my_file.readlines()\n",
    "    int_array = []\n",
    "    for array in text_data[1:]:\n",
    "        int_array.append([int(text) for text in array.split()])"
   ]
  },
  {
   "cell_type": "code",
   "execution_count": null,
   "metadata": {},
   "outputs": [],
   "source": [
    "my_dict = get_my_dict(int_array)"
   ]
  },
  {
   "cell_type": "code",
   "execution_count": 172,
   "metadata": {
    "tags": []
   },
   "outputs": [],
   "source": [
    "results = get_result_v2(int_array)"
   ]
  },
  {
   "cell_type": "code",
   "execution_count": 173,
   "metadata": {},
   "outputs": [],
   "source": [
    "with open(\"result.txt\", \"a\") as my_file:\n",
    "    for result in results:\n",
    "        my_file.write(str(result).replace(\"[\",\"\").replace(\"]\", \"\").replace(\",\", \"\") + '\\n') "
   ]
  },
  {
   "cell_type": "code",
   "execution_count": null,
   "metadata": {},
   "outputs": [],
   "source": [
    "def get_result(big_list):\n",
    "    result = []\n",
    "    for my_list in big_list:\n",
    "        my_dict = get_my_dict(my_list)\n",
    "        positions = get_positions_v2(my_dict)\n",
    "        result.append(positions)\n",
    "        ## remember the number needs to be less than the length of the array\n",
    "    return result"
   ]
  },
  {
   "cell_type": "code",
   "execution_count": 160,
   "metadata": {},
   "outputs": [],
   "source": [
    "def get_result_v2(big_list):\n",
    "    result = []\n",
    "    for my_list in big_list:\n",
    "        positions = get_positions_v2(my_list)\n",
    "        result.append(positions)\n",
    "        ## remember the number needs to be less than the length of the array\n",
    "    return result"
   ]
  },
  {
   "cell_type": "code",
   "execution_count": 157,
   "metadata": {
    "tags": []
   },
   "outputs": [
    {
     "output_type": "stream",
     "name": "stdout",
     "text": "CPU times: user 7 µs, sys: 1e+03 ns, total: 8 µs\nWall time: 12.2 µs\n"
    }
   ],
   "source": [
    "%%time\n",
    "def get_my_dict(my_list):\n",
    "    my_dict = {}\n",
    "    for index, value in enumerate(my_list):\n",
    "        if value not in my_dict:\n",
    "            my_dict[value] = index\n",
    "    return my_dict"
   ]
  },
  {
   "cell_type": "code",
   "execution_count": 126,
   "metadata": {
    "tags": []
   },
   "outputs": [
    {
     "output_type": "stream",
     "name": "stdout",
     "text": "CPU times: user 7 µs, sys: 1 µs, total: 8 µs\nWall time: 11 µs\n"
    }
   ],
   "source": [
    "%%time\n",
    "def get_positions(my_dict):\n",
    "    for key in my_dict.keys():\n",
    "        end = 0\n",
    "        start = 0\n",
    "        if key < 0:\n",
    "            start = key + 1\n",
    "            end = -key\n",
    "        else:\n",
    "            start = -key\n",
    "            end = key + 1\n",
    "        my_list = [item for item in my_dict.keys() if item != key]\n",
    "        for number in my_list:\n",
    "            if permutation[0] in my_dict and permutation[1] in my_dict:\n",
    "                if permutation[0] + permutation[1] + key == 0:\n",
    "                    positions = [my_dict[permutation[0]] + 1, my_dict[key] + 1, my_dict[permutation[1]] + 1]\n",
    "                    positions.sort()\n",
    "                    return positions\n",
    "    return -1\n",
    "\n"
   ]
  },
  {
   "cell_type": "code",
   "execution_count": 196,
   "metadata": {
    "tags": []
   },
   "outputs": [
    {
     "output_type": "stream",
     "name": "stdout",
     "text": "CPU times: user 6 µs, sys: 1e+03 ns, total: 7 µs\nWall time: 9.06 µs\n"
    }
   ],
   "source": [
    "%%time\n",
    "def get_positions_v2(my_list):\n",
    "    for key in my_dict.keys():\n",
    "        my_list = [item for item in my_dict.keys() if item != key]\n",
    "        for number in my_list:\n",
    "            if permutation[0] in my_dict and permutation[1] in my_dict:\n",
    "                if permutation[0] + permutation[1] + key == 0:\n",
    "                    positions = [my_dict[permutation[0]] + 1, my_dict[key] + 1, my_dict[permutation[1]] + 1]\n",
    "                    positions.sort()\n",
    "                    return positions\n",
    "    return -1"
   ]
  },
  {
   "cell_type": "code",
   "execution_count": 197,
   "metadata": {
    "tags": []
   },
   "outputs": [
    {
     "output_type": "stream",
     "name": "stdout",
     "text": "this is the key 8 and the op result 14\nthis is the key -6 and the op result -10\nthis is the key 4 and the op result 6\nthis is the index 2 and this my_list 4\n"
    },
    {
     "output_type": "execute_result",
     "data": {
      "text/plain": "[1, 2, 3]"
     },
     "metadata": {},
     "execution_count": 197
    }
   ],
   "source": [
    "get_positions_v2(arr2)"
   ]
  },
  {
   "cell_type": "code",
   "execution_count": 147,
   "metadata": {
    "tags": []
   },
   "outputs": [
    {
     "output_type": "stream",
     "name": "stdout",
     "text": "this is the index 0 this is the key 8\nthis is the index 1 this is the key -6\nthis is the index 2 this is the key 4\nthis is the index 3 this is the key -2\nthis is the index 4 this is the key -8\n"
    }
   ],
   "source": [
    "my_dict = get_my_dict(int_array[1])\n",
    "temp = list(my_dict)\n",
    "for index, key in enumerate(temp):"
   ]
  },
  {
   "cell_type": "code",
   "execution_count": null,
   "metadata": {},
   "outputs": [],
   "source": [
    ". atleast one negative should be there\n",
    ". fixed size of three\n",
    ". two added needs its counter part\n",
    "1. build a dictionary of all elements\n",
    "2. check if there are a pair of keys that add up to the counter part\n",
    "3. if not return -1"
   ]
  },
  {
   "cell_type": "code",
   "execution_count": null,
   "metadata": {},
   "outputs": [],
   "source": [
    "bag = [1, 2, 4]\n",
    "curentsum = 8\n",
    "\n",
    "slider =  [-6, 4]\n",
    "\n",
    "- check for the lower number combining with the bag and save it\n",
    "- if adds to 0 record numbers, before recording sort them\n",
    "- if its bigger than what I have dont check it and the sum is > 0\n",
    "- if the bag has two elements look for its counter part\n",
    "- if not there -1\n",
    "\n"
   ]
  },
  {
   "cell_type": "code",
   "execution_count": 18,
   "metadata": {},
   "outputs": [],
   "source": [
    "arr1 = [8, -6, 4, -2, -8]"
   ]
  },
  {
   "cell_type": "code",
   "execution_count": 33,
   "metadata": {},
   "outputs": [],
   "source": [
    "##attempt #4\n",
    "def quicksort_2(my_list):\n",
    "    length = len(my_list)\n",
    "    if length <= 1:\n",
    "        return my_list\n",
    "    else:\n",
    "        pivot = my_list.pop()\n",
    "        lower_items = []\n",
    "        greater_items = []\n",
    "\n",
    "        for number in my_list:\n",
    "            if number > pivot:\n",
    "                greater_items.append(number)\n",
    "            else:\n",
    "                lower_items.append(number)\n",
    "        return quicksort_2(lower_items) + [pivot] + quicksort_2(greater_items)\n",
    "\n",
    "def get_point_break(my_list):\n",
    "    for index in range(0, len(my_list)):\n",
    "        if my_list[index] > 0:\n",
    "            return index\n",
    "\n",
    "def get_my_dict(my_list):\n",
    "    my_dict = {}\n",
    "    for index, value in enumerate(my_list):\n",
    "        if value not in my_dict:\n",
    "            my_dict[value] = index\n",
    "    return my_dict\n",
    "\n",
    "def get_positions(my_list, my_dict):\n",
    "    follower = 0\n",
    "    leader = len(my_list) - 1\n",
    "    zero = False\n",
    "    while follower < leader and not zero:\n",
    "        test = my_list[follower] + my_list[leader]\n",
    "        if -test in my_dict:\n",
    "            result = [follower, leader, my_dict[-test]]\n",
    "            result.sort()\n",
    "            return result\n",
    "        else:\n",
    "            follower += 1\n",
    "            leader -= 1\n",
    "    return -1"
   ]
  },
  {
   "cell_type": "code",
   "execution_count": 31,
   "metadata": {},
   "outputs": [],
   "source": [
    "my_list = quicksort_2(arr1)\n",
    "my_dict = get_my_dict(my_list)\n",
    "final_result = get_positions(my_list, my_dict)"
   ]
  },
  {
   "cell_type": "code",
   "execution_count": null,
   "metadata": {},
   "outputs": [],
   "source": [
    "def negative_world(my_list, end):\n",
    "    "
   ]
  }
 ]
}