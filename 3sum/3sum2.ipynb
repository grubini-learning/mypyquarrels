{
 "metadata": {
  "language_info": {
   "codemirror_mode": {
    "name": "ipython",
    "version": 3
   },
   "file_extension": ".py",
   "mimetype": "text/x-python",
   "name": "python",
   "nbconvert_exporter": "python",
   "pygments_lexer": "ipython3",
   "version": 3
  },
  "orig_nbformat": 2,
  "kernelspec": {
   "name": "python_defaultSpec_1597353337744",
   "display_name": "Python 3.8.5 64-bit"
  }
 },
 "nbformat": 4,
 "nbformat_minor": 2,
 "cells": [
  {
   "cell_type": "code",
   "execution_count": null,
   "metadata": {},
   "outputs": [],
   "source": [
    "Problem\n",
    "Given: A positive integer k≤20, a postive integer n≤104, and k arrays of size n containing integers from −105 to 105.\n",
    "\n",
    "Return: For each array A[1..n], output three different indices 1≤p<q<r≤n such that A[p]+A[q]+A[r]=0 if exist, and \"-1\" otherwise.\n",
    "\n",
    "Sample Dataset\n",
    "4 5\n",
    "2 -3 4 10 5\n",
    "8 -6 4 -2 -8\n",
    "-5 2 3 2 -4\n",
    "2 4 -5 6 8\n",
    "===========\n",
    "-5 2 3 7 -4\n",
    "6 -2 -1 3 4\n",
    "\n",
    "Sample Output\n",
    "-1\n",
    "1 2 4\n",
    "1 2 3\n",
    "-1"
   ]
  },
  {
   "cell_type": "code",
   "execution_count": 2,
   "metadata": {},
   "outputs": [],
   "source": [
    "arr1 = [2, -3, 4, 10, 5]\n",
    "arr2 = [8, -6, 4, -2, -8]\n",
    "arr3 = [-5, 2, 3, 2, -4]\n",
    "arr4 = [2, 4, -5, 6, 8]\n",
    "big_array = [arr1, arr2, arr3, arr4]"
   ]
  },
  {
   "cell_type": "code",
   "execution_count": 37,
   "metadata": {},
   "outputs": [],
   "source": [
    "def sum_3(my_list):\n",
    "    my_list.sort()\n",
    "    for index in range(0, len(my_list)):\n",
    "        pointer_a = index + 1\n",
    "        pointer_b = len(my_list) - 1\n",
    "        if my_list[index] != 0 and my_list[index] == my_list[index - 1]:\n",
    "            continue\n",
    "        while pointer_a < pointer_b:\n",
    "            if my_list[index] + my_list[pointer_a] + my_list[pointer_b] == 0:\n",
    "                result = [index, pointer_a, pointer_b]\n",
    "                result.sort()\n",
    "                return result\n",
    "            elif pointer_a < 0:\n",
    "                pointer_a += 1\n",
    "            else:\n",
    "                pointer_b -= 1\n",
    "    return -1\n"
   ]
  },
  {
   "cell_type": "code",
   "execution_count": 91,
   "metadata": {},
   "outputs": [],
   "source": [
    "with open(\"test.txt\", \"r\") as my_file:\n",
    "    text_data = my_file.readlines()\n",
    "    int_array = []\n",
    "    for array in text_data[1:]:\n",
    "        int_array.append([int(text) for text in array.split()])"
   ]
  },
  {
   "cell_type": "code",
   "execution_count": 92,
   "metadata": {},
   "outputs": [],
   "source": [
    "result = []\n",
    "for sub_list in int_array:\n",
    "    indices = get_positions(sub_list)\n",
    "    if indices:\n",
    "        list(indices).sort()\n",
    "        result.append(indices)\n",
    "    else:\n",
    "        result.append(-1)"
   ]
  },
  {
   "cell_type": "code",
   "execution_count": 93,
   "metadata": {
    "tags": []
   },
   "outputs": [],
   "source": [
    "with open('result.txt','w') as f: \n",
    "    for item in result:\n",
    "        if item == -1: \n",
    "            f.write(\"%d\" % item)\n",
    "        else:\n",
    "            for position in item:\n",
    "                f.write(\"%d\" % position) \n",
    "                f.write(\" \")\n",
    "        f.write(\"\\n\")"
   ]
  },
  {
   "cell_type": "code",
   "execution_count": 89,
   "metadata": {},
   "outputs": [],
   "source": [
    "def get_positions(my_list):\n",
    "    positions_dict = {}\n",
    "    for index in range(len(my_list)):\n",
    "        if my_list[index] not in positions_dict:\n",
    "            positions_dict[my_list[index]] = set()\n",
    "        positions_dict[my_list[index]].add(index)\n",
    "    \n",
    "    for follower in range(len(my_list)):\n",
    "        for leader in range(follower + 1, len(my_list)):\n",
    "            target = -my_list[follower] - my_list[leader]\n",
    "            if target in positions_dict:\n",
    "                positions = list(filter(lambda item: item != follower and item != leader, positions_dict[target]))\n",
    "                if positions:\n",
    "                    return follower + 1, leader + 1, positions[0] + 1"
   ]
  },
  {
   "cell_type": "code",
   "execution_count": 94,
   "metadata": {},
   "outputs": [
    {
     "output_type": "execute_result",
     "data": {
      "text/plain": "[8, -6, 4, -2, -8]"
     },
     "metadata": {},
     "execution_count": 94
    }
   ],
   "source": [
    "list(filter(lambda item: item % 2 == 0 ,[8, -6, 4, -2, -8]))"
   ]
  },
  {
   "cell_type": "code",
   "execution_count": null,
   "metadata": {},
   "outputs": [],
   "source": []
  }
 ]
}