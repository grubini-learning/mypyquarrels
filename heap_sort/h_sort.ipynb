{
 "metadata": {
  "language_info": {
   "codemirror_mode": {
    "name": "ipython",
    "version": 3
   },
   "file_extension": ".py",
   "mimetype": "text/x-python",
   "name": "python",
   "nbconvert_exporter": "python",
   "pygments_lexer": "ipython3",
   "version": 3
  },
  "orig_nbformat": 2,
  "kernelspec": {
   "name": "python_defaultSpec_1596940146292",
   "display_name": "Python 3.8.5 64-bit"
  }
 },
 "nbformat": 4,
 "nbformat_minor": 2,
 "cells": [
  {
   "cell_type": "code",
   "execution_count": null,
   "metadata": {},
   "outputs": [],
   "source": [
    "import math"
   ]
  },
  {
   "cell_type": "code",
   "execution_count": null,
   "metadata": {},
   "outputs": [],
   "source": [
    "json.detect_encoding"
   ]
  },
  {
   "cell_type": "code",
   "execution_count": 252,
   "metadata": {},
   "outputs": [],
   "source": [
    "def compare_v2(p, lc, rc, array):\n",
    "    swap = False\n",
    "    if array[p] < array[lc]:\n",
    "        array[p], array[lc] = array[lc], array[p]\n",
    "        swap = True\n",
    "    if array[p] < array[rc]:\n",
    "        array[p], array[rc] = array[rc], array[p]\n",
    "        swap = True\n",
    "    return swap"
   ]
  },
  {
   "cell_type": "code",
   "execution_count": 253,
   "metadata": {},
   "outputs": [],
   "source": [
    "def _switching(family, arr):\n",
    "    for array in family:\n",
    "        p, lc, rc = array\n",
    "        if rc < len(arr):\n",
    "            compare_v2(p, lc, rc, arr)"
   ]
  },
  {
   "cell_type": "code",
   "execution_count": 254,
   "metadata": {},
   "outputs": [],
   "source": [
    "def _generate_family(parent, last):\n",
    "    if last:\n",
    "        lc = parent * 2\n",
    "        rc = parent * 2 + 1\n",
    "    else:\n",
    "        lc = parent * 2 + 1\n",
    "        rc = parent * 2 + 2\n",
    "    return (parent, lc, rc)"
   ]
  },
  {
   "cell_type": "code",
   "execution_count": 255,
   "metadata": {},
   "outputs": [],
   "source": [
    "def _generate_nlr(array):\n",
    "    p = 0\n",
    "    lc = p * 2 + 1\n",
    "    rc = p * 2 + 2\n",
    "    family = [(p, lc, rc)]\n",
    "    half = len(array) // 2\n",
    "    for index in range(1, half + 1):\n",
    "        family.append(_generate_family(index, index == half))\n",
    "    return family"
   ]
  },
  {
   "cell_type": "code",
   "execution_count": 256,
   "metadata": {},
   "outputs": [],
   "source": [
    "def heapify(array):\n",
    "    maximum = max(array)\n",
    "    family = _generate_nlr(array)\n",
    "    while array[0] != maximum:\n",
    "        _switching(family, array)"
   ]
  },
  {
   "cell_type": "code",
   "execution_count": 279,
   "metadata": {},
   "outputs": [],
   "source": [
    "def heap_sort(array):\n",
    "    total_positions = len(array)\n",
    "    result = []\n",
    "    l_bound = 0\n",
    "    MAX_NUMBER = 0\n",
    "    heapify(array)\n",
    "    for index in range(total_positions - 1, 0, -1):\n",
    "        array[index], array[MAX_NUMBER] = array[index], array[MAX_NUMBER]\n",
    "        \n",
    "        #result.insert(0, array[MAX_ELEMENT])\n",
    "\n",
    "        \n",
    "        \"\"\"total_positions -= 1\n",
    "        array = array[0:total_positions]\"\"\"\n",
    "        #l_bound += 1\n",
    "        if len(array) > 0:\n",
    "            heapify(array)\n",
    "        else:\n",
    "            break\n",
    "    return result"
   ]
  },
  {
   "cell_type": "code",
   "execution_count": 447,
   "metadata": {},
   "outputs": [],
   "source": [
    "with open(\"rosalind_hs (2).txt\", 'r') as my_file:\n",
    "    data = my_file.readlines()[1]\n",
    "    ints = [int(number) for number in data.split()]"
   ]
  },
  {
   "cell_type": "code",
   "execution_count": 367,
   "metadata": {
    "tags": []
   },
   "outputs": [],
   "source": [
    "arr = [2, 6, 7, 1, 3, 5, 4, 8, 9]\n"
   ]
  },
  {
   "cell_type": "code",
   "execution_count": 449,
   "metadata": {},
   "outputs": [],
   "source": [
    "def heapsort( array ):\n",
    "  # comply with max heap rules\n",
    "  length = len( array ) - 1\n",
    "  leastParent = length // 2\n",
    "  for index in range ( leastParent, -1, -1 ):\n",
    "    move_to_ordered_partition( array, index, length )\n",
    " \n",
    "  # sort array\n",
    "  for i in range ( length, 0, -1 ):\n",
    "    if array[0] > array[index]:\n",
    "      swap( array, 0, index )\n",
    "      move_to_ordered_partition( array, 0, index - 1 )\n",
    " \n",
    " \n",
    "def move_to_ordered_partition( array, first, last ):\n",
    "  largest = 2 * first + 1\n",
    "  while largest <= last:\n",
    "    # right bigger than left\n",
    "    if ( largest < last ) and ( array[largest] < array[largest + 1] ):\n",
    "      largest += 1\n",
    " \n",
    "    # right child bigger than parent\n",
    "    if array[largest] > array[first]:\n",
    "      swap( array, largest, first )\n",
    "      # parent changes positions\n",
    "      first = largest;\n",
    "      largest = 2 * first + 1\n",
    "    else:\n",
    "        #didn't find any child bigger than parent\n",
    "      return\n",
    " \n",
    " \n",
    "def swap( A, larger, smaller ):\n",
    "  tmp = A[larger]\n",
    "  A[larger] = A[smaller]\n",
    "  A[smaller] = tmp"
   ]
  },
  {
   "cell_type": "code",
   "execution_count": 450,
   "metadata": {
    "tags": []
   },
   "outputs": [],
   "source": [
    "heapsort(ints)"
   ]
  },
  {
   "cell_type": "code",
   "execution_count": 440,
   "metadata": {},
   "outputs": [
    {
     "output_type": "execute_result",
     "data": {
      "text/plain": "[-99998, -99995, -99988, -99986, -99985]"
     },
     "metadata": {},
     "execution_count": 440
    }
   ],
   "source": [
    "ints[:5]"
   ]
  },
  {
   "cell_type": "code",
   "execution_count": 434,
   "metadata": {},
   "outputs": [],
   "source": [
    "with open(\"result.txt\", \"w\") as my_file:\n",
    "    my_file.write(str(ints).strip(\"[]\").replace(\",\", \"\"))"
   ]
  },
  {
   "cell_type": "code",
   "execution_count": null,
   "metadata": {},
   "outputs": [],
   "source": []
  }
 ]
}