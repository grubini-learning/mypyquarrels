{
 "metadata": {
  "language_info": {
   "codemirror_mode": {
    "name": "ipython",
    "version": 3
   },
   "file_extension": ".py",
   "mimetype": "text/x-python",
   "name": "python",
   "nbconvert_exporter": "python",
   "pygments_lexer": "ipython3",
   "version": 3
  },
  "orig_nbformat": 2,
  "kernelspec": {
   "name": "python_defaultSpec_1596783238596",
   "display_name": "Python 3.8.5 64-bit"
  }
 },
 "nbformat": 4,
 "nbformat_minor": 2,
 "cells": [
  {
   "cell_type": "code",
   "execution_count": null,
   "metadata": {},
   "outputs": [],
   "source": [
    "def compare(a, b):\n",
    "    return a < b"
   ]
  },
  {
   "cell_type": "code",
   "execution_count": null,
   "metadata": {},
   "outputs": [],
   "source": [
    "array = [-6, 15, 1, 10, 8, 12, 9, 13, 19, ]\n",
    "\n",
    "count = 0\n",
    "pointer1 = 0\n",
    "pointer2 = len(array) - 1\n",
    "temp = None\n",
    "\n",
    "while (pointer1 < pointer2):\n",
    "    if compare(array[pointer1], array[pointer1 + 1]):\n",
    "        pointer1 += 1\n",
    "    else:\n",
    "        count += 1\n",
    "        temp = array[pointer1]\n",
    "        pointer1 += 2\n",
    "        while pointer1 < len(array) and compare(array[pointer1], temp):\n",
    "            pointer1 += 1\n",
    "            count += 1\n",
    "\n",
    "    if compare(array[pointer2 - 1], array[pointer2]):\n",
    "        pointer2 -= 1\n",
    "count\n"
   ]
  },
  {
   "cell_type": "code",
   "execution_count": 224,
   "metadata": {},
   "outputs": [],
   "source": [
    "def merge(array):\n",
    "    if len(array) > 1:\n",
    "        middle = len(array) // 2\n",
    "        left_array = array[:middle]\n",
    "        right_array = array[middle:]\n",
    "\n",
    "        merge(left_array)\n",
    "        merge(right_array)\n",
    "\n",
    "        first_index = second_index = new_index = 0\n",
    "        \n",
    "        while first_index < len(left_array) and second_index < len(right_array):\n",
    "            if left_array[first_index] < right_array[second_index]:\n",
    "                array[new_index] = left_array[first_index]\n",
    "                first_index += 1\n",
    "            else:\n",
    "                array[new_index] = right_array[second_index]\n",
    "                second_index += 1\n",
    "            new_index += 1\n",
    "        \n",
    "        while first_index < len(left_array):\n",
    "                array[new_index] = left_array[first_index]\n",
    "                first_index += 1\n",
    "                new_index += 1\n",
    "\n",
    "        while second_index < len(right_array):\n",
    "                array[new_index] = right_array[second_index]\n",
    "                second_index += 1\n",
    "                new_index += 1"
   ]
  },
  {
   "cell_type": "code",
   "execution_count": 98,
   "metadata": {},
   "outputs": [],
   "source": [
    "array = [6, 15, 1, 10, 8, 12, 9, 13, 19, 2]"
   ]
  },
  {
   "cell_type": "code",
   "execution_count": 225,
   "metadata": {},
   "outputs": [],
   "source": [
    "def shellSort(array, n):\n",
    "    count = 0\n",
    "    interval = n // 2\n",
    "    while interval > 0:\n",
    "        for i in range(interval, n):\n",
    "            count += 1\n",
    "            temp = array[i]\n",
    "            j = i\n",
    "            while j >= interval and array[j - interval] > temp:\n",
    "                count = count + 1\n",
    "                array[j] = array[j - interval]\n",
    "                j -= interval\n",
    "\n",
    "            array[j] = temp\n",
    "        interval //= 2\n",
    "    return count\n",
    "\n",
    "\n",
    "\n",
    "\n"
   ]
  },
  {
   "cell_type": "code",
   "execution_count": 78,
   "metadata": {},
   "outputs": [],
   "source": [
    "def countingSort(arr, exp1): \n",
    "\n",
    "\tn = len(arr) \n",
    "    #making list to n \n",
    "\toutput = [0] * (n) \n",
    "\n",
    "    #we can only count up to 10, so 10 buckets\n",
    "\tcount = [0] * (10) \n",
    "\n",
    "    #counting the frequency in which the digit least significant digit repeats\n",
    "\tfor i in range(0, n): \n",
    "\t\tindex = (arr[i]/exp1) \n",
    "\t\tcount[ int((index)%10) ] += 1\n",
    "\n",
    "    #we are adding the previous numbers to get the total count\n",
    "    #each cell will have all the numbers that are pior to it\n",
    "\tfor i in range(1,10): \n",
    "\t\tcount[i] += count[i-1] \n",
    "\n",
    "\n",
    "    #decrement it by one to fit the index of the array\n",
    "\ti = n-1\n",
    "\twhile i>=0: \n",
    "\t\tindex = (arr[i]/exp1) \n",
    "\t\toutput[ count[ int((index)%10) ] - 1] = arr[i] \n",
    "\t\tcount[int((index)%10) ] -= 1\n",
    "\t\ti -= 1\n",
    "\n",
    "    #output it back from the amount of each number in the index bucket you have\n",
    "\ti = 0\n",
    "\tfor i in range(0,len(arr)): \n",
    "\t\tarr[i] = output[i] \n",
    "\n"
   ]
  },
  {
   "cell_type": "code",
   "execution_count": 79,
   "metadata": {},
   "outputs": [],
   "source": [
    "def radixSort(arr): \n",
    "\n",
    "\t# Find the maximum number to know number of digits \n",
    "\tmax1 = max(arr) \n",
    "\n",
    "\t# Do counting sort for every digit. Note that instead \n",
    "\t# of passing digit number, exp is passed. exp is 10^i \n",
    "\t# where i is current digit number \n",
    "\texp = 1\n",
    "\twhile int(max1/exp) > 0: \n",
    "\t\tcountingSort(arr,exp) \n",
    "\t\texp *= 10"
   ]
  },
  {
   "cell_type": "code",
   "execution_count": 220,
   "metadata": {},
   "outputs": [],
   "source": [
    "def merge(array):\n",
    "    if len(array) == 1:\n",
    "        return array, 0\n",
    "    else:\n",
    "        middle = len(array) // 2\n",
    "        left_array = array[:middle]\n",
    "        right_array = array[middle:]\n",
    "\n",
    "        left_array, left_inv = merge(left_array)\n",
    "        right_array, right_inv = merge(right_array)\n",
    "        ordered = []\n",
    "\n",
    "        first_index = second_index = 0\n",
    "        inversions = 0 + left_inv + right_inv\n",
    "        \n",
    "        while first_index < len(left_array) and second_index < len(right_array):\n",
    "            if left_array[first_index] <= right_array[second_index]:\n",
    "                ordered.append(left_array[first_index])\n",
    "                first_index += 1\n",
    "            else:\n",
    "                ordered.append(right_array[second_index])\n",
    "                second_index += 1\n",
    "                inversions += len(left_array) - first_index\n",
    "        \n",
    "        ordered += left_array[first_index:]\n",
    "        ordered += right_array[second_index:]\n",
    "    return (ordered, inversions)"
   ]
  },
  {
   "cell_type": "code",
   "execution_count": 213,
   "metadata": {
    "tags": []
   },
   "outputs": [],
   "source": [
    "array_one = [-6, 15, 1, 10]"
   ]
  },
  {
   "cell_type": "code",
   "execution_count": 180,
   "metadata": {},
   "outputs": [],
   "source": [
    "with open(\"rosalind_inv (3).txt\", \"r\") as my_file:\n",
    "    text_data = my_file.readlines()\n",
    "    numbs = [int(num) for num in text_data[1].split()]\n",
    "    \"\"\"int_array = []\"\"\"\n",
    "    \"\"\"\"for array in text_data[1:]:\n",
    "        int_array.append([int(text) for text in array.split()])\"\"\""
   ]
  },
  {
   "cell_type": "code",
   "execution_count": 181,
   "metadata": {
    "tags": []
   },
   "outputs": [
    {
     "output_type": "execute_result",
     "data": {
      "text/plain": "1882153203"
     },
     "metadata": {},
     "execution_count": 181
    }
   ],
   "source": [
    "count = 0\n",
    "number = mergeSortInversions(numbs)[1]\n",
    "number"
   ]
  },
  {
   "cell_type": "code",
   "execution_count": null,
   "metadata": {},
   "outputs": [],
   "source": [
    "with open(\"result.txt\", \"a\") as my_file:\n",
    "    "
   ]
  },
  {
   "cell_type": "code",
   "execution_count": null,
   "metadata": {},
   "outputs": [],
   "source": []
  }
 ]
}