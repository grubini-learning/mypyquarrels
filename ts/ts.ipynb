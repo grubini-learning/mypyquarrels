{
 "metadata": {
  "language_info": {
   "codemirror_mode": {
    "name": "ipython",
    "version": 3
   },
   "file_extension": ".py",
   "mimetype": "text/x-python",
   "name": "python",
   "nbconvert_exporter": "python",
   "pygments_lexer": "ipython3",
   "version": "3.8.5-final"
  },
  "orig_nbformat": 2,
  "kernelspec": {
   "name": "python_defaultSpec_1597698321731",
   "display_name": "Python 3.8.5 64-bit"
  }
 },
 "nbformat": 4,
 "nbformat_minor": 2,
 "cells": [
  {
   "cell_type": "code",
   "execution_count": 106,
   "metadata": {
    "tags": []
   },
   "outputs": [],
   "source": [
    "g = Graph(6)\n",
    "g.add_edge(1,2)\n",
    "g.add_edge(3,1)\n",
    "g.add_edge(3,2)\n",
    "g.add_edge(4,3)\n",
    "g.add_edge(4,2)"
   ]
  },
  {
   "cell_type": "code",
   "execution_count": 156,
   "metadata": {},
   "outputs": [],
   "source": [
    "class Graph:\n",
    "    def __init__(self, vertices):\n",
    "        self.directions = {vertex: set() for vertex in range(vertices + 1)}\n",
    "        self.visited = set()\n",
    "        self.topological_sort = []\n",
    "        self.stack = [1]\n",
    "\n",
    "    def add_edge(self, nodea, nodeb):\n",
    "        self.directions[nodea].add(nodeb)\n",
    "\n",
    "    def get_graph(self):\n",
    "        return self.directions\n",
    "    \n",
    "    def get_topological_sort(self):\n",
    "        return self.topological_sort\n",
    "\n",
    "    def get_visited(self):\n",
    "        return self.visited\n",
    "\n",
    "    def validation(self):\n",
    "        for key in self.directions.keys():\n",
    "            if len(self.directions[key]) > 0:\n",
    "                if key not in self.visited:\n",
    "                    self.visited.add(key)\n",
    "                    self.dfs_traversal(key)\n",
    "    \n",
    "    def dfs_traversal(self, node):\n",
    "        for neighbor in self.directions[node]:\n",
    "            if neighbor not in self.visited:\n",
    "                self.visited.add(neighbor)\n",
    "                self.dfs_traversal(neighbor)\n",
    "        self.topological_sort.append(node)\n"
   ]
  },
  {
   "cell_type": "code",
   "execution_count": 158,
   "metadata": {},
   "outputs": [],
   "source": [
    "with open(\"rosalind_ts.txt\", \"r\") as f:\n",
    "    vertices, edges = map(int, f.readline().split())\n",
    "    g = Graph(vertices)\n",
    "\n",
    "    while True:\n",
    "        line = f.readline()\n",
    "        if not line:\n",
    "            break\n",
    "        nodea, nodeb = map(int, line.split())\n",
    "        g.add_edge(nodea, nodeb)\n",
    "    \n",
    "    g.validation()\n",
    "    result = g.get_topological_sort()\n",
    "    s = \" \".join(map(str, result[::-1]))\n",
    "\n",
    "with open(\"result.txt\", \"w\") as f:\n",
    "    f.write(s)\n",
    "\n",
    "    "
   ]
  },
  {
   "cell_type": "code",
   "execution_count": null,
   "metadata": {},
   "outputs": [],
   "source": []
  }
 ]
}