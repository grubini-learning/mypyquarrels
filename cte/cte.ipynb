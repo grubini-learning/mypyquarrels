{
 "metadata": {
  "language_info": {
   "codemirror_mode": {
    "name": "ipython",
    "version": 3
   },
   "file_extension": ".py",
   "mimetype": "text/x-python",
   "name": "python",
   "nbconvert_exporter": "python",
   "pygments_lexer": "ipython3",
   "version": "3.7.3-final"
  },
  "orig_nbformat": 2,
  "kernelspec": {
   "name": "python_defaultSpec_1597945379740",
   "display_name": "Python 3.7.3 64-bit ('3.7.3': pyenv)"
  }
 },
 "nbformat": 4,
 "nbformat_minor": 2,
 "cells": [
  {
   "cell_type": "code",
   "execution_count": null,
   "metadata": {},
   "outputs": [],
   "source": [
    "import queue\n",
    "q = queue.Queue()\n",
    "\"\"\"my_dict = {\n",
    "    1: [(3, 4)],\n",
    "    2: [(4, 2), (1, 10)],\n",
    "    3: [(2, 1)],\n",
    "    4: [(1, 3)]\n",
    "}\"\"\"\n",
    "#edge_list = {3: [{2, 1}], 2: [{4, 2}, {1, 10}], 4: [{1, 3}], 1: [{3, 4}]}\n",
    "edge_list = {3: [{2, 1}], 2: [{4, 2}, {1, 10}], 4: [{1, 3}], 1: [{3, 4}]}\n",
    "distances = [None, None, None, None]"
   ]
  },
  {
   "cell_type": "code",
   "execution_count": null,
   "metadata": {
    "tags": []
   },
   "outputs": [],
   "source": [
    "def bfs():\n",
    "    source = 3\n",
    "    q.put(3)\n",
    "    while not q.empty():\n",
    "        city = q.get()\n",
    "        print(f'====> {city}')\n",
    "        adjs = my_dict[city]\n",
    "        for edge in adjs:\n",
    "            adj = edge[0]\n",
    "            if adj == source:\n",
    "                print(f'====> {adj}')\n",
    "                return\n",
    "            q.put(adj)"
   ]
  },
  {
   "cell_type": "code",
   "execution_count": null,
   "metadata": {
    "tags": []
   },
   "outputs": [],
   "source": [
    "bfs()"
   ]
  },
  {
   "cell_type": "code",
   "execution_count": 56,
   "metadata": {
    "tags": []
   },
   "outputs": [],
   "source": [
    "discovered = [False] * (4 + 1)\n",
    "q = queue.Queue()\n",
    "#edge_list = {3: [{2, 1}], 2: [{4, 2}, {1, 10}], 4: [{1, 3}], 1: [{3, 4}]}\n",
    "#edge_list = [(3, 2, 1), (2, 4, 2), (4, 1, 3), (2, 1, 10), (1, 3, 4)]\n",
    "graph = [[], [3], [1, 4], [2], [1]]\n",
    "cycle_dist = []\n",
    "discovered[0] = True\n"
   ]
  },
  {
   "cell_type": "code",
   "execution_count": 57,
   "metadata": {},
   "outputs": [],
   "source": [
    "def arrangement(source, discovered, q):\n",
    "    if not discovered[source]:\n",
    "        discovered[source] = True\n",
    "        q.put(source)\n",
    "        bfs2(graph, q, discovered)"
   ]
  },
  {
   "cell_type": "code",
   "execution_count": 58,
   "metadata": {},
   "outputs": [],
   "source": [
    "def bfs2(graph, q, discovered, source):\n",
    "    if q.empty():\n",
    "        return\n",
    "\n",
    "    city = q.get()\n",
    "    print(city, end=' ')\n",
    "\n",
    "    adjs = graph[city]\n",
    "    for adj in adjs:\n",
    "        if not discovered[adj]:\n",
    "            discovered[adj] = True\n",
    "            q.put(adj)\n",
    "    bfs2(graph, q, discovered)"
   ]
  },
  {
   "cell_type": "code",
   "execution_count": 59,
   "metadata": {
    "tags": []
   },
   "outputs": [
    {
     "output_type": "stream",
     "name": "stdout",
     "text": "3 2 1 4"
    }
   ],
   "source": [
    "arrangement(3, discovered, q)"
   ]
  },
  {
   "cell_type": "code",
   "execution_count": 84,
   "metadata": {},
   "outputs": [],
   "source": [
    "discovered = [False] * (4 + 1)\n",
    "q = queue.Queue()\n",
    "#edge_list = {3: [{2, 1}], 2: [{4, 2}, {1, 10}], 4: [{1, 3}], 1: [{3, 4}]}\n",
    "#edge_list = [(3, 2, 1), (2, 4, 2), (4, 1, 3), (2, 1, 10), (1, 3, 4)]\n",
    "graph = [[], [(3, 4)], [(1, 10), (4, 2)], [(2, 1)], [(1, 3)]]\n",
    "cycle_dist = []\n",
    "discovered[0] = True"
   ]
  },
  {
   "cell_type": "code",
   "execution_count": 85,
   "metadata": {},
   "outputs": [],
   "source": [
    "def arrangement(source, discovered, q, summ):\n",
    "    if not discovered[source]:\n",
    "        discovered[source] = True\n",
    "        q.put(source)\n",
    "        bfs3(graph, q, discovered, cycle_dist, source, summ)"
   ]
  },
  {
   "cell_type": "code",
   "execution_count": 86,
   "metadata": {},
   "outputs": [],
   "source": [
    "def bfs3(graph, q, discovered, cycle_dist, source, summ):\n",
    "    if q.empty():\n",
    "        print('getting herre')\n",
    "        print(f'prriinnntttt this sum {summ}')\n",
    "        return\n",
    "\n",
    "    city = q.get()\n",
    "    print(city, end=' ')\n",
    "\n",
    "    adjs = graph[city]\n",
    "    for edge in adjs:\n",
    "        adj = edge[0]\n",
    "        if not discovered[adj]:\n",
    "            discovered[adj] = True\n",
    "            q.put(adj)\n",
    "            summ += edge[1]\n",
    "        elif adj == source:\n",
    "            cycle_dist.append(summ)\n",
    "    bfs3(graph, q, discovered, cycle_dist, source, summ)\n"
   ]
  },
  {
   "cell_type": "code",
   "execution_count": 87,
   "metadata": {
    "tags": []
   },
   "outputs": [
    {
     "output_type": "stream",
     "name": "stdout",
     "text": "3 2 1 4 getting herre\nprriinnntttt this sum 13\n"
    }
   ],
   "source": [
    "arrangement(3, discovered, q, 0)"
   ]
  },
  {
   "cell_type": "code",
   "execution_count": 78,
   "metadata": {},
   "outputs": [
    {
     "output_type": "execute_result",
     "data": {
      "text/plain": "[]"
     },
     "metadata": {},
     "execution_count": 78
    }
   ],
   "source": [
    "cycle_dist"
   ]
  },
  {
   "cell_type": "code",
   "execution_count": null,
   "metadata": {},
   "outputs": [],
   "source": []
  }
 ]
}