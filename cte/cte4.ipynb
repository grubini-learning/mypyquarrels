{
 "metadata": {
  "language_info": {
   "codemirror_mode": {
    "name": "ipython",
    "version": 3
   },
   "file_extension": ".py",
   "mimetype": "text/x-python",
   "name": "python",
   "nbconvert_exporter": "python",
   "pygments_lexer": "ipython3",
   "version": "3.8.5-final"
  },
  "orig_nbformat": 2,
  "kernelspec": {
   "name": "python_defaultSpec_1598035698245",
   "display_name": "Python 3.8.5 64-bit"
  }
 },
 "nbformat": 4,
 "nbformat_minor": 2,
 "cells": [
  {
   "cell_type": "code",
   "execution_count": 99,
   "metadata": {},
   "outputs": [],
   "source": [
    "class Graph:\n",
    "    def __init__(self,vertices, graph):\n",
    "        self.INFINITY = 10 ** 20\n",
    "        self.vertices = vertices\n",
    "        self.distances = [self.INFINITY for _ in range(vertices + 1)]\n",
    "        self.graph = graph\n",
    "\n",
    "    def add_edge(self, nodea, nodeb, weight):\n",
    "        self.neighbour_weight_list[nodea][nodeb] = weight\n",
    "\n",
    "    def get_graph(self):\n",
    "    \treturn self.neighbour_weight_list\n",
    "\n",
    "    def get_min_costs(self):\n",
    "        return min(self.cycle_costs)\n",
    "    \n",
    "    def bellman_ford(self):\n",
    "        end, start, init_weight = self.graph[0]\n",
    "        self.distances[start] = 0\n",
    "\n",
    "        for index in range(1, self.vertices + 1):\n",
    "            changes = False\n",
    "            for nodea, nodeb, weight in self.graph:\n",
    "                #print(f'nodea {nodea} nodeb {nodeb}')\n",
    "                if self.distances[nodeb] > self.distances[nodea] + weight:\n",
    "                    self.distances[nodeb] = self.distances[nodea] + weight\n",
    "                    changes = True\n",
    "                \"\"\"if self.it_reaches(source, nodeb):\n",
    "                    finalists.append((self.distances[nodea] + weight))\"\"\"\n",
    "            if not changes:\n",
    "                break\n",
    "        if self.distances[end] * 2 > self.INFINITY:\n",
    "            return -1\n",
    "        else:\n",
    "            return self.distances[end] + init_weight\n"
   ]
  },
  {
   "cell_type": "code",
   "execution_count": 103,
   "metadata": {
    "tags": []
   },
   "outputs": [],
   "source": [
    "with open(\"rosalind_cte (1).txt\", \"r\") as f:\n",
    "    graphs = int(f.readline())\n",
    "    data = f.readlines()\n",
    "    result = []\n",
    "    count = 0\n",
    "    index = 0\n",
    "        \n",
    "    while index < len(data):\n",
    "        first = True\n",
    "        vertices, edges = map(int, data[index].split())\n",
    "        index += 1\n",
    "        given_edge = (0, 0)\n",
    "        edge_list = data[index : index + edges + 1]\n",
    "        graph = []\n",
    "        for direction in edge_list:\n",
    "            u, v, w = map(int, direction.split())\n",
    "            if first:\n",
    "                given_edge = (u, v)\n",
    "                first = False\n",
    "            graph.append([u, v, w])\n",
    "            count += 1\n",
    "            if count == edges:\n",
    "                new_graph = Graph(vertices, graph)\n",
    "                result.append(new_graph.bellman_ford())\n",
    "                edge_list.clear()\n",
    "                index += count\n",
    "                count = 0\n",
    "                break\n",
    "\n",
    "with open(\"result.txt\", \"w\") as f:\n",
    "    for item in result:\n",
    "        f.write(str(item))\n",
    "        f.write(\" \")"
   ]
  },
  {
   "cell_type": "code",
   "execution_count": null,
   "metadata": {},
   "outputs": [],
   "source": []
  }
 ]
}