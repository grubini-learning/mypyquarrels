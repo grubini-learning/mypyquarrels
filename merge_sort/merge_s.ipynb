{
 "metadata": {
  "language_info": {
   "codemirror_mode": {
    "name": "ipython",
    "version": 3
   },
   "file_extension": ".py",
   "mimetype": "text/x-python",
   "name": "python",
   "nbconvert_exporter": "python",
   "pygments_lexer": "ipython3",
   "version": 3
  },
  "orig_nbformat": 2,
  "kernelspec": {
   "name": "python_defaultSpec_1596701391464",
   "display_name": "Python 3.8.5 64-bit"
  }
 },
 "nbformat": 4,
 "nbformat_minor": 2,
 "cells": [
  {
   "cell_type": "code",
   "execution_count": 83,
   "metadata": {},
   "outputs": [],
   "source": [
    "arr1 = [2, 4, 10, 18]\n",
    "\n",
    "arr2 = [-5, 11, 12]"
   ]
  },
  {
   "cell_type": "code",
   "execution_count": 5,
   "metadata": {},
   "outputs": [],
   "source": [
    "def radix_sort(arr1):\n",
    "    maximum = max(arr1)\n",
    "    for current in range(1, len(arr1), current = current * 10):\n",
    "        count_sort(arr1, current)\n",
    "    "
   ]
  },
  {
   "cell_type": "code",
   "execution_count": 4,
   "metadata": {},
   "outputs": [],
   "source": [
    "def count_sort(digits, place_value):\n",
    "    size = len(digits)\n",
    "    repetitions = []\n",
    "    output = []\n",
    "    current = 0\n",
    "\n",
    "    while current < size:\n",
    "        singleDigit = (digits[current] / place_value) % 10\n",
    "        repetitions[singleDigit] += 1\n",
    "        current = current + 1\n",
    "\n",
    "    accrue = 1\n",
    "    while accrue < 10:\n",
    "        repetitions[accrue] += repetitions[accrue - 1]\n",
    "        accrue += 1\n",
    "\n",
    "    current = 0\n",
    "    while current < 10:\n",
    "        repetitions[current] -= 1\n",
    "        current += 1\n",
    "\n",
    "    current = size - 1\n",
    "    while current >= 0:\n",
    "        elementsBehind = repetitions[(digits[current] / place_value) % 10]\n",
    "        output[elementsBehind] = digits[current]\n",
    "        repetitions[(digits[current] / place_value) % 10] -= 1\n",
    "        current -= 1\n",
    "        \n",
    "    current = 0\n",
    "    while current < size:\n",
    "        digits[current] = output[current]\n",
    "        current += 1\n",
    "    return output"
   ]
  },
  {
   "cell_type": "code",
   "execution_count": 6,
   "metadata": {},
   "outputs": [
    {
     "output_type": "error",
     "ename": "FileNotFoundError",
     "evalue": "[Errno 2] No such file or directory: 'test.txt'",
     "traceback": [
      "\u001b[0;31m---------------------------------------------------------------------------\u001b[0m",
      "\u001b[0;31mFileNotFoundError\u001b[0m                         Traceback (most recent call last)",
      "\u001b[0;32m<ipython-input-6-85f5ee6670dd>\u001b[0m in \u001b[0;36m<module>\u001b[0;34m\u001b[0m\n\u001b[0;32m----> 1\u001b[0;31m \u001b[0;32mwith\u001b[0m \u001b[0mopen\u001b[0m\u001b[0;34m(\u001b[0m\u001b[0;34m\"test.txt\"\u001b[0m\u001b[0;34m,\u001b[0m \u001b[0;34m\"r\"\u001b[0m\u001b[0;34m)\u001b[0m \u001b[0;32mas\u001b[0m \u001b[0mcustom_file\u001b[0m\u001b[0;34m:\u001b[0m\u001b[0;34m\u001b[0m\u001b[0;34m\u001b[0m\u001b[0m\n\u001b[0m\u001b[1;32m      2\u001b[0m     \u001b[0mdata_array\u001b[0m \u001b[0;34m=\u001b[0m \u001b[0mcustom_file\u001b[0m\u001b[0;34m.\u001b[0m\u001b[0mreadlines\u001b[0m\u001b[0;34m(\u001b[0m\u001b[0;34m)\u001b[0m\u001b[0;34m\u001b[0m\u001b[0;34m\u001b[0m\u001b[0m\n\u001b[1;32m      3\u001b[0m     \u001b[0mfirst_array\u001b[0m \u001b[0;34m=\u001b[0m \u001b[0mdata_array\u001b[0m\u001b[0;34m[\u001b[0m\u001b[0;36m1\u001b[0m\u001b[0;34m]\u001b[0m\u001b[0;34m.\u001b[0m\u001b[0msplit\u001b[0m\u001b[0;34m(\u001b[0m\u001b[0;34m)\u001b[0m\u001b[0;34m\u001b[0m\u001b[0;34m\u001b[0m\u001b[0m\n\u001b[1;32m      4\u001b[0m     \u001b[0msecond_array\u001b[0m \u001b[0;34m=\u001b[0m \u001b[0mdata_array\u001b[0m\u001b[0;34m[\u001b[0m\u001b[0;36m3\u001b[0m\u001b[0;34m]\u001b[0m\u001b[0;34m.\u001b[0m\u001b[0msplit\u001b[0m\u001b[0;34m(\u001b[0m\u001b[0;34m)\u001b[0m\u001b[0;34m\u001b[0m\u001b[0;34m\u001b[0m\u001b[0m\n",
      "\u001b[0;31mFileNotFoundError\u001b[0m: [Errno 2] No such file or directory: 'test.txt'"
     ]
    }
   ],
   "source": [
    "with open(\"test.txt\", \"r\") as custom_file:\n",
    "    data_array = custom_file.readlines()\n",
    "    first_array = data_array[1].split()\n",
    "    second_array = data_array[3].split()"
   ]
  },
  {
   "cell_type": "code",
   "execution_count": 89,
   "metadata": {},
   "outputs": [],
   "source": [
    "first_array_num = []\n",
    "for element in first_array:\n",
    "    first_array_num.append(int(element))\n",
    "\n",
    "second_array_num = []\n",
    "for element in second_array:\n",
    "    second_array_num.append(int(element))"
   ]
  },
  {
   "cell_type": "code",
   "execution_count": 90,
   "metadata": {
    "tags": []
   },
   "outputs": [
    {
     "output_type": "stream",
     "name": "stdout",
     "text": "pointer 1\n8736\narra 1\n8737\npointer 2\n9472\narra 2\n9472\n"
    }
   ],
   "source": [
    "with open(\"results.txt\", \"w\") as my_file:\n",
    "    my_file.write(str(merge_sort(first_array_num, second_array_num)).strip(\"[]\").replace(\",\", \"\"))"
   ]
  },
  {
   "cell_type": "code",
   "execution_count": 74,
   "metadata": {},
   "outputs": [
    {
     "output_type": "execute_result",
     "data": {
      "text/plain": "[-9995, -9994, -9994, -9994, -9988, -9985, -9982, -9978, -9974, -9969, -9963]"
     },
     "metadata": {},
     "execution_count": 74
    }
   ],
   "source": [
    "first_array_num[:11]"
   ]
  },
  {
   "cell_type": "code",
   "execution_count": 75,
   "metadata": {},
   "outputs": [
    {
     "output_type": "execute_result",
     "data": {
      "text/plain": "[-9997, -9995, -9993, -9992, -9988, -9988, -9984, -9984, -9982, -9982]"
     },
     "metadata": {},
     "execution_count": 75
    }
   ],
   "source": [
    "second_array_num[:10]"
   ]
  },
  {
   "cell_type": "code",
   "execution_count": null,
   "metadata": {},
   "outputs": [],
   "source": []
  }
 ]
}