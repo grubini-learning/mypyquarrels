{
 "metadata": {
  "language_info": {
   "codemirror_mode": {
    "name": "ipython",
    "version": 3
   },
   "file_extension": ".py",
   "mimetype": "text/x-python",
   "name": "python",
   "nbconvert_exporter": "python",
   "pygments_lexer": "ipython3",
   "version": 3
  },
  "orig_nbformat": 2,
  "kernelspec": {
   "name": "python_defaultSpec_1596836001660",
   "display_name": "Python 3.8.5 64-bit"
  }
 },
 "nbformat": 4,
 "nbformat_minor": 2,
 "cells": [
  {
   "cell_type": "code",
   "execution_count": 3,
   "metadata": {},
   "outputs": [],
   "source": [
    "import itertools\n",
    "# [7, 2, 5, 6, 1, 3, 9, 4, 8]\n",
    "def quick_sort(arr, low, high):\n",
    "    if low < high:\n",
    "        pivot_position = partition(arr, low, high)\n",
    "        \"\"\"quick_sort(arr, low, pivot_position - 1)\n",
    "        quick_sort(arr, pivot_position + 1, high)\"\"\"\n",
    "\n",
    "\n",
    "def partition(arr, low, high):\n",
    "    pivot = arr[low]\n",
    "    start = low + 1\n",
    "    end = high\n",
    "\n",
    "    while start < end:\n",
    "        while True:\n",
    "            if arr[start] > pivot:\n",
    "                break\n",
    "            else:\n",
    "                start += 1\n",
    "    \n",
    "        while True:\n",
    "            if arr[end] < pivot:\n",
    "                break\n",
    "            else:\n",
    "                end -= 1\n",
    "        if start < end:\n",
    "            swap(arr, start, end)\n",
    "    swap(arr, low, end)\n",
    "    return end\n",
    "    \n",
    "\n",
    "\n",
    "def swap(arr, start_index, end_index):\n",
    "    temp = arr[end_index]\n",
    "    arr[end_index] = arr[start_index]\n",
    "    arr[start_index] = temp"
   ]
  },
  {
   "cell_type": "code",
   "execution_count": 4,
   "metadata": {},
   "outputs": [],
   "source": [
    "with open(\"rosalind_par.txt\", \"r\") as custom_file:\n",
    "    data_array = custom_file.readlines()\n",
    "    main_list = [int(text) for text in data_array[1].split()]"
   ]
  },
  {
   "cell_type": "code",
   "execution_count": null,
   "metadata": {},
   "outputs": [],
   "source": [
    "arr = [7, 2, 5, 6, 1, 3, 9, 4, 8]\n",
    "wanted = []\n",
    "for permutation in itertools.permutations(main_list):\n",
    "    found = True\n",
    "    pivot = permutation.index(main_list[0])\n",
    "    for i in range(0, pivot):\n",
    "        if permutation[i] > permutation[pivot]:\n",
    "            found = False\n",
    "            break\n",
    "    for i in range(pivot + 1, len(permutation)):\n",
    "        if permutation[i] < permutation[pivot]:\n",
    "            found = False\n",
    "            break\n",
    "    if found:\n",
    "        wanted = permutation\n",
    "        break\n",
    "#quick_sort(second_arr, 0, len(second_arr) - 1)\n",
    "main_list[0]\n"
   ]
  },
  {
   "cell_type": "code",
   "execution_count": null,
   "metadata": {
    "tags": []
   },
   "outputs": [],
   "source": [
    "wanted"
   ]
  },
  {
   "cell_type": "code",
   "execution_count": null,
   "metadata": {},
   "outputs": [],
   "source": []
  }
 ]
}