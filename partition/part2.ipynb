{
 "metadata": {
  "language_info": {
   "codemirror_mode": {
    "name": "ipython",
    "version": 3
   },
   "file_extension": ".py",
   "mimetype": "text/x-python",
   "name": "python",
   "nbconvert_exporter": "python",
   "pygments_lexer": "ipython3",
   "version": 3
  },
  "orig_nbformat": 2,
  "kernelspec": {
   "name": "python_defaultSpec_1596861010575",
   "display_name": "Python 3.8.5 64-bit"
  }
 },
 "nbformat": 4,
 "nbformat_minor": 2,
 "cells": [
  {
   "cell_type": "code",
   "execution_count": 75,
   "metadata": {},
   "outputs": [],
   "source": [
    "with open(\"rosalind_par3.txt\", 'r') as my_file:\n",
    "    data = my_file.readlines()[1]\n",
    "    ints = [int(number) for number in data.split()]"
   ]
  },
  {
   "cell_type": "code",
   "execution_count": 69,
   "metadata": {
    "tags": []
   },
   "outputs": [],
   "source": [
    "#get the first number\n",
    "#perform quiksort on it\n",
    "def part(array):\n",
    "    turtle = rabbit = start\n",
    "    while rabbit < end:\n",
    "        if xs[rabbit] <= xs[end]:\n",
    "            xs[turtle], xs[rabbit] = xs[rabbit], xs[turlte]\n",
    "            turtle += 1\n",
    "        rabbit += 1\n",
    "    xs[turtle], xs[end] = xs[end], xs[turtle]\n",
    "    return turtle"
   ]
  },
  {
   "cell_type": "code",
   "execution_count": 70,
   "metadata": {},
   "outputs": [],
   "source": [
    "def _pit_stop(array, start, end):\n",
    "    if start >= end:\n",
    "        return\n",
    "    pivot_position = part(array, start, end)\n",
    "    _quicksort(array, start, pivot_position - 1)\n",
    "    _quicksort(array, pivot_position + 1, end)\n",
    "    \n"
   ]
  },
  {
   "cell_type": "code",
   "execution_count": 73,
   "metadata": {},
   "outputs": [],
   "source": [
    "def starting_point(array):\n",
    "    _pit_stop(array, 0, len(array)-1)"
   ]
  },
  {
   "cell_type": "code",
   "execution_count": 76,
   "metadata": {},
   "outputs": [],
   "source": [
    "starting_point(ints)"
   ]
  },
  {
   "cell_type": "code",
   "execution_count": 77,
   "metadata": {},
   "outputs": [],
   "source": [
    "with open(\"result.txt\", \"w\") as my_file:\n",
    "    my_file.write(str(ints).strip(\"[]\").replace(\",\", \"\"))"
   ]
  },
  {
   "cell_type": "code",
   "execution_count": 32,
   "metadata": {},
   "outputs": [],
   "source": [
    "def swap(array, pointer, pointer_b):\n",
    "    temp = array[pointer_a]\n",
    "    array[pointer_a] = array[pointer_b]\n",
    "    array[pointer_b] = temp"
   ]
  },
  {
   "cell_type": "code",
   "execution_count": 54,
   "metadata": {},
   "outputs": [],
   "source": [
    "def partition(xs, start, end):\n",
    "    follower = leader = start\n",
    "    while leader < end:\n",
    "        if xs[leader] <= xs[end]:\n",
    "            xs[follower], xs[leader] = xs[leader], xs[follower]\n",
    "            follower += 1\n",
    "        leader += 1\n",
    "    xs[follower], xs[end] = xs[end], xs[follower]\n",
    "    return follower\n",
    "\n"
   ]
  },
  {
   "cell_type": "code",
   "execution_count": null,
   "metadata": {},
   "outputs": [],
   "source": []
  }
 ]
}