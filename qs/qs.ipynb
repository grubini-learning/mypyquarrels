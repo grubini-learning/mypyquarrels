{
 "metadata": {
  "language_info": {
   "codemirror_mode": {
    "name": "ipython",
    "version": 3
   },
   "file_extension": ".py",
   "mimetype": "text/x-python",
   "name": "python",
   "nbconvert_exporter": "python",
   "pygments_lexer": "ipython3",
   "version": 3
  },
  "orig_nbformat": 2,
  "kernelspec": {
   "name": "python_defaultSpec_1597182829344",
   "display_name": "Python 3.8.5 64-bit"
  }
 },
 "nbformat": 4,
 "nbformat_minor": 2,
 "cells": [
  {
   "cell_type": "code",
   "execution_count": 28,
   "metadata": {
    "tags": []
   },
   "outputs": [],
   "source": [
    "with open(\"rosalind_qs.txt\", 'r') as my_file:\n",
    "    data = my_file.readlines()[1]\n",
    "    ints = [int(number) for number in data.split()]\n",
    "\n",
    "    result_array = quicksort_2(ints)\n",
    "    "
   ]
  },
  {
   "cell_type": "code",
   "execution_count": 29,
   "metadata": {},
   "outputs": [],
   "source": [
    "with open('result.txt','w') as f: \n",
    "    for item in result_array: \n",
    "        f.write(\"%d\" % item) \n",
    "        f.write(\" \")"
   ]
  },
  {
   "cell_type": "code",
   "execution_count": 20,
   "metadata": {},
   "outputs": [],
   "source": [
    "def quicksort_2(my_list):\n",
    "    length = len(my_list)\n",
    "    if length <= 1:\n",
    "        return my_list\n",
    "    else:\n",
    "        pivot = my_list.pop()\n",
    "        lower_items = []\n",
    "        greater_items = []\n",
    "\n",
    "        for number in my_list:\n",
    "            if number > pivot:\n",
    "                greater_items.append(number)\n",
    "            else:\n",
    "                lower_items.append(number)\n",
    "        return quicksort_2(lower_items) + [pivot] + quicksort_2(greater_items)\n"
   ]
  },
  {
   "cell_type": "code",
   "execution_count": null,
   "metadata": {},
   "outputs": [],
   "source": [
    "def main_entrance(my_list):\n",
    "    _pit_stop(my_list, 0, len(my_list) - 1)"
   ]
  },
  {
   "cell_type": "code",
   "execution_count": 17,
   "metadata": {},
   "outputs": [],
   "source": [
    "def _pit_stop(my_list, start, end):\n",
    "    if start > end:\n",
    "        return\n",
    "    pivot = quicksort(my_list)\n",
    "    _pit_stop(my_list, start, pivot - 1)\n",
    "    _pit_stop(my_list, pivot + 1, end)\n",
    "\n"
   ]
  },
  {
   "cell_type": "code",
   "execution_count": null,
   "metadata": {},
   "outputs": [],
   "source": [
    "def quicksort(my_list):\n",
    "    pivot = len(my_list) - 1\n",
    "    start = 0\n",
    "    end = len(my_list) - 2\n",
    "\n",
    "    while start < end:\n",
    "        while my_list[start] < my_list[pivot]:\n",
    "            start += 1\n",
    "        while my_list[end] > my_list[pivot]:\n",
    "            end -= 1\n",
    "        \n",
    "        my_list[start], my_list[end] = my_list[end], my_list[start]\n",
    "    my_list[pivot], my_list[end] = my_list[end], my_list[pivot]\n",
    "\n",
    "    return end"
   ]
  },
  {
   "cell_type": "code",
   "execution_count": null,
   "metadata": {},
   "outputs": [],
   "source": []
  }
 ]
}