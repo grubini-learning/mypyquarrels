{
 "metadata": {
  "language_info": {
   "codemirror_mode": {
    "name": "ipython",
    "version": 3
   },
   "file_extension": ".py",
   "mimetype": "text/x-python",
   "name": "python",
   "nbconvert_exporter": "python",
   "pygments_lexer": "ipython3",
   "version": 3
  },
  "orig_nbformat": 2,
  "kernelspec": {
   "name": "python_defaultSpec_1596701498101",
   "display_name": "Python 3.8.5 64-bit"
  }
 },
 "nbformat": 4,
 "nbformat_minor": 2,
 "cells": [
  {
   "cell_type": "code",
   "execution_count": 213,
   "metadata": {},
   "outputs": [],
   "source": [
    "def radix_sort(arr1):\n",
    "    maximum = max(arr1)\n",
    "    place_value = 1\n",
    "    while int(maximum / place_value) > 0:\n",
    "        count_sort(arr1, place_value)\n",
    "        place_value *= 10"
   ]
  },
  {
   "cell_type": "code",
   "execution_count": 214,
   "metadata": {},
   "outputs": [],
   "source": [
    "def add_ceros(array, max_digits):\n",
    "    new_array = []\n",
    "    for text_number in array:\n",
    "        int_number = int(text_number)\n",
    "        modification = ''\n",
    "        if 100 % int_number != 0:\n",
    "           modification = text_number.zfill(max_digits)\n",
    "        new_array.append(modification)\n",
    "    return new_array"
   ]
  },
  {
   "cell_type": "code",
   "execution_count": 222,
   "metadata": {},
   "outputs": [],
   "source": [
    "def count_sort(digits, place_value):\n",
    "    size = len(digits)\n",
    "    frequencies = [0] * 10\n",
    "    output = [0] * size\n",
    "\n",
    "    for ocurrence_number in range(0, size):\n",
    "        position = int(digits[ocurrence_number] / place_value)\n",
    "        frequencies[(position) % 10] += 1\n",
    "\n",
    "    for true_position in range(1, 10):\n",
    "        frequencies[true_position] += frequencies[true_position - 1]\n",
    "\n",
    "    current_output = size - 1\n",
    "    while current_output >= 0:\n",
    "        position = int(digits[current_output] / place_value)\n",
    "        output[frequencies[int((position) % 10)] - 1] = digits[current_output]\n",
    "        frequencies[int(position % 10)] -= 1\n",
    "        current_output -= 1\n",
    "\n",
    "    for frequency in range(0, size):\n",
    "        digits[frequency] = output [frequency]"
   ]
  },
  {
   "cell_type": "code",
   "execution_count": 328,
   "metadata": {},
   "outputs": [],
   "source": [
    "\n",
    "def merge(array):\n",
    "    if len(array) > 1:\n",
    "        middle = len(array) // 2\n",
    "        left_array = array[:middle]\n",
    "        right_array = array[middle:]\n",
    "\n",
    "        merge(left_array)\n",
    "        merge(right_array)\n",
    "\n",
    "        first_index = second_index = new_index = 0\n",
    "        \n",
    "        while first_index < len(left_array) and second_index < len(right_array):\n",
    "            if left_array[first_index] < right_array[second_index]:\n",
    "                array[new_index] = left_array[first_index]\n",
    "                first_index += 1\n",
    "            else:\n",
    "                array[new_index] = right_array[second_index]\n",
    "                second_index += 1\n",
    "            new_index += 1\n",
    "        \n",
    "        while first_index < len(left_array):\n",
    "                array[new_index] = left_array[first_index]\n",
    "                first_index += 1\n",
    "                new_index += 1\n",
    "\n",
    "        while second_index < len(right_array):\n",
    "                array[new_index] = right_array[second_index]\n",
    "                second_index += 1\n",
    "                new_index += 1\n",
    "\n"
   ]
  },
  {
   "cell_type": "code",
   "execution_count": 330,
   "metadata": {},
   "outputs": [],
   "source": [
    "with open(\"rosalind_ms (1).txt\", \"r\") as custom_file:\n",
    "    data_array = custom_file.readlines()\n",
    "    main_array = [int(text) for text in data_array[1].split()]"
   ]
  },
  {
   "cell_type": "code",
   "execution_count": 332,
   "metadata": {},
   "outputs": [],
   "source": [
    "merge(main_array)"
   ]
  },
  {
   "cell_type": "code",
   "execution_count": 333,
   "metadata": {},
   "outputs": [],
   "source": [
    "with open(\"results.txt\", \"w\") as my_file:\n",
    "    my_file.write(str(main_array).strip(\"[]\").replace(\",\", \"\"))"
   ]
  },
  {
   "cell_type": "code",
   "execution_count": null,
   "metadata": {},
   "outputs": [],
   "source": []
  }
 ]
}