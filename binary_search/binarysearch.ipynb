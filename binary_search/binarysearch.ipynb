{
 "metadata": {
  "language_info": {
   "codemirror_mode": {
    "name": "ipython",
    "version": 3
   },
   "file_extension": ".py",
   "mimetype": "text/x-python",
   "name": "python",
   "nbconvert_exporter": "python",
   "pygments_lexer": "ipython3",
   "version": 3
  },
  "orig_nbformat": 2,
  "kernelspec": {
   "name": "python_defaultSpec_1596608613407",
   "display_name": "Python 3.7.3 64-bit ('3.7.3': pyenv)"
  }
 },
 "nbformat": 4,
 "nbformat_minor": 2,
 "cells": [
  {
   "cell_type": "code",
   "execution_count": 34,
   "metadata": {},
   "outputs": [],
   "source": [
    "import math\n"
   ]
  },
  {
   "cell_type": "code",
   "execution_count": 35,
   "metadata": {},
   "outputs": [],
   "source": [
    "def bin_search(search, arr):\n",
    "    start = 0\n",
    "    end = len(arr)\n",
    "\n",
    "    if arr[0] == search:\n",
    "        return 1\n",
    "\n",
    "    while (start < end - 1):\n",
    "        middle = math.ceil((start + end) / 2)\n",
    "        value = arr[middle]\n",
    "        if value == search:\n",
    "            return middle + 1\n",
    "        elif search > value:\n",
    "            start = middle\n",
    "        else:\n",
    "            end = middle\n",
    "    return - 1"
   ]
  },
  {
   "cell_type": "code",
   "execution_count": 36,
   "metadata": {},
   "outputs": [],
   "source": [
    "def get_array_from_text(path):\n",
    "    f = None\n",
    "    try:\n",
    "        f = open(path, \"r\")\n",
    "        data = f.readlines()\n",
    "    except:\n",
    "        print(\"Reading exception ocurred\")\n",
    "    finally:\n",
    "        f.close()\n",
    "    return data"
   ]
  },
  {
   "cell_type": "code",
   "execution_count": 37,
   "metadata": {},
   "outputs": [],
   "source": [
    "def write_txt_result(name, element):\n",
    "    try:\n",
    "        f = open(\"result.txt\", \"w\")\n",
    "        f.write(str(element).strip('[]').replace(',', ''))\n",
    "    except:\n",
    "        print(\"Writing eeception occured\")\n",
    "    finally:\n",
    "        f.close"
   ]
  },
  {
   "cell_type": "code",
   "execution_count": 46,
   "metadata": {
    "tags": []
   },
   "outputs": [],
   "source": [
    "text_array = get_array_from_text(\"rosalind_bins (5).txt\")"
   ]
  },
  {
   "cell_type": "code",
   "execution_count": 41,
   "metadata": {},
   "outputs": [
    {
     "output_type": "execute_result",
     "data": {
      "text/plain": "4"
     },
     "metadata": {},
     "execution_count": 41
    }
   ],
   "source": [
    "len(text_array)"
   ]
  },
  {
   "cell_type": "code",
   "execution_count": 47,
   "metadata": {},
   "outputs": [],
   "source": [
    "ordered_numbers = [int(number) for number in text_array[2].split()]\n",
    "unorderd_numbers = [int(number) for number in text_array[3].split()]"
   ]
  },
  {
   "cell_type": "code",
   "execution_count": 48,
   "metadata": {},
   "outputs": [],
   "source": [
    "positions = []\n",
    "for number in unorderd_numbers:\n",
    "    positions.append(bin_search(number, ordered_numbers))"
   ]
  },
  {
   "cell_type": "code",
   "execution_count": 49,
   "metadata": {},
   "outputs": [],
   "source": [
    "write_txt_result(\"results.txt\", positions)"
   ]
  },
  {
   "cell_type": "code",
   "execution_count": 45,
   "metadata": {},
   "outputs": [
    {
     "output_type": "execute_result",
     "data": {
      "text/plain": "8385"
     },
     "metadata": {},
     "execution_count": 45
    }
   ],
   "source": [
    "len(positions)"
   ]
  },
  {
   "cell_type": "code",
   "execution_count": null,
   "metadata": {},
   "outputs": [],
   "source": []
  }
 ]
}