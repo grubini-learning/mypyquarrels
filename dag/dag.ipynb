{
 "metadata": {
  "language_info": {
   "codemirror_mode": {
    "name": "ipython",
    "version": 3
   },
   "file_extension": ".py",
   "mimetype": "text/x-python",
   "name": "python",
   "nbconvert_exporter": "python",
   "pygments_lexer": "ipython3",
   "version": 3
  },
  "orig_nbformat": 2,
  "kernelspec": {
   "name": "python_defaultSpec_1597203557052",
   "display_name": "Python 3.8.5 64-bit"
  }
 },
 "nbformat": 4,
 "nbformat_minor": 2,
 "cells": [
  {
   "cell_type": "code",
   "execution_count": 1,
   "metadata": {},
   "outputs": [],
   "source": [
    "def adjaceny_matrix():\n",
    "    with open('test.txt', 'r') as my_file:\n",
    "        vertices, edges = map(int, my_file.readline().strip().split(\" \"))\n",
    "        graph = [[0 for x in range(vertices)] for y in range(vertices)]\n",
    "        for line in my_file:\n",
    "            pair = list(map(int, line.strip().split(\" \")))\n",
    "            vertex1 = pair[0] - 1\n",
    "            vertex2 = pair[1] - 1\n",
    "            graph[vertex1][vertex2] = 1\n",
    "            graph[vertex2][vertex1] = 1\n",
    "        visited = [False for i in range(vertices)]\n",
    "    return graph, visited\n",
    "\n",
    "def dfs_v2(graph, visited):\n",
    "    cc = 0\n",
    "    vertices = len(graph[0])\n",
    "    stack = []\n",
    "\n",
    "    while False in visited:\n",
    "        row = visited.index(False)\n",
    "        stack.append(row)\n",
    "        visited[row] = True\n",
    "        while len(stack) > 0:\n",
    "            row = stack.pop()\n",
    "            column = 0\n",
    "            while column < vertices:\n",
    "                if graph[row][column] == 1:\n",
    "                    if visited[column] == False:\n",
    "                        visited[column] = True\n",
    "                        stack.append(column)\n",
    "                    else:\n",
    "                        return -1\n",
    "\n",
    "                column += 1\n",
    "        return 1\n",
    "    return cc"
   ]
  },
  {
   "cell_type": "code",
   "execution_count": 147,
   "metadata": {
    "tags": []
   },
   "outputs": [],
   "source": [
    "with open(\"test.txt\", \"r\") as my_file:\n",
    "    text_data = my_file.readlines()\n",
    "    data = \"\"\n",
    "    for line in text_data:\n",
    "        data += line.replace(\"\\n\", \"|\")\n",
    "    data = [[pair for pair in text.split(\"|\")] for text in data.split(\"||\")]\n",
    "\n",
    "    datastest = [[[int(nu) for nu in num.split()] for num in number] for number in data[1:]]\n",
    "        "
   ]
  },
  {
   "cell_type": "code",
   "execution_count": 148,
   "metadata": {},
   "outputs": [
    {
     "output_type": "execute_result",
     "data": {
      "text/plain": "[[[2, 1], [1, 2]],\n [[4, 4], [4, 1], [1, 2], [2, 3], [3, 1]],\n [[4, 3], [4, 3], [3, 2], [2, 1]]]"
     },
     "metadata": {},
     "execution_count": 148
    }
   ],
   "source": [
    "datastest"
   ]
  },
  {
   "cell_type": "code",
   "execution_count": null,
   "metadata": {},
   "outputs": [],
   "source": []
  }
 ]
}