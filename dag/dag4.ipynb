{
 "metadata": {
  "language_info": {
   "codemirror_mode": {
    "name": "ipython",
    "version": 3
   },
   "file_extension": ".py",
   "mimetype": "text/x-python",
   "name": "python",
   "nbconvert_exporter": "python",
   "pygments_lexer": "ipython3",
   "version": 3
  },
  "orig_nbformat": 2,
  "kernelspec": {
   "name": "python_defaultSpec_1597392997501",
   "display_name": "Python 3.8.5 64-bit"
  }
 },
 "nbformat": 4,
 "nbformat_minor": 2,
 "cells": [
  {
   "cell_type": "code",
   "execution_count": 1,
   "metadata": {},
   "outputs": [],
   "source": [
    "from enum import Enum\n",
    "\n",
    "class State(Enum):\n",
    "    UNVISITED = 0\n",
    "    EXPLORING = 1\n",
    "    COMPLETE = 2\n",
    "\n",
    "\n",
    "class Graph:\n",
    "    def __init__(self, vertices, directions):\n",
    "        self.vertices = vertices\n",
    "        self.edge_list = [None] * self.vertices\n",
    "        self.visited = [State.UNVISITED.value] * self.vertices\n",
    "        self.construct_edge_list()\n",
    "        self.fill_edge_list(directions)\n",
    "\n",
    "    def construct_edge_list(self):\n",
    "        for index in range(self.vertices):\n",
    "            self.edge_list[index] = []\n",
    "\n",
    "    def fill_edge_list(self, directions):\n",
    "        for edge in directions:\n",
    "           if len(edge) > 0:\n",
    "                a = self.edge_list[edge[0] - 1]\n",
    "                a.append(edge[1] - 1)\n",
    "\n",
    "    def validation(self):\n",
    "        for index in range(self.vertices):\n",
    "            if self.visited[index] == State.UNVISITED and not self.dfs_traversal(index):\n",
    "                return -1\n",
    "        return 1\n",
    "    \n",
    "    def dfs_traversal(self, node):\n",
    "        if self.visited[node - 1] == State.EXPLORING.value:\n",
    "            return False\n",
    "        self.visited[node - 1] = State.EXPLORING.value\n",
    "        for neighbor in self.edge_list[node]:\n",
    "            if not self.dfs_traversal(neighbor):\n",
    "                return False\n",
    "        self.visited[node - 1] = State.COMPLETE\n",
    "        return True\n",
    "        \n"
   ]
  },
  {
   "cell_type": "code",
   "execution_count": 58,
   "metadata": {
    "tags": []
   },
   "outputs": [],
   "source": [
    "with open(\"rosalind_dag (4).txt\", \"r\") as my_file:\n",
    "        text_data = my_file.readlines()\n",
    "        graphs = int(text_data[0].strip())\n",
    "        data = \"\"\n",
    "        result = []\n",
    "        for line in text_data:\n",
    "            data += line.replace(\"\\n\", \"|\")\n",
    "        data = [[pair for pair in text.split(\"|\")] for text in data.split(\"||\")]\n",
    "\n",
    "        datastest = [[[int(nu) for nu in num.split()]\n",
    "                      for num in number] for number in data[1:]]\n",
    "\n",
    "        for index in range(0, graphs):\n",
    "            vertices, edges = datastest[index][0]\n",
    "            g = Graph(vertices, datastest[index][1:])\n",
    "            answer = g.validation()\n",
    "            result.append(answer)\n",
    "with open('./result.txt', 'w') as f:\n",
    "    for item in result:\n",
    "        f.write(\"%d\" % item)\n",
    "        f.write(\" \")"
   ]
  },
  {
   "cell_type": "code",
   "execution_count": null,
   "metadata": {},
   "outputs": [],
   "source": []
  }
 ]
}