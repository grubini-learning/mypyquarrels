{
 "metadata": {
  "language_info": {
   "codemirror_mode": {
    "name": "ipython",
    "version": 3
   },
   "file_extension": ".py",
   "mimetype": "text/x-python",
   "name": "python",
   "nbconvert_exporter": "python",
   "pygments_lexer": "ipython3",
   "version": 3
  },
  "orig_nbformat": 2,
  "kernelspec": {
   "name": "python_defaultSpec_1597370004583",
   "display_name": "Python 3.8.5 64-bit"
  }
 },
 "nbformat": 4,
 "nbformat_minor": 2,
 "cells": [
  {
   "cell_type": "code",
   "execution_count": 1,
   "metadata": {},
   "outputs": [],
   "source": [
    "def adjecency_matrix_v2(my_list, index):\n",
    "    vertices, edges = my_list[index]\n",
    "    graph = [[0 for x in range(vertices)] for y in range(vertices)]\n",
    "    print(f'thisis the lenghth {edges}')\n",
    "    print(f'length of the graph {len(graph[0])} ')\n",
    "\n",
    "    \n",
    "    for pair in my_list[1:]:\n",
    "        if pair[0] > vertices or pair[1] > vertices:\n",
    "            print(f'{edges} is smaller than {str(pair)}')\n",
    "        vertex1 = pair[0] - 1\n",
    "        vertex2 = pair[1] - 1\n",
    "        graph[vertex1][vertex2] = 1\n",
    "        visited = [-1 for i in range(vertices)]\n",
    "    return graph, visited"
   ]
  },
  {
   "cell_type": "code",
   "execution_count": 183,
   "metadata": {},
   "outputs": [],
   "source": [
    "from enum import Enum\n",
    "\n",
    "class State(Enum):\n",
    "    UNVISITED = 1\n",
    "    PASSING = 2\n",
    "    VISITED = 3\n",
    "\n",
    "\n",
    "class Graph:\n",
    "    def __init__(self, vertices):\n",
    "        self.directions = {node + 1: [] for node in range(vertices)}\n",
    "        self.vertices = vertices\n",
    "        self.stack = []\n",
    "\n",
    "    def add_edge(self, origin, destination):\n",
    "        if origin in self.directions:\n",
    "            if destination in self.directions[origin]:\n",
    "                return\n",
    "        self.directions[origin].append(destination)\n",
    "\n",
    "    def get_graph(self):\n",
    "        return self.directions\n",
    "\n",
    "    \"\"\"def validate(self, visited):\n",
    "        node = self.stack.pop()\n",
    "        visited[node - 1] = State.PASSING\n",
    "        neighbors = self.directions[node]\n",
    "        for neighbor in neighbors:\n",
    "            if visited[neighbor - 1] == State.UNVISITED.value:\n",
    "                return neighbor\n",
    "        return None\n",
    "\n",
    "    def explore_adjacent(self, neighbors, visited):\n",
    "        current = 0\n",
    "        while len(self.stack) > 0:\n",
    "            neighbor = neighbors[current]\n",
    "            if visited[neighbor - 1] == State.VISITED.value:\n",
    "                return -1\n",
    "            else:\n",
    "                visited[neighbor - 1] = State.VISITED.value\n",
    "                self.stack.append(neighbor)\n",
    "                neighbors = self.directions[neighbor]\n",
    "\n",
    "                while len(neighbors) == 0 or visited[neighbor - 1] == State.PASSING.value:\n",
    "                    visited[neighbor - 1] = State.PASSING.value\n",
    "                    neighbor = self.validate(visited)\n",
    "                    if len(self.stack) > 0 and neighbor != None:\n",
    "                        neighbor = self.stack.pop()\n",
    "                        visited[neighbor - 1] = State.PASSING.value\n",
    "                    else:\n",
    "                        return None\n",
    "\n",
    "    def check_for_cycles(self):\n",
    "        visited = [State.UNVISITED.value for _ in range(self.vertices)]\n",
    "        node = min(self.directions)\n",
    "        index = node\n",
    "\n",
    "        for index in range(index, len(self.directions)):\n",
    "            self.stack.clear()\n",
    "            visited = list(map((lambda x: State.UNVISITED.value), visited))\n",
    "            visited[index - 1] = State.VISITED.value\n",
    "            self.stack.append(index)\n",
    "            neighbors = self.directions[index]\n",
    "\n",
    "            if len(neighbors) > 0:\n",
    "                result = self.explore_adjacent(neighbors, visited)\n",
    "                if result == -1:\n",
    "                    return -1\n",
    "            else:\n",
    "                self.stack.clear()\n",
    "                continue\n",
    "        return 1\"\"\"\n",
    "    def isCyclic_util(self, visited, curr):\n",
    "\n",
    "        if visited[curr]==True:\n",
    "            return True\n",
    "    \n",
    "        visited[curr] = True\n",
    "        FLAG = False\n",
    "\n",
    "        for i in range(0, len(self.directions[curr])):\n",
    "            FLAG = self.isCyclic_util(visited, self.directions[curr][i])\n",
    "            if FLAG==True:\n",
    "                return True\n",
    "        return False\n",
    "\n",
    "    def has_cycle(self):\n",
    "        V = self.vertices\n",
    "        visited = [False for _ in range(0, V)]\n",
    "        FLAG = False\n",
    "        for i in range(0, V):\n",
    "            visited[i] = True\n",
    "            for j in range(1, len(self.directions)):\n",
    "                FLAG = self.isCyclic_util(visited, self.directions[i][j])\n",
    "                if FLAG==True:\n",
    "                    return True\n",
    "            visited[i] = False\n",
    "        return False\n"
   ]
  },
  {
   "cell_type": "code",
   "execution_count": null,
   "metadata": {},
   "outputs": [],
   "source": []
  },
  {
   "cell_type": "code",
   "execution_count": 120,
   "metadata": {},
   "outputs": [],
   "source": [
    "g = Graph(4)"
   ]
  },
  {
   "cell_type": "code",
   "execution_count": 44,
   "metadata": {},
   "outputs": [
    {
     "output_type": "execute_result",
     "data": {
      "text/plain": "[[1, 2], [4, 1], [2, 3]]"
     },
     "metadata": {},
     "execution_count": 44
    }
   ],
   "source": [
    "[[1, 2] ,[4, 1] ,[2, 3]]"
   ]
  },
  {
   "cell_type": "code",
   "execution_count": 121,
   "metadata": {},
   "outputs": [],
   "source": [
    "g.add_edge(4, 3)\n",
    "g.add_edge(4, 3)\n",
    "g.add_edge(3, 2)\n",
    "g.add_edge(2, 1)"
   ]
  },
  {
   "cell_type": "code",
   "execution_count": 184,
   "metadata": {
    "tags": []
   },
   "outputs": [
    {
     "output_type": "stream",
     "name": "stdout",
     "text": "[[[2, 1], [1, 2]], [[4, 4], [4, 1], [1, 2], [2, 3], [3, 1]], [[4, 3], [4, 3], [3, 2], [2, 1]]]\n"
    },
    {
     "output_type": "error",
     "ename": "UnboundLocalError",
     "evalue": "local variable 'i' referenced before assignment",
     "traceback": [
      "\u001b[0;31m---------------------------------------------------------------------------\u001b[0m",
      "\u001b[0;31mUnboundLocalError\u001b[0m                         Traceback (most recent call last)",
      "\u001b[0;32m<ipython-input-184-d1a4b5be5fc8>\u001b[0m in \u001b[0;36m<module>\u001b[0;34m\u001b[0m\n\u001b[1;32m     30\u001b[0m \u001b[0;34m\u001b[0m\u001b[0m\n\u001b[1;32m     31\u001b[0m \u001b[0;32mif\u001b[0m \u001b[0;34m'__main()__'\u001b[0m\u001b[0;34m:\u001b[0m\u001b[0;34m\u001b[0m\u001b[0;34m\u001b[0m\u001b[0m\n\u001b[0;32m---> 32\u001b[0;31m     \u001b[0mmain\u001b[0m\u001b[0;34m(\u001b[0m\u001b[0;34m)\u001b[0m\u001b[0;34m\u001b[0m\u001b[0;34m\u001b[0m\u001b[0m\n\u001b[0m",
      "\u001b[0;32m<ipython-input-184-d1a4b5be5fc8>\u001b[0m in \u001b[0;36mmain\u001b[0;34m()\u001b[0m\n\u001b[1;32m     21\u001b[0m                 \u001b[0mu\u001b[0m\u001b[0;34m,\u001b[0m \u001b[0mv\u001b[0m \u001b[0;34m=\u001b[0m \u001b[0mdatastest\u001b[0m\u001b[0;34m[\u001b[0m\u001b[0mindex\u001b[0m\u001b[0;34m]\u001b[0m\u001b[0;34m[\u001b[0m\u001b[0mpair\u001b[0m\u001b[0;34m]\u001b[0m\u001b[0;34m\u001b[0m\u001b[0;34m\u001b[0m\u001b[0m\n\u001b[1;32m     22\u001b[0m                 \u001b[0mg\u001b[0m\u001b[0;34m.\u001b[0m\u001b[0madd_edge\u001b[0m\u001b[0;34m(\u001b[0m\u001b[0mu\u001b[0m\u001b[0;34m,\u001b[0m \u001b[0mv\u001b[0m\u001b[0;34m)\u001b[0m\u001b[0;34m\u001b[0m\u001b[0;34m\u001b[0m\u001b[0m\n\u001b[0;32m---> 23\u001b[0;31m             \u001b[0manswer\u001b[0m \u001b[0;34m=\u001b[0m \u001b[0mg\u001b[0m\u001b[0;34m.\u001b[0m\u001b[0mhas_cycle\u001b[0m\u001b[0;34m(\u001b[0m\u001b[0;34m)\u001b[0m\u001b[0;34m\u001b[0m\u001b[0;34m\u001b[0m\u001b[0m\n\u001b[0m\u001b[1;32m     24\u001b[0m             \u001b[0mresult\u001b[0m\u001b[0;34m.\u001b[0m\u001b[0mappend\u001b[0m\u001b[0;34m(\u001b[0m\u001b[0manswer\u001b[0m\u001b[0;34m)\u001b[0m\u001b[0;34m\u001b[0m\u001b[0;34m\u001b[0m\u001b[0m\n\u001b[1;32m     25\u001b[0m         \u001b[0mprint\u001b[0m\u001b[0;34m(\u001b[0m\u001b[0mstr\u001b[0m\u001b[0;34m(\u001b[0m\u001b[0mresult\u001b[0m\u001b[0;34m)\u001b[0m\u001b[0;34m)\u001b[0m\u001b[0;34m\u001b[0m\u001b[0;34m\u001b[0m\u001b[0m\n",
      "\u001b[0;32m<ipython-input-183-592f38176cfd>\u001b[0m in \u001b[0;36mhas_cycle\u001b[0;34m(self)\u001b[0m\n\u001b[1;32m     90\u001b[0m         \u001b[0mFLAG\u001b[0m \u001b[0;34m=\u001b[0m \u001b[0;32mFalse\u001b[0m\u001b[0;34m\u001b[0m\u001b[0;34m\u001b[0m\u001b[0m\n\u001b[1;32m     91\u001b[0m         \u001b[0;32mfor\u001b[0m \u001b[0mj\u001b[0m \u001b[0;32min\u001b[0m \u001b[0mrange\u001b[0m\u001b[0;34m(\u001b[0m\u001b[0;36m0\u001b[0m\u001b[0;34m,\u001b[0m \u001b[0mV\u001b[0m\u001b[0;34m)\u001b[0m\u001b[0;34m:\u001b[0m\u001b[0;34m\u001b[0m\u001b[0;34m\u001b[0m\u001b[0m\n\u001b[0;32m---> 92\u001b[0;31m             \u001b[0mvisited\u001b[0m\u001b[0;34m[\u001b[0m\u001b[0mi\u001b[0m\u001b[0;34m]\u001b[0m \u001b[0;34m=\u001b[0m \u001b[0;32mTrue\u001b[0m\u001b[0;34m\u001b[0m\u001b[0;34m\u001b[0m\u001b[0m\n\u001b[0m\u001b[1;32m     93\u001b[0m             \u001b[0;32mfor\u001b[0m \u001b[0mi\u001b[0m \u001b[0;32min\u001b[0m \u001b[0mrange\u001b[0m\u001b[0;34m(\u001b[0m\u001b[0;36m1\u001b[0m\u001b[0;34m,\u001b[0m \u001b[0mlen\u001b[0m\u001b[0;34m(\u001b[0m\u001b[0mself\u001b[0m\u001b[0;34m.\u001b[0m\u001b[0mdirections\u001b[0m\u001b[0;34m)\u001b[0m\u001b[0;34m)\u001b[0m\u001b[0;34m:\u001b[0m\u001b[0;34m\u001b[0m\u001b[0;34m\u001b[0m\u001b[0m\n\u001b[1;32m     94\u001b[0m                 \u001b[0mFLAG\u001b[0m \u001b[0;34m=\u001b[0m \u001b[0mself\u001b[0m\u001b[0;34m.\u001b[0m\u001b[0misCyclic_util\u001b[0m\u001b[0;34m(\u001b[0m\u001b[0mvisited\u001b[0m\u001b[0;34m,\u001b[0m \u001b[0mself\u001b[0m\u001b[0;34m.\u001b[0m\u001b[0mdirections\u001b[0m\u001b[0;34m[\u001b[0m\u001b[0mi\u001b[0m\u001b[0;34m]\u001b[0m\u001b[0;34m)\u001b[0m\u001b[0;34m\u001b[0m\u001b[0;34m\u001b[0m\u001b[0m\n",
      "\u001b[0;31mUnboundLocalError\u001b[0m: local variable 'i' referenced before assignment"
     ]
    }
   ],
   "source": [
    "def main():\n",
    "    with open(\"test.txt\", \"r\") as my_file:\n",
    "        text_data = my_file.readlines()\n",
    "        graphs = int(text_data[0].strip())\n",
    "        data = \"\"\n",
    "        result = []\n",
    "        for line in text_data:\n",
    "            data += line.replace(\"\\n\", \"|\")\n",
    "        data = [[pair for pair in text.split(\"|\")] for text in data.split(\"||\")]\n",
    "\n",
    "        datastest = [[[int(nu) for nu in num.split()]\n",
    "                      for num in number] for number in data[1:]]\n",
    "\n",
    "        print(str(datastest))\n",
    "\n",
    "        for index in range(graphs):\n",
    "            vertices, edges = datastest[index][0]\n",
    "            g = Graph(vertices)\n",
    "\n",
    "            for pair in range(1, edges):\n",
    "                u, v = datastest[index][pair]\n",
    "                g.add_edge(u, v)\n",
    "            answer = g.has_cycle()\n",
    "            result.append(answer)\n",
    "        print(str(result))\n",
    "    with open('./result.txt', 'w') as f:\n",
    "        for item in result:\n",
    "            f.write(\"%d\" % item)\n",
    "            f.write(\" \")\n",
    "\n",
    "if '__main()__':\n",
    "    main()"
   ]
  },
  {
   "cell_type": "code",
   "execution_count": 95,
   "metadata": {},
   "outputs": [],
   "source": [
    "dictio = {1: [5], 4:[6], -1: []}"
   ]
  },
  {
   "cell_type": "code",
   "execution_count": 96,
   "metadata": {},
   "outputs": [
    {
     "output_type": "execute_result",
     "data": {
      "text/plain": "-1"
     },
     "metadata": {},
     "execution_count": 96
    }
   ],
   "source": [
    "min(dictio)"
   ]
  },
  {
   "cell_type": "code",
   "execution_count": 164,
   "metadata": {},
   "outputs": [
    {
     "output_type": "error",
     "ename": "NameError",
     "evalue": "name 'result' is not defined",
     "traceback": [
      "\u001b[0;31m---------------------------------------------------------------------------\u001b[0m",
      "\u001b[0;31mNameError\u001b[0m                                 Traceback (most recent call last)",
      "\u001b[0;32m<ipython-input-164-0ac921c19f1a>\u001b[0m in \u001b[0;36m<module>\u001b[0;34m\u001b[0m\n\u001b[0;32m----> 1\u001b[0;31m \u001b[0mresult\u001b[0m\u001b[0;34m\u001b[0m\u001b[0;34m\u001b[0m\u001b[0m\n\u001b[0m",
      "\u001b[0;31mNameError\u001b[0m: name 'result' is not defined"
     ]
    }
   ],
   "source": [
    "result"
   ]
  },
  {
   "cell_type": "code",
   "execution_count": 111,
   "metadata": {
    "tags": []
   },
   "outputs": [
    {
     "output_type": "stream",
     "name": "stdout",
     "text": "[[[4, 3], [4, 3], [3, 2], [2, 1]]]\n"
    }
   ],
   "source": []
  },
  {
   "cell_type": "code",
   "execution_count": 116,
   "metadata": {
    "tags": []
   },
   "outputs": [],
   "source": [
    "test()"
   ]
  },
  {
   "cell_type": "code",
   "execution_count": 151,
   "metadata": {},
   "outputs": [],
   "source": [
    "tr = [True, True, True]"
   ]
  },
  {
   "cell_type": "code",
   "execution_count": 152,
   "metadata": {},
   "outputs": [],
   "source": [
    "tr = list(map((lambda x: False), tr))"
   ]
  },
  {
   "cell_type": "code",
   "execution_count": 147,
   "metadata": {
    "tags": []
   },
   "outputs": [
    {
     "output_type": "error",
     "ename": "TypeError",
     "evalue": "'bool' object is not callable",
     "traceback": [
      "\u001b[0;31m---------------------------------------------------------------------------\u001b[0m",
      "\u001b[0;31mTypeError\u001b[0m                                 Traceback (most recent call last)",
      "\u001b[0;32m<ipython-input-147-b7b03c0b28f6>\u001b[0m in \u001b[0;36m<module>\u001b[0;34m\u001b[0m\n\u001b[0;32m----> 1\u001b[0;31m \u001b[0mprint\u001b[0m\u001b[0;34m(\u001b[0m\u001b[0mlist\u001b[0m\u001b[0;34m(\u001b[0m\u001b[0mtr\u001b[0m\u001b[0;34m)\u001b[0m\u001b[0;34m)\u001b[0m\u001b[0;34m\u001b[0m\u001b[0;34m\u001b[0m\u001b[0m\n\u001b[0m",
      "\u001b[0;31mTypeError\u001b[0m: 'bool' object is not callable"
     ]
    }
   ],
   "source": [
    "print(list(tr))"
   ]
  },
  {
   "cell_type": "code",
   "execution_count": 153,
   "metadata": {},
   "outputs": [
    {
     "output_type": "execute_result",
     "data": {
      "text/plain": "[False, False, False]"
     },
     "metadata": {},
     "execution_count": 153
    }
   ],
   "source": [
    "tr"
   ]
  },
  {
   "cell_type": "code",
   "execution_count": null,
   "metadata": {},
   "outputs": [],
   "source": [
    "list(map((lambda x: x + 100), casualties))"
   ]
  }
 ]
}