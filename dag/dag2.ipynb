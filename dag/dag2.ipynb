{
 "metadata": {
  "language_info": {
   "codemirror_mode": {
    "name": "ipython",
    "version": 3
   },
   "file_extension": ".py",
   "mimetype": "text/x-python",
   "name": "python",
   "nbconvert_exporter": "python",
   "pygments_lexer": "ipython3",
   "version": 3
  },
  "orig_nbformat": 2,
  "kernelspec": {
   "name": "python_defaultSpec_1597337995151",
   "display_name": "Python 3.8.5 64-bit"
  }
 },
 "nbformat": 4,
 "nbformat_minor": 2,
 "cells": [
  {
   "cell_type": "code",
   "execution_count": 137,
   "metadata": {},
   "outputs": [],
   "source": [
    "from enum import Enum\n",
    "\n",
    "class Status(Enum):\n",
    "    UNVISITED = 1\n",
    "    PASSING = 2\n",
    "    VISITED = 3\n",
    "\n",
    "\n",
    "#resources\n",
    "global records\n",
    "global agenda\n",
    "global cycles\n",
    "\n",
    "def travel(entry, agenda):\n",
    "    origin, destination = entry\n",
    "    return record_visited(origin, destination, agenda)\n",
    "\n",
    "def validation(destination, agenda):\n",
    "    if agenda[destination - 1] != Status.VISITED.value:\n",
    "        return True\n",
    "    return False\n",
    "\n",
    "def record_visited(origin, destination, agenda):\n",
    "    print(f'agenda beginning {agenda} and the {origin} ===> {destination}')\n",
    "    if validation(destination, agenda):\n",
    "        agenda[origin - 1] = Status.VISITED.value\n",
    "        agenda[destination - 1] = Status.VISITED.value\n",
    "        print(f'agenda end {agenda}')\n",
    "    else:\n",
    "        return -1\n",
    "\n",
    "cycles = []\n",
    "def orchestrator():\n",
    "    f = open(\"test.txt\", \"r\")\n",
    "    countries = int(f.readline())\n",
    "    f.readline()\n",
    "    for _ in range(0, countries):\n",
    "        cities, bridges = map(int, f.readline().split())\n",
    "        agenda = init_trip(cities)\n",
    "        for _ in range(0, bridges):\n",
    "            entry = map(int, f.readline().split())\n",
    "            history = travel(entry, agenda)\n",
    "            print(f'the history {str(history)}')\n",
    "            if history == -1:\n",
    "                cycles.append(history)\n",
    "                break\n",
    "        if history != -1:\n",
    "            cycles.append(1)\n",
    "        next_country(f)\n",
    "\n",
    "records = []\n",
    "agenda = None\n",
    "def init_trip(cities):\n",
    "    print('=====>')\n",
    "    return [Status.UNVISITED.value] * cities\n",
    "        \n",
    "def next_country(f):\n",
    "    entry = f.readline()\n",
    "    print(f'this is the entry {str(entry)}')\n",
    "    while entry != \"\\n\":\n",
    "        entry = f.readline()\n",
    "        if entry == \"\":\n",
    "            return\n",
    "    return"
   ]
  },
  {
   "cell_type": "code",
   "execution_count": 138,
   "metadata": {
    "tags": []
   },
   "outputs": [
    {
     "output_type": "stream",
     "name": "stdout",
     "text": "=====>\nagenda beginning [1, 1] and the 1 ===> 2\nagenda end [1, 3]\nthe history None\nthis is the entry \n\n=====>\nagenda beginning [1, 1, 1, 1] and the 1 ===> 2\nagenda end [1, 3, 1, 1]\nthe history None\nagenda beginning [1, 3, 1, 1] and the 4 ===> 1\nagenda end [3, 3, 1, 1]\nthe history None\nagenda beginning [3, 3, 1, 1] and the 2 ===> 3\nagenda end [3, 3, 3, 1]\nthe history None\nagenda beginning [3, 3, 3, 1] and the 3 ===> 1\nthe history -1\nthis is the entry \n\n=====>\nagenda beginning [1, 1, 1, 1] and the 4 ===> 3\nagenda end [1, 1, 3, 1]\nthe history None\nagenda beginning [1, 1, 3, 1] and the 3 ===> 2\nagenda end [1, 3, 3, 1]\nthe history None\nagenda beginning [1, 3, 3, 1] and the 2 ===> 1\nagenda end [3, 3, 3, 1]\nthe history None\nthis is the entry \n"
    }
   ],
   "source": [
    "orchestrator()"
   ]
  },
  {
   "cell_type": "code",
   "execution_count": 139,
   "metadata": {},
   "outputs": [
    {
     "output_type": "execute_result",
     "data": {
      "text/plain": "[1, -1, 1]"
     },
     "metadata": {},
     "execution_count": 139
    }
   ],
   "source": [
    "cycles"
   ]
  },
  {
   "cell_type": "code",
   "execution_count": null,
   "metadata": {},
   "outputs": [],
   "source": []
  }
 ]
}