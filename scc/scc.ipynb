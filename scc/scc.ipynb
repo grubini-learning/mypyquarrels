{
 "metadata": {
  "language_info": {
   "codemirror_mode": {
    "name": "ipython",
    "version": 3
   },
   "file_extension": ".py",
   "mimetype": "text/x-python",
   "name": "python",
   "nbconvert_exporter": "python",
   "pygments_lexer": "ipython3",
   "version": "3.8.5-final"
  },
  "orig_nbformat": 2,
  "kernelspec": {
   "name": "python_defaultSpec_1597957540674",
   "display_name": "Python 3.8.5 64-bit"
  }
 },
 "nbformat": 4,
 "nbformat_minor": 2,
 "cells": [
  {
   "cell_type": "code",
   "execution_count": 270,
   "metadata": {},
   "outputs": [],
   "source": [
    "class Graph:\n",
    "    def __init__(self, vertices):\n",
    "        self.vertices = vertices\n",
    "        self.graph = {vertex: set([]) for vertex in range(self.vertices + 1)}\n",
    "        self.reversed_graph = {vertex: set([]) for vertex in range(self.vertices + 1)}\n",
    "        self.visited = []\n",
    "        self.stack = []\n",
    "\n",
    "    def add_edge(self, origin, destination):\n",
    "        self.graph[origin].add(destination)\n",
    "        self.reversed_graph[destination].add(origin)\n",
    "\n",
    "    def get_graph(self):\n",
    "        return self.graph\n",
    "    \n",
    "    def get_vertices(self):\n",
    "        return self.vertices\n",
    "\n",
    "    def first_run(self):\n",
    "        for vertex in range(1, self.vertices + 1):\n",
    "            if vertex not in self.visited:\n",
    "                self.dfs(vertex, True, self.graph)\n",
    "        self.visited.clear()\n",
    "\n",
    "    def get_connected(self):\n",
    "        count = 0\n",
    "        while len(self.stack) > 0:\n",
    "            element = self.stack.pop()\n",
    "            if element not in self.visited:\n",
    "                self.dfs(element, False, self.reversed_graph)\n",
    "                count += 1\n",
    "        return count\n",
    "\n",
    "    def dfs(self, start, flag, graph):\n",
    "        self.visited.append(start)\n",
    "\n",
    "        for element in graph[start]:\n",
    "            if element not in self.visited:\n",
    "                self.dfs(element, flag, graph)\n",
    "\n",
    "        self.stack.append(start)\n",
    "            "
   ]
  },
  {
   "cell_type": "code",
   "execution_count": 269,
   "metadata": {
    "tags": []
   },
   "outputs": [
    {
     "output_type": "stream",
     "name": "stdout",
     "text": "301\n"
    }
   ],
   "source": [
    "with open(\"rosalind_scc (5).txt\", \"r\") as f:\n",
    "    vertices, edges = map(int, f.readline().split())\n",
    "    g = Graph(vertices)\n",
    "\n",
    "    while True:\n",
    "        line = f.readline()\n",
    "        if not line:\n",
    "            break\n",
    "        nodea, nodeb = map(int, line.split())\n",
    "        g.add_edge(nodea, nodeb)\n",
    "    \n",
    "    \n",
    "    g.first_run()\n",
    "    print(g.get_connected())"
   ]
  }
 ]
}